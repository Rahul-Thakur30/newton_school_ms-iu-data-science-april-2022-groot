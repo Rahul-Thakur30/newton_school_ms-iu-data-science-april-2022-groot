{
 "cells": [
  {
   "cell_type": "code",
   "execution_count": 2,
   "id": "dada9744",
   "metadata": {},
   "outputs": [
    {
     "name": "stdout",
     "output_type": "stream",
     "text": [
      "{\"summary\":[\" WordPress owner Automattic Inc. has agreed to take Tumblr off of Verizon’s hands. Terms of the deal are undisclosed, but the asking price is “nominal,” according to an article in The Wall Street Journal. Tumblr was Yahoo's largest acquisition at the time, as then-CEO Marissa Mayer “promise[d] not to screw it up” in a statement made in May. The company runs WordPress.com, one of the internet's most popular publishing tools, and Jetpack.com.\"],\"article_text\":\"Six years after Yahoo purchased Tumblr for north of $1 billion, its parent corporation is selling the once-dominant blogging platform. WordPress owner Automattic Inc. has agreed to take the service off of Verizon’s hands. Terms of the deal are undisclosed, but the number is “nominal,” compared to its original asking price, per an article in The Wall Street Journal.\\n\\nAxios is reporting that the asking price for the platform is “well below $20 million,” a fraction of a fraction of its 2013 price tag.\\n\\nOnce the hottest game in town, the intervening half-decade has been tough on Tumblr, as sites like Facebook, Instagram, Reddit and the like have since left the platform in the dust. More recently, a decision to ban porn from the platform has had a marked negative impact on the service’s traffic. According to Sensor Tower, first-time users for Tumblr’s mobile app declined 33% year-over-year last quarter.\\n\\n“Tumblr is one of the Web’s most iconic brands,” Automattic CEO Matt Mullenweg said of the news. “It is an essential venue to share new ideas, cultures and experiences, helping millions create and build communities around their shared interests. We are excited to add it to our lineup, which already includes WordPress.com, WooCommerce, Jetpack, Simplenote, Longreads, and more.”\\n\\nThe news certainly isn’t surprising. In May, it was reported that Verizon was looking for a new owner for the site it inherited through its acquisition of Yahoo. Tumblr was Yahoo’s largest acquisition at the time, as then-CEO Marissa Mayer “promise[d] not to screw it up” in a statement made at the time.\\n\\nTumblr proved not to be a great fit for Yahoo — and even less so Verizon, which rolled the platform into its short-lived Oath business and later the Verizon Media Group (also TechCrunch’s umbrella company). On the face of it, at least, Automattic seems a much better match. The company runs WordPress.com, one of the internet’s most popular publishing tools, along with Jetpack and Simplenote. As part of the deal, the company will take on 200 Tumblr staffers.\\n\\n“We couldn’t be more excited to be joining a team that has a similar mission. Many of you know WordPress.com, Automattic’s flagship product. WordPress.com and Tumblr were both early pioneers among blogging platforms,” Tumblr fittingly wrote in a blog post. “Automattic shares our vision to build passionate communities around shared interests and to democratize publishing so that anyone with a story can tell it, especially when they come from under-heard voices and marginalized communities.”\\n\\n“Today’s announcement is the culmination of a thoughtful, thorough and strategic process,” Verizon Media CEO Guru Gowrappan said in a statement. “Tumblr is a marquee brand that has started movements, allowed for true identities to blossom and become home to many creative communities and fandoms. We are proud of what the team has accomplished and are happy to have found the perfect partner in Automattic, whose expertise and track record will unlock new and exciting possibilities for Tumblr and its users.”\",\"article_title\":\"Verizon is selling Tumblr to WordPress.com parent, Automattic\",\"article_authors\":[\"Brian Heater\"],\"article_image\":\"https://techcrunch.com/wp-content/uploads/2019/08/tumblr-phone-sold.png\",\"article_pub_date\":\"Aug 12, 2019\",\"article_url\":\"https://techcrunch.com/2019/08/12/verizon-is-selling-tumblr-to-wordpress-parent-automattic/\",\"article_html\":\"<div><p id=\\\"speakable-summary\\\">Six years after Yahoo purchased Tumblr for north of $1 billion, its parent corporation is selling the once-dominant blogging platform. WordPress owner Automattic Inc. has agreed to take the service off of Verizon&#8217;s hands. Terms of the deal are undisclosed, but the number is &#8220;nominal,&#8221; compared to its original asking price, per <a href=\\\"https://www.wsj.com/articles/verizon-to-sell-tumblr-to-wordpress-owner-11565640000\\\">an article in The Wall Street Journal</a>.</p>\\n<p><a href=\\\"https://www.axios.com/verizon-tumblr-wordpress-automattic-e6645edd-bc73-45c2-9380-9fe8ca34291f.html\\\">Axios is reporting</a> that the asking price for the platform is &#8220;well below $20 million,&#8221; a fraction of a fraction of its 2013 price tag.</p>\\n<p>Once the hottest game in town, the intervening half-decade has been tough on Tumblr, as sites like Facebook, Instagram, Reddit and the like have since left the platform in the dust. More recently, a decision to ban porn from the platform has had a marked negative impact on the service&#8217;s traffic. According to Sensor Tower, first-time users for Tumblr&#8217;s mobile app declined 33% year-over-year last quarter.</p>\\n<p>&#8220;Tumblr is one of the Web&#8217;s most iconic brands,&#8221; Automattic CEO Matt Mullenweg said of the news. &#8220;It is an essential venue to share new ideas, cultures and experiences, helping millions create and build communities around their shared interests. We are excited to add it to our lineup, which already includes WordPress.com, WooCommerce, Jetpack, Simplenote, Longreads, and more.&#8221;</p>\\n<p>The news certainly isn&#8217;t surprising. In May, it was reported that Verizon was looking for a new owner for the site it inherited through its acquisition of Yahoo. Tumblr was Yahoo&#8217;s largest acquisition at the time, as then-CEO Marissa Mayer &#8220;promise[d] not to screw it up&#8221; in a statement made at the time.</p>\\n<p>Tumblr proved not to be a great fit for Yahoo &#8212; and even less so Verizon, which rolled the platform into its short-lived Oath business and later the Verizon Media Group (also TechCrunch&#8217;s umbrella company). On the face of it, at least, Automattic seems a much better match. The company runs WordPress.com, one of the internet&#8217;s most popular publishing tools, along with Jetpack and Simplenote. As part of the deal, the company will take on 200 Tumblr staffers.</p>\\n<p>&#8220;We couldn&#8217;t be more excited to be joining a team that has a similar mission. Many of you know WordPress.com, Automattic&#8217;s flagship product. WordPress.com and Tumblr were both early pioneers among blogging platforms,&#8221; Tumblr fittingly wrote in <a href=\\\"https://staff.tumblr.com/post/186963195515/hello-tumblr-today-tumblrs-owner-verizon#notes\\\">a blog post</a>. &#8220;Automattic shares our vision to build passionate communities around shared interests and to democratize publishing so that anyone with a story can tell it, especially when they come from under-heard voices and marginalized communities.&#8221;</p>\\n<p>&#8220;Today&#8217;s announcement is the culmination of a thoughtful, thorough and strategic process,&#8221; Verizon Media CEO Guru Gowrappan said in a statement. &#8220;Tumblr is a marquee brand that has started movements, allowed for true identities to blossom and become home to many creative communities and fandoms. We are proud of what the team has accomplished and are happy to have found the perfect partner in Automattic, whose expertise and track record will unlock new and exciting possibilities for Tumblr and its users.&#8221;</p>\\n\\t\\t\\t</div>\",\"article_abstract\":null}\n"
     ]
    }
   ],
   "source": [
    "import requests\n",
    "\n",
    "url = \"https://tldrthis.p.rapidapi.com/v1/model/abstractive/summarize-url/\"\n",
    "\n",
    "payload = {\n",
    "    \"url\": \"https://techcrunch.com/2019/08/12/verizon-is-selling-tumblr-to-wordpress-parent-automattic/\",\n",
    "    \"min_length\": 100,\n",
    "    \"max_length\": 300,\n",
    "    \"is_detailed\": False\n",
    "}\n",
    "headers = {\n",
    "    \"content-type\": \"application/json\",\n",
    "    \"X-RapidAPI-Key\": \"01cfbc699emsh0dbf21fb6717f14p15d9f1jsnd9b1206ec4b3\",\n",
    "    \"X-RapidAPI-Host\": \"tldrthis.p.rapidapi.com\"\n",
    "}\n",
    "\n",
    "response = requests.request(\"POST\", url, json=payload, headers=headers)\n",
    "\n",
    "print(response.text)"
   ]
  },
  {
   "cell_type": "code",
   "execution_count": null,
   "id": "b4707687",
   "metadata": {},
   "outputs": [],
   "source": []
  }
 ],
 "metadata": {
  "kernelspec": {
   "display_name": "Python 3 (ipykernel)",
   "language": "python",
   "name": "python3"
  },
  "language_info": {
   "codemirror_mode": {
    "name": "ipython",
    "version": 3
   },
   "file_extension": ".py",
   "mimetype": "text/x-python",
   "name": "python",
   "nbconvert_exporter": "python",
   "pygments_lexer": "ipython3",
   "version": "3.10.6"
  }
 },
 "nbformat": 4,
 "nbformat_minor": 5
}
