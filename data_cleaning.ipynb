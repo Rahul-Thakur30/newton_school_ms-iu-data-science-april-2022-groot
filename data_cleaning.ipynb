{
 "cells": [
  {
   "cell_type": "code",
   "execution_count": 96,
   "id": "94aec86a",
   "metadata": {},
   "outputs": [],
   "source": [
    "import pandas as pd\n",
    "import numpy as np\n",
    "import matplotlib.pyplot as plt\n",
    "import seaborn as sns"
   ]
  },
  {
   "cell_type": "code",
   "execution_count": 4,
   "id": "cca25dad",
   "metadata": {},
   "outputs": [],
   "source": [
    "df = pd.read_csv('csv/zomato.csv')"
   ]
  },
  {
   "cell_type": "code",
   "execution_count": 5,
   "id": "0fed4261",
   "metadata": {},
   "outputs": [
    {
     "data": {
      "text/html": [
       "<div>\n",
       "<style scoped>\n",
       "    .dataframe tbody tr th:only-of-type {\n",
       "        vertical-align: middle;\n",
       "    }\n",
       "\n",
       "    .dataframe tbody tr th {\n",
       "        vertical-align: top;\n",
       "    }\n",
       "\n",
       "    .dataframe thead th {\n",
       "        text-align: right;\n",
       "    }\n",
       "</style>\n",
       "<table border=\"1\" class=\"dataframe\">\n",
       "  <thead>\n",
       "    <tr style=\"text-align: right;\">\n",
       "      <th></th>\n",
       "      <th>url</th>\n",
       "      <th>address</th>\n",
       "      <th>name</th>\n",
       "      <th>online_order</th>\n",
       "      <th>book_table</th>\n",
       "      <th>rate</th>\n",
       "      <th>votes</th>\n",
       "      <th>phone</th>\n",
       "      <th>location</th>\n",
       "      <th>rest_type</th>\n",
       "      <th>dish_liked</th>\n",
       "      <th>cuisines</th>\n",
       "      <th>approx_cost(for two people)</th>\n",
       "      <th>reviews_list</th>\n",
       "      <th>menu_item</th>\n",
       "      <th>listed_in(type)</th>\n",
       "      <th>listed_in(city)</th>\n",
       "    </tr>\n",
       "  </thead>\n",
       "  <tbody>\n",
       "    <tr>\n",
       "      <th>0</th>\n",
       "      <td>https://www.zomato.com/bangalore/jalsa-banasha...</td>\n",
       "      <td>942, 21st Main Road, 2nd Stage, Banashankari, ...</td>\n",
       "      <td>Jalsa</td>\n",
       "      <td>Yes</td>\n",
       "      <td>Yes</td>\n",
       "      <td>4.1/5</td>\n",
       "      <td>775</td>\n",
       "      <td>080 42297555\\r\\n+91 9743772233</td>\n",
       "      <td>Banashankari</td>\n",
       "      <td>Casual Dining</td>\n",
       "      <td>Pasta, Lunch Buffet, Masala Papad, Paneer Laja...</td>\n",
       "      <td>North Indian, Mughlai, Chinese</td>\n",
       "      <td>800</td>\n",
       "      <td>[('Rated 4.0', 'RATED\\n  A beautiful place to ...</td>\n",
       "      <td>[]</td>\n",
       "      <td>Buffet</td>\n",
       "      <td>Banashankari</td>\n",
       "    </tr>\n",
       "    <tr>\n",
       "      <th>1</th>\n",
       "      <td>https://www.zomato.com/bangalore/spice-elephan...</td>\n",
       "      <td>2nd Floor, 80 Feet Road, Near Big Bazaar, 6th ...</td>\n",
       "      <td>Spice Elephant</td>\n",
       "      <td>Yes</td>\n",
       "      <td>No</td>\n",
       "      <td>4.1/5</td>\n",
       "      <td>787</td>\n",
       "      <td>080 41714161</td>\n",
       "      <td>Banashankari</td>\n",
       "      <td>Casual Dining</td>\n",
       "      <td>Momos, Lunch Buffet, Chocolate Nirvana, Thai G...</td>\n",
       "      <td>Chinese, North Indian, Thai</td>\n",
       "      <td>800</td>\n",
       "      <td>[('Rated 4.0', 'RATED\\n  Had been here for din...</td>\n",
       "      <td>[]</td>\n",
       "      <td>Buffet</td>\n",
       "      <td>Banashankari</td>\n",
       "    </tr>\n",
       "    <tr>\n",
       "      <th>2</th>\n",
       "      <td>https://www.zomato.com/SanchurroBangalore?cont...</td>\n",
       "      <td>1112, Next to KIMS Medical College, 17th Cross...</td>\n",
       "      <td>San Churro Cafe</td>\n",
       "      <td>Yes</td>\n",
       "      <td>No</td>\n",
       "      <td>3.8/5</td>\n",
       "      <td>918</td>\n",
       "      <td>+91 9663487993</td>\n",
       "      <td>Banashankari</td>\n",
       "      <td>Cafe, Casual Dining</td>\n",
       "      <td>Churros, Cannelloni, Minestrone Soup, Hot Choc...</td>\n",
       "      <td>Cafe, Mexican, Italian</td>\n",
       "      <td>800</td>\n",
       "      <td>[('Rated 3.0', \"RATED\\n  Ambience is not that ...</td>\n",
       "      <td>[]</td>\n",
       "      <td>Buffet</td>\n",
       "      <td>Banashankari</td>\n",
       "    </tr>\n",
       "    <tr>\n",
       "      <th>3</th>\n",
       "      <td>https://www.zomato.com/bangalore/addhuri-udupi...</td>\n",
       "      <td>1st Floor, Annakuteera, 3rd Stage, Banashankar...</td>\n",
       "      <td>Addhuri Udupi Bhojana</td>\n",
       "      <td>No</td>\n",
       "      <td>No</td>\n",
       "      <td>3.7/5</td>\n",
       "      <td>88</td>\n",
       "      <td>+91 9620009302</td>\n",
       "      <td>Banashankari</td>\n",
       "      <td>Quick Bites</td>\n",
       "      <td>Masala Dosa</td>\n",
       "      <td>South Indian, North Indian</td>\n",
       "      <td>300</td>\n",
       "      <td>[('Rated 4.0', \"RATED\\n  Great food and proper...</td>\n",
       "      <td>[]</td>\n",
       "      <td>Buffet</td>\n",
       "      <td>Banashankari</td>\n",
       "    </tr>\n",
       "    <tr>\n",
       "      <th>4</th>\n",
       "      <td>https://www.zomato.com/bangalore/grand-village...</td>\n",
       "      <td>10, 3rd Floor, Lakshmi Associates, Gandhi Baza...</td>\n",
       "      <td>Grand Village</td>\n",
       "      <td>No</td>\n",
       "      <td>No</td>\n",
       "      <td>3.8/5</td>\n",
       "      <td>166</td>\n",
       "      <td>+91 8026612447\\r\\n+91 9901210005</td>\n",
       "      <td>Basavanagudi</td>\n",
       "      <td>Casual Dining</td>\n",
       "      <td>Panipuri, Gol Gappe</td>\n",
       "      <td>North Indian, Rajasthani</td>\n",
       "      <td>600</td>\n",
       "      <td>[('Rated 4.0', 'RATED\\n  Very good restaurant ...</td>\n",
       "      <td>[]</td>\n",
       "      <td>Buffet</td>\n",
       "      <td>Banashankari</td>\n",
       "    </tr>\n",
       "  </tbody>\n",
       "</table>\n",
       "</div>"
      ],
      "text/plain": [
       "                                                 url  \\\n",
       "0  https://www.zomato.com/bangalore/jalsa-banasha...   \n",
       "1  https://www.zomato.com/bangalore/spice-elephan...   \n",
       "2  https://www.zomato.com/SanchurroBangalore?cont...   \n",
       "3  https://www.zomato.com/bangalore/addhuri-udupi...   \n",
       "4  https://www.zomato.com/bangalore/grand-village...   \n",
       "\n",
       "                                             address                   name  \\\n",
       "0  942, 21st Main Road, 2nd Stage, Banashankari, ...                  Jalsa   \n",
       "1  2nd Floor, 80 Feet Road, Near Big Bazaar, 6th ...         Spice Elephant   \n",
       "2  1112, Next to KIMS Medical College, 17th Cross...        San Churro Cafe   \n",
       "3  1st Floor, Annakuteera, 3rd Stage, Banashankar...  Addhuri Udupi Bhojana   \n",
       "4  10, 3rd Floor, Lakshmi Associates, Gandhi Baza...          Grand Village   \n",
       "\n",
       "  online_order book_table   rate  votes                             phone  \\\n",
       "0          Yes        Yes  4.1/5    775    080 42297555\\r\\n+91 9743772233   \n",
       "1          Yes         No  4.1/5    787                      080 41714161   \n",
       "2          Yes         No  3.8/5    918                    +91 9663487993   \n",
       "3           No         No  3.7/5     88                    +91 9620009302   \n",
       "4           No         No  3.8/5    166  +91 8026612447\\r\\n+91 9901210005   \n",
       "\n",
       "       location            rest_type  \\\n",
       "0  Banashankari        Casual Dining   \n",
       "1  Banashankari        Casual Dining   \n",
       "2  Banashankari  Cafe, Casual Dining   \n",
       "3  Banashankari          Quick Bites   \n",
       "4  Basavanagudi        Casual Dining   \n",
       "\n",
       "                                          dish_liked  \\\n",
       "0  Pasta, Lunch Buffet, Masala Papad, Paneer Laja...   \n",
       "1  Momos, Lunch Buffet, Chocolate Nirvana, Thai G...   \n",
       "2  Churros, Cannelloni, Minestrone Soup, Hot Choc...   \n",
       "3                                        Masala Dosa   \n",
       "4                                Panipuri, Gol Gappe   \n",
       "\n",
       "                         cuisines approx_cost(for two people)  \\\n",
       "0  North Indian, Mughlai, Chinese                         800   \n",
       "1     Chinese, North Indian, Thai                         800   \n",
       "2          Cafe, Mexican, Italian                         800   \n",
       "3      South Indian, North Indian                         300   \n",
       "4        North Indian, Rajasthani                         600   \n",
       "\n",
       "                                        reviews_list menu_item  \\\n",
       "0  [('Rated 4.0', 'RATED\\n  A beautiful place to ...        []   \n",
       "1  [('Rated 4.0', 'RATED\\n  Had been here for din...        []   \n",
       "2  [('Rated 3.0', \"RATED\\n  Ambience is not that ...        []   \n",
       "3  [('Rated 4.0', \"RATED\\n  Great food and proper...        []   \n",
       "4  [('Rated 4.0', 'RATED\\n  Very good restaurant ...        []   \n",
       "\n",
       "  listed_in(type) listed_in(city)  \n",
       "0          Buffet    Banashankari  \n",
       "1          Buffet    Banashankari  \n",
       "2          Buffet    Banashankari  \n",
       "3          Buffet    Banashankari  \n",
       "4          Buffet    Banashankari  "
      ]
     },
     "execution_count": 5,
     "metadata": {},
     "output_type": "execute_result"
    }
   ],
   "source": [
    "df.head()"
   ]
  },
  {
   "cell_type": "code",
   "execution_count": 6,
   "id": "da04024e",
   "metadata": {},
   "outputs": [
    {
     "data": {
      "text/plain": [
       "(51717, 17)"
      ]
     },
     "execution_count": 6,
     "metadata": {},
     "output_type": "execute_result"
    }
   ],
   "source": [
    "df.shape"
   ]
  },
  {
   "cell_type": "code",
   "execution_count": 21,
   "id": "6e3e2b1a",
   "metadata": {},
   "outputs": [
    {
     "data": {
      "text/plain": [
       "0.15033741322969235"
      ]
     },
     "execution_count": 21,
     "metadata": {},
     "output_type": "execute_result"
    }
   ],
   "source": [
    "7775/51717"
   ]
  },
  {
   "cell_type": "code",
   "execution_count": 7,
   "id": "d5c6523f",
   "metadata": {},
   "outputs": [
    {
     "data": {
      "text/plain": [
       "url                                0\n",
       "address                            0\n",
       "name                               0\n",
       "online_order                       0\n",
       "book_table                         0\n",
       "rate                            7775\n",
       "votes                              0\n",
       "phone                           1208\n",
       "location                          21\n",
       "rest_type                        227\n",
       "dish_liked                     28078\n",
       "cuisines                          45\n",
       "approx_cost(for two people)      346\n",
       "reviews_list                       0\n",
       "menu_item                          0\n",
       "listed_in(type)                    0\n",
       "listed_in(city)                    0\n",
       "dtype: int64"
      ]
     },
     "execution_count": 7,
     "metadata": {},
     "output_type": "execute_result"
    }
   ],
   "source": [
    "df.isna().sum()"
   ]
  },
  {
   "cell_type": "markdown",
   "id": "c48de58b",
   "metadata": {},
   "source": [
    "## Problem Statement Given the data can we predict approximate cost of a restaurant"
   ]
  },
  {
   "cell_type": "code",
   "execution_count": 8,
   "id": "a6aa5d2f",
   "metadata": {},
   "outputs": [],
   "source": [
    "# Lets try to figure out number of empty list in menu column"
   ]
  },
  {
   "cell_type": "code",
   "execution_count": 17,
   "id": "8a52ceba",
   "metadata": {},
   "outputs": [
    {
     "data": {
      "text/plain": [
       "(39617, 17)"
      ]
     },
     "execution_count": 17,
     "metadata": {},
     "output_type": "execute_result"
    }
   ],
   "source": [
    "df[df['menu_item']=='[]'].shape"
   ]
  },
  {
   "cell_type": "code",
   "execution_count": 18,
   "id": "6db8ac95",
   "metadata": {},
   "outputs": [
    {
     "data": {
      "text/plain": [
       "(51717, 17)"
      ]
     },
     "execution_count": 18,
     "metadata": {},
     "output_type": "execute_result"
    }
   ],
   "source": [
    "df.shape"
   ]
  },
  {
   "cell_type": "code",
   "execution_count": 19,
   "id": "5d9ee85c",
   "metadata": {},
   "outputs": [
    {
     "data": {
      "text/plain": [
       "0.7660343794110254"
      ]
     },
     "execution_count": 19,
     "metadata": {},
     "output_type": "execute_result"
    }
   ],
   "source": [
    "#percentage of empty list\n",
    "\n",
    "\n",
    "df[df['menu_item']=='[]'].shape[0]/df.shape[0]"
   ]
  },
  {
   "cell_type": "code",
   "execution_count": 36,
   "id": "1d4e8e19",
   "metadata": {},
   "outputs": [],
   "source": [
    "drop_column_list = ['menu_item','phone','dish_liked','url','address','listed_in(city)']"
   ]
  },
  {
   "cell_type": "code",
   "execution_count": 22,
   "id": "5ae6a92d",
   "metadata": {},
   "outputs": [
    {
     "data": {
      "text/plain": [
       "0        Pasta, Lunch Buffet, Masala Papad, Paneer Laja...\n",
       "1        Momos, Lunch Buffet, Chocolate Nirvana, Thai G...\n",
       "2        Churros, Cannelloni, Minestrone Soup, Hot Choc...\n",
       "3                                              Masala Dosa\n",
       "4                                      Panipuri, Gol Gappe\n",
       "                               ...                        \n",
       "51712                                                  NaN\n",
       "51713                                                  NaN\n",
       "51714                                                  NaN\n",
       "51715                         Cocktails, Pizza, Buttermilk\n",
       "51716                                                  NaN\n",
       "Name: dish_liked, Length: 51717, dtype: object"
      ]
     },
     "execution_count": 22,
     "metadata": {},
     "output_type": "execute_result"
    }
   ],
   "source": [
    "# lets look into dish liked column\n",
    "df['dish_liked']"
   ]
  },
  {
   "cell_type": "code",
   "execution_count": 24,
   "id": "58a20735",
   "metadata": {},
   "outputs": [
    {
     "data": {
      "text/plain": [
       "0        https://www.zomato.com/bangalore/jalsa-banasha...\n",
       "1        https://www.zomato.com/bangalore/spice-elephan...\n",
       "2        https://www.zomato.com/SanchurroBangalore?cont...\n",
       "3        https://www.zomato.com/bangalore/addhuri-udupi...\n",
       "4        https://www.zomato.com/bangalore/grand-village...\n",
       "                               ...                        \n",
       "51712    https://www.zomato.com/bangalore/best-brews-fo...\n",
       "51713    https://www.zomato.com/bangalore/vinod-bar-and...\n",
       "51714    https://www.zomato.com/bangalore/plunge-sherat...\n",
       "51715    https://www.zomato.com/bangalore/chime-sherato...\n",
       "51716    https://www.zomato.com/bangalore/the-nest-the-...\n",
       "Name: url, Length: 51717, dtype: object"
      ]
     },
     "execution_count": 24,
     "metadata": {},
     "output_type": "execute_result"
    }
   ],
   "source": [
    "#lets look into urls\n",
    "df.url"
   ]
  },
  {
   "cell_type": "code",
   "execution_count": 29,
   "id": "826a7702",
   "metadata": {},
   "outputs": [
    {
     "data": {
      "text/plain": [
       "0                                                       942, 21st Main Road, 2nd Stage, Banashankari, Bangalore\n",
       "1          2nd Floor, 80 Feet Road, Near Big Bazaar, 6th Block, Kathriguppe, 3rd Stage, Banashankari, Bangalore\n",
       "2                            1112, Next to KIMS Medical College, 17th Cross, 2nd Stage, Banashankari, Bangalore\n",
       "3                                                    1st Floor, Annakuteera, 3rd Stage, Banashankari, Bangalore\n",
       "4    10, 3rd Floor, Lakshmi Associates, Gandhi Bazaar Main Road, Above Reliance Trends, Basavanagudi, Bangalore\n",
       "Name: address, dtype: object"
      ]
     },
     "execution_count": 29,
     "metadata": {},
     "output_type": "execute_result"
    }
   ],
   "source": [
    "#lets look into address\n",
    "pd.set_option('display.max_colwidth',None)\n",
    "df['address'].head()"
   ]
  },
  {
   "cell_type": "code",
   "execution_count": 30,
   "id": "0b4fa6de",
   "metadata": {},
   "outputs": [
    {
     "data": {
      "text/plain": [
       "51712                                 Four Points by Sheraton Bengaluru, 43/3, Whitefield Main Road, Whitefield, Bangalore\n",
       "51713                                                     Number 10, Garudachar Palya, Mahadevapura, Whitefield, Bengaluru\n",
       "51714         Sheraton Grand Bengaluru Whitefield Hotel & Convention Centre, Prestige Shantiniketan, Whitefield, Bangalore\n",
       "51715    Sheraton Grand Bengaluru Whitefield Hotel & Convention Centre, Prestige Shantiniketan, ITPL Main Road, Whitefield\n",
       "51716                                   ITPL Main Road, KIADB Export Promotion Industrial Area, ITPL Main Road, Whitefield\n",
       "Name: address, dtype: object"
      ]
     },
     "execution_count": 30,
     "metadata": {},
     "output_type": "execute_result"
    }
   ],
   "source": [
    "df['address'].tail()"
   ]
  },
  {
   "cell_type": "code",
   "execution_count": 32,
   "id": "d532e307",
   "metadata": {},
   "outputs": [
    {
     "data": {
      "text/html": [
       "<div>\n",
       "<style scoped>\n",
       "    .dataframe tbody tr th:only-of-type {\n",
       "        vertical-align: middle;\n",
       "    }\n",
       "\n",
       "    .dataframe tbody tr th {\n",
       "        vertical-align: top;\n",
       "    }\n",
       "\n",
       "    .dataframe thead th {\n",
       "        text-align: right;\n",
       "    }\n",
       "</style>\n",
       "<table border=\"1\" class=\"dataframe\">\n",
       "  <thead>\n",
       "    <tr style=\"text-align: right;\">\n",
       "      <th></th>\n",
       "      <th>listed_in(city)</th>\n",
       "      <th>location</th>\n",
       "    </tr>\n",
       "  </thead>\n",
       "  <tbody>\n",
       "    <tr>\n",
       "      <th>0</th>\n",
       "      <td>Banashankari</td>\n",
       "      <td>Banashankari</td>\n",
       "    </tr>\n",
       "    <tr>\n",
       "      <th>1</th>\n",
       "      <td>Banashankari</td>\n",
       "      <td>Banashankari</td>\n",
       "    </tr>\n",
       "    <tr>\n",
       "      <th>2</th>\n",
       "      <td>Banashankari</td>\n",
       "      <td>Banashankari</td>\n",
       "    </tr>\n",
       "    <tr>\n",
       "      <th>3</th>\n",
       "      <td>Banashankari</td>\n",
       "      <td>Banashankari</td>\n",
       "    </tr>\n",
       "    <tr>\n",
       "      <th>4</th>\n",
       "      <td>Banashankari</td>\n",
       "      <td>Basavanagudi</td>\n",
       "    </tr>\n",
       "    <tr>\n",
       "      <th>...</th>\n",
       "      <td>...</td>\n",
       "      <td>...</td>\n",
       "    </tr>\n",
       "    <tr>\n",
       "      <th>51712</th>\n",
       "      <td>Whitefield</td>\n",
       "      <td>Whitefield</td>\n",
       "    </tr>\n",
       "    <tr>\n",
       "      <th>51713</th>\n",
       "      <td>Whitefield</td>\n",
       "      <td>Whitefield</td>\n",
       "    </tr>\n",
       "    <tr>\n",
       "      <th>51714</th>\n",
       "      <td>Whitefield</td>\n",
       "      <td>Whitefield</td>\n",
       "    </tr>\n",
       "    <tr>\n",
       "      <th>51715</th>\n",
       "      <td>Whitefield</td>\n",
       "      <td>ITPL Main Road, Whitefield</td>\n",
       "    </tr>\n",
       "    <tr>\n",
       "      <th>51716</th>\n",
       "      <td>Whitefield</td>\n",
       "      <td>ITPL Main Road, Whitefield</td>\n",
       "    </tr>\n",
       "  </tbody>\n",
       "</table>\n",
       "<p>51717 rows × 2 columns</p>\n",
       "</div>"
      ],
      "text/plain": [
       "      listed_in(city)                    location\n",
       "0        Banashankari                Banashankari\n",
       "1        Banashankari                Banashankari\n",
       "2        Banashankari                Banashankari\n",
       "3        Banashankari                Banashankari\n",
       "4        Banashankari                Basavanagudi\n",
       "...               ...                         ...\n",
       "51712      Whitefield                  Whitefield\n",
       "51713      Whitefield                  Whitefield\n",
       "51714      Whitefield                  Whitefield\n",
       "51715      Whitefield  ITPL Main Road, Whitefield\n",
       "51716      Whitefield  ITPL Main Road, Whitefield\n",
       "\n",
       "[51717 rows x 2 columns]"
      ]
     },
     "execution_count": 32,
     "metadata": {},
     "output_type": "execute_result"
    }
   ],
   "source": [
    "df[['listed_in(city)','location']]"
   ]
  },
  {
   "cell_type": "code",
   "execution_count": 37,
   "id": "20ecedaf",
   "metadata": {},
   "outputs": [
    {
     "data": {
      "text/plain": [
       "['menu_item', 'phone', 'dish_liked', 'url', 'address', 'listed_in(city)']"
      ]
     },
     "execution_count": 37,
     "metadata": {},
     "output_type": "execute_result"
    }
   ],
   "source": [
    "drop_column_list"
   ]
  },
  {
   "cell_type": "code",
   "execution_count": 39,
   "id": "2bd66550",
   "metadata": {},
   "outputs": [],
   "source": [
    "df.drop(drop_column_list,axis=1,inplace=True)"
   ]
  },
  {
   "cell_type": "code",
   "execution_count": 42,
   "id": "e7428e1b",
   "metadata": {},
   "outputs": [
    {
     "data": {
      "text/plain": [
       "name                              0\n",
       "online_order                      0\n",
       "book_table                        0\n",
       "rate                           7775\n",
       "votes                             0\n",
       "location                         21\n",
       "rest_type                       227\n",
       "cuisines                         45\n",
       "approx_cost(for two people)     346\n",
       "reviews_list                      0\n",
       "listed_in(type)                   0\n",
       "dtype: int64"
      ]
     },
     "execution_count": 42,
     "metadata": {},
     "output_type": "execute_result"
    }
   ],
   "source": [
    "df.isna().sum()"
   ]
  },
  {
   "cell_type": "code",
   "execution_count": 45,
   "id": "a2456ab6",
   "metadata": {},
   "outputs": [],
   "source": [
    "df = df[~df['approx_cost(for two people)'].isna()]"
   ]
  },
  {
   "cell_type": "code",
   "execution_count": 46,
   "id": "f6055d6d",
   "metadata": {},
   "outputs": [
    {
     "data": {
      "text/plain": [
       "name                              0\n",
       "online_order                      0\n",
       "book_table                        0\n",
       "rate                           7681\n",
       "votes                             0\n",
       "location                          0\n",
       "rest_type                       204\n",
       "cuisines                         19\n",
       "approx_cost(for two people)       0\n",
       "reviews_list                      0\n",
       "listed_in(type)                   0\n",
       "dtype: int64"
      ]
     },
     "execution_count": 46,
     "metadata": {},
     "output_type": "execute_result"
    }
   ],
   "source": [
    "df.isna().sum()"
   ]
  },
  {
   "cell_type": "code",
   "execution_count": 47,
   "id": "a91dad04",
   "metadata": {},
   "outputs": [
    {
     "data": {
      "text/plain": [
       "(51371, 11)"
      ]
     },
     "execution_count": 47,
     "metadata": {},
     "output_type": "execute_result"
    }
   ],
   "source": [
    "df.shape"
   ]
  },
  {
   "cell_type": "code",
   "execution_count": 48,
   "id": "29b15c53",
   "metadata": {},
   "outputs": [],
   "source": [
    "#lets look into rate column"
   ]
  },
  {
   "cell_type": "code",
   "execution_count": 52,
   "id": "b79a7672",
   "metadata": {},
   "outputs": [
    {
     "data": {
      "text/html": [
       "<div>\n",
       "<style scoped>\n",
       "    .dataframe tbody tr th:only-of-type {\n",
       "        vertical-align: middle;\n",
       "    }\n",
       "\n",
       "    .dataframe tbody tr th {\n",
       "        vertical-align: top;\n",
       "    }\n",
       "\n",
       "    .dataframe thead th {\n",
       "        text-align: right;\n",
       "    }\n",
       "</style>\n",
       "<table border=\"1\" class=\"dataframe\">\n",
       "  <thead>\n",
       "    <tr style=\"text-align: right;\">\n",
       "      <th></th>\n",
       "      <th>name</th>\n",
       "      <th>online_order</th>\n",
       "      <th>book_table</th>\n",
       "      <th>rate</th>\n",
       "      <th>votes</th>\n",
       "      <th>location</th>\n",
       "      <th>rest_type</th>\n",
       "      <th>cuisines</th>\n",
       "      <th>approx_cost(for two people)</th>\n",
       "      <th>reviews_list</th>\n",
       "      <th>listed_in(type)</th>\n",
       "    </tr>\n",
       "  </thead>\n",
       "  <tbody>\n",
       "    <tr>\n",
       "      <th>84</th>\n",
       "      <td>Chill Out</td>\n",
       "      <td>No</td>\n",
       "      <td>No</td>\n",
       "      <td>NaN</td>\n",
       "      <td>0</td>\n",
       "      <td>Banashankari</td>\n",
       "      <td>Quick Bites</td>\n",
       "      <td>South Indian, Chinese</td>\n",
       "      <td>100</td>\n",
       "      <td>[('Rated 4.0', 'RATED\\n  Good Location. Small restaurant.\\n\\nNice tasty snacks. Had many items here. Snacks are very good. Tea n coffee to all juices available.\\n\\nYesterday had Sharjah the same taste of kerala.\\n\\nVery good experience')]</td>\n",
       "      <td>Delivery</td>\n",
       "    </tr>\n",
       "    <tr>\n",
       "      <th>90</th>\n",
       "      <td>Me And My Cake</td>\n",
       "      <td>No</td>\n",
       "      <td>No</td>\n",
       "      <td>NaN</td>\n",
       "      <td>0</td>\n",
       "      <td>Banashankari</td>\n",
       "      <td>Delivery</td>\n",
       "      <td>Bakery, Desserts</td>\n",
       "      <td>500</td>\n",
       "      <td>[('Rated 1.0', 'RATED\\n  Do not order anything. This restaurant is so irresponsible they do not even answer calls. I had ordered cake for my daughter birthday via zomato at 11:54am however it was confirmed that the order will be delivered before 3:00pm same day. However, zomato does not know what to do and they say restaurant is not receiving our calls.'), ('Rated 1.0', \"RATED\\n  My order never reached me and the delivery boy's number was never sent. The guy who was coordinating with the order told me that I'd receive my order in a while and stopped receiving my calls soon. Really disappointed and dissatisfied after waiting for so long for a birthday cake to come and be disappointed and disappoint others on someone's birthday. Really bad service. I wish I could rate a 0 for this place cause I didn't even get a chance to be positive and appreciate them for something atleast.\")]</td>\n",
       "      <td>Delivery</td>\n",
       "    </tr>\n",
       "    <tr>\n",
       "      <th>91</th>\n",
       "      <td>Sunsadm</td>\n",
       "      <td>No</td>\n",
       "      <td>No</td>\n",
       "      <td>NaN</td>\n",
       "      <td>0</td>\n",
       "      <td>Banashankari</td>\n",
       "      <td>Takeaway, Delivery</td>\n",
       "      <td>South Indian</td>\n",
       "      <td>400</td>\n",
       "      <td>[]</td>\n",
       "      <td>Delivery</td>\n",
       "    </tr>\n",
       "    <tr>\n",
       "      <th>92</th>\n",
       "      <td>Annapooraneshwari Mess</td>\n",
       "      <td>No</td>\n",
       "      <td>No</td>\n",
       "      <td>NaN</td>\n",
       "      <td>0</td>\n",
       "      <td>Banashankari</td>\n",
       "      <td>Mess</td>\n",
       "      <td>South Indian</td>\n",
       "      <td>200</td>\n",
       "      <td>[]</td>\n",
       "      <td>Delivery</td>\n",
       "    </tr>\n",
       "    <tr>\n",
       "      <th>107</th>\n",
       "      <td>Coffee Shopee</td>\n",
       "      <td>No</td>\n",
       "      <td>No</td>\n",
       "      <td>NaN</td>\n",
       "      <td>0</td>\n",
       "      <td>Banashankari</td>\n",
       "      <td>Takeaway, Delivery</td>\n",
       "      <td>Beverages</td>\n",
       "      <td>250</td>\n",
       "      <td>[]</td>\n",
       "      <td>Delivery</td>\n",
       "    </tr>\n",
       "    <tr>\n",
       "      <th>...</th>\n",
       "      <td>...</td>\n",
       "      <td>...</td>\n",
       "      <td>...</td>\n",
       "      <td>...</td>\n",
       "      <td>...</td>\n",
       "      <td>...</td>\n",
       "      <td>...</td>\n",
       "      <td>...</td>\n",
       "      <td>...</td>\n",
       "      <td>...</td>\n",
       "      <td>...</td>\n",
       "    </tr>\n",
       "    <tr>\n",
       "      <th>51644</th>\n",
       "      <td>Punjabi Thadka</td>\n",
       "      <td>No</td>\n",
       "      <td>No</td>\n",
       "      <td>NaN</td>\n",
       "      <td>0</td>\n",
       "      <td>Brookefield</td>\n",
       "      <td>Quick Bites</td>\n",
       "      <td>North Indian</td>\n",
       "      <td>400</td>\n",
       "      <td>[]</td>\n",
       "      <td>Dine-out</td>\n",
       "    </tr>\n",
       "    <tr>\n",
       "      <th>51675</th>\n",
       "      <td>Topsy Turvey</td>\n",
       "      <td>No</td>\n",
       "      <td>No</td>\n",
       "      <td>NaN</td>\n",
       "      <td>0</td>\n",
       "      <td>Whitefield</td>\n",
       "      <td>Bar</td>\n",
       "      <td>Finger Food</td>\n",
       "      <td>900</td>\n",
       "      <td>[('Rated 4.0', \"RATED\\n  A divine joint for Flavourful Vegetarian and Non Vegetarian delicacies.\\n\\n#location\\nTopsy Turvy, Whitefield.\\nPub and Restaurant #restopub\\n\\n#delish #divine #food\\nFreshly prepared appetizers. Juicy and tender meat that creates a wow sensation with every bite.\\n\\n#desserts #mousse #cheesecake\\nChocolates and mousses and cheesecakes and everything. They've got it covered with a wide range of mouth watering desserts.\\n\\n#pricing\\nWell priced for a restopub.\\n\\n#food #anytime #nightlife #allshots #bangalore #foodie #foodpics #bunny\")]</td>\n",
       "      <td>Drinks &amp; nightlife</td>\n",
       "    </tr>\n",
       "    <tr>\n",
       "      <th>51710</th>\n",
       "      <td>Topsy Turvey</td>\n",
       "      <td>No</td>\n",
       "      <td>No</td>\n",
       "      <td>NaN</td>\n",
       "      <td>0</td>\n",
       "      <td>Whitefield</td>\n",
       "      <td>Bar</td>\n",
       "      <td>Finger Food</td>\n",
       "      <td>900</td>\n",
       "      <td>[('Rated 4.0', \"RATED\\n  A divine joint for Flavourful Vegetarian and Non Vegetarian delicacies.\\n\\n#location\\nTopsy Turvy, Whitefield.\\nPub and Restaurant #restopub\\n\\n#delish #divine #food\\nFreshly prepared appetizers. Juicy and tender meat that creates a wow sensation with every bite.\\n\\n#desserts #mousse #cheesecake\\nChocolates and mousses and cheesecakes and everything. They've got it covered with a wide range of mouth watering desserts.\\n\\n#pricing\\nWell priced for a restopub.\\n\\n#food #anytime #nightlife #allshots #bangalore #foodie #foodpics #bunny\")]</td>\n",
       "      <td>Pubs and bars</td>\n",
       "    </tr>\n",
       "    <tr>\n",
       "      <th>51713</th>\n",
       "      <td>Vinod Bar And Restaurant</td>\n",
       "      <td>No</td>\n",
       "      <td>No</td>\n",
       "      <td>NaN</td>\n",
       "      <td>0</td>\n",
       "      <td>Whitefield</td>\n",
       "      <td>Bar</td>\n",
       "      <td>Finger Food</td>\n",
       "      <td>600</td>\n",
       "      <td>[]</td>\n",
       "      <td>Pubs and bars</td>\n",
       "    </tr>\n",
       "    <tr>\n",
       "      <th>51714</th>\n",
       "      <td>Plunge - Sheraton Grand Bengaluru Whitefield Hotel &amp;...</td>\n",
       "      <td>No</td>\n",
       "      <td>No</td>\n",
       "      <td>NaN</td>\n",
       "      <td>0</td>\n",
       "      <td>Whitefield</td>\n",
       "      <td>Bar</td>\n",
       "      <td>Finger Food</td>\n",
       "      <td>2,000</td>\n",
       "      <td>[]</td>\n",
       "      <td>Pubs and bars</td>\n",
       "    </tr>\n",
       "  </tbody>\n",
       "</table>\n",
       "<p>7681 rows × 11 columns</p>\n",
       "</div>"
      ],
      "text/plain": [
       "                                                          name online_order  \\\n",
       "84                                                   Chill Out           No   \n",
       "90                                              Me And My Cake           No   \n",
       "91                                                     Sunsadm           No   \n",
       "92                                      Annapooraneshwari Mess           No   \n",
       "107                                              Coffee Shopee           No   \n",
       "...                                                        ...          ...   \n",
       "51644                                           Punjabi Thadka           No   \n",
       "51675                                             Topsy Turvey           No   \n",
       "51710                                             Topsy Turvey           No   \n",
       "51713                                 Vinod Bar And Restaurant           No   \n",
       "51714  Plunge - Sheraton Grand Bengaluru Whitefield Hotel &...           No   \n",
       "\n",
       "      book_table rate  votes      location           rest_type  \\\n",
       "84            No  NaN      0  Banashankari         Quick Bites   \n",
       "90            No  NaN      0  Banashankari            Delivery   \n",
       "91            No  NaN      0  Banashankari  Takeaway, Delivery   \n",
       "92            No  NaN      0  Banashankari                Mess   \n",
       "107           No  NaN      0  Banashankari  Takeaway, Delivery   \n",
       "...          ...  ...    ...           ...                 ...   \n",
       "51644         No  NaN      0   Brookefield         Quick Bites   \n",
       "51675         No  NaN      0    Whitefield                 Bar   \n",
       "51710         No  NaN      0    Whitefield                 Bar   \n",
       "51713         No  NaN      0    Whitefield                 Bar   \n",
       "51714         No  NaN      0    Whitefield                 Bar   \n",
       "\n",
       "                    cuisines approx_cost(for two people)  \\\n",
       "84     South Indian, Chinese                         100   \n",
       "90          Bakery, Desserts                         500   \n",
       "91              South Indian                         400   \n",
       "92              South Indian                         200   \n",
       "107                Beverages                         250   \n",
       "...                      ...                         ...   \n",
       "51644           North Indian                         400   \n",
       "51675            Finger Food                         900   \n",
       "51710            Finger Food                         900   \n",
       "51713            Finger Food                         600   \n",
       "51714            Finger Food                       2,000   \n",
       "\n",
       "                                                                                                                                                                                                                                                                                                                                                                                                                                                                                                                                                                                                                                                                                                                                                                                                                                                                                                                    reviews_list  \\\n",
       "84                                                                                                                                                                                                                                                                                                                                                                                                                                                                                                                                                                                                                                                                                [('Rated 4.0', 'RATED\\n  Good Location. Small restaurant.\\n\\nNice tasty snacks. Had many items here. Snacks are very good. Tea n coffee to all juices available.\\n\\nYesterday had Sharjah the same taste of kerala.\\n\\nVery good experience')]   \n",
       "90     [('Rated 1.0', 'RATED\\n  Do not order anything. This restaurant is so irresponsible they do not even answer calls. I had ordered cake for my daughter birthday via zomato at 11:54am however it was confirmed that the order will be delivered before 3:00pm same day. However, zomato does not know what to do and they say restaurant is not receiving our calls.'), ('Rated 1.0', \"RATED\\n  My order never reached me and the delivery boy's number was never sent. The guy who was coordinating with the order told me that I'd receive my order in a while and stopped receiving my calls soon. Really disappointed and dissatisfied after waiting for so long for a birthday cake to come and be disappointed and disappoint others on someone's birthday. Really bad service. I wish I could rate a 0 for this place cause I didn't even get a chance to be positive and appreciate them for something atleast.\")]   \n",
       "91                                                                                                                                                                                                                                                                                                                                                                                                                                                                                                                                                                                                                                                                                                                                                                                                                                                                                                                            []   \n",
       "92                                                                                                                                                                                                                                                                                                                                                                                                                                                                                                                                                                                                                                                                                                                                                                                                                                                                                                                            []   \n",
       "107                                                                                                                                                                                                                                                                                                                                                                                                                                                                                                                                                                                                                                                                                                                                                                                                                                                                                                                           []   \n",
       "...                                                                                                                                                                                                                                                                                                                                                                                                                                                                                                                                                                                                                                                                                                                                                                                                                                                                                                                          ...   \n",
       "51644                                                                                                                                                                                                                                                                                                                                                                                                                                                                                                                                                                                                                                                                                                                                                                                                                                                                                                                         []   \n",
       "51675                                                                                                                                                                                                                                                                                                                                      [('Rated 4.0', \"RATED\\n  A divine joint for Flavourful Vegetarian and Non Vegetarian delicacies.\\n\\n#location\\nTopsy Turvy, Whitefield.\\nPub and Restaurant #restopub\\n\\n#delish #divine #food\\nFreshly prepared appetizers. Juicy and tender meat that creates a wow sensation with every bite.\\n\\n#desserts #mousse #cheesecake\\nChocolates and mousses and cheesecakes and everything. They've got it covered with a wide range of mouth watering desserts.\\n\\n#pricing\\nWell priced for a restopub.\\n\\n#food #anytime #nightlife #allshots #bangalore #foodie #foodpics #bunny\")]   \n",
       "51710                                                                                                                                                                                                                                                                                                                                      [('Rated 4.0', \"RATED\\n  A divine joint for Flavourful Vegetarian and Non Vegetarian delicacies.\\n\\n#location\\nTopsy Turvy, Whitefield.\\nPub and Restaurant #restopub\\n\\n#delish #divine #food\\nFreshly prepared appetizers. Juicy and tender meat that creates a wow sensation with every bite.\\n\\n#desserts #mousse #cheesecake\\nChocolates and mousses and cheesecakes and everything. They've got it covered with a wide range of mouth watering desserts.\\n\\n#pricing\\nWell priced for a restopub.\\n\\n#food #anytime #nightlife #allshots #bangalore #foodie #foodpics #bunny\")]   \n",
       "51713                                                                                                                                                                                                                                                                                                                                                                                                                                                                                                                                                                                                                                                                                                                                                                                                                                                                                                                         []   \n",
       "51714                                                                                                                                                                                                                                                                                                                                                                                                                                                                                                                                                                                                                                                                                                                                                                                                                                                                                                                         []   \n",
       "\n",
       "          listed_in(type)  \n",
       "84               Delivery  \n",
       "90               Delivery  \n",
       "91               Delivery  \n",
       "92               Delivery  \n",
       "107              Delivery  \n",
       "...                   ...  \n",
       "51644            Dine-out  \n",
       "51675  Drinks & nightlife  \n",
       "51710       Pubs and bars  \n",
       "51713       Pubs and bars  \n",
       "51714       Pubs and bars  \n",
       "\n",
       "[7681 rows x 11 columns]"
      ]
     },
     "execution_count": 52,
     "metadata": {},
     "output_type": "execute_result"
    }
   ],
   "source": [
    "df[df['rate'].isna()]"
   ]
  },
  {
   "cell_type": "code",
   "execution_count": 53,
   "id": "aaf57f0e",
   "metadata": {},
   "outputs": [
    {
     "data": {
      "text/plain": [
       "(7543, 11)"
      ]
     },
     "execution_count": 53,
     "metadata": {},
     "output_type": "execute_result"
    }
   ],
   "source": [
    "#lets look into review list\n",
    "df[df['reviews_list']=='[]'].shape"
   ]
  },
  {
   "cell_type": "code",
   "execution_count": 55,
   "id": "d10e053c",
   "metadata": {},
   "outputs": [
    {
     "data": {
      "text/html": [
       "<div>\n",
       "<style scoped>\n",
       "    .dataframe tbody tr th:only-of-type {\n",
       "        vertical-align: middle;\n",
       "    }\n",
       "\n",
       "    .dataframe tbody tr th {\n",
       "        vertical-align: top;\n",
       "    }\n",
       "\n",
       "    .dataframe thead th {\n",
       "        text-align: right;\n",
       "    }\n",
       "</style>\n",
       "<table border=\"1\" class=\"dataframe\">\n",
       "  <thead>\n",
       "    <tr style=\"text-align: right;\">\n",
       "      <th></th>\n",
       "      <th>name</th>\n",
       "      <th>book_table</th>\n",
       "      <th>rate</th>\n",
       "      <th>votes</th>\n",
       "      <th>location</th>\n",
       "      <th>rest_type</th>\n",
       "      <th>cuisines</th>\n",
       "      <th>approx_cost(for two people)</th>\n",
       "      <th>reviews_list</th>\n",
       "      <th>listed_in(type)</th>\n",
       "    </tr>\n",
       "    <tr>\n",
       "      <th>online_order</th>\n",
       "      <th></th>\n",
       "      <th></th>\n",
       "      <th></th>\n",
       "      <th></th>\n",
       "      <th></th>\n",
       "      <th></th>\n",
       "      <th></th>\n",
       "      <th></th>\n",
       "      <th></th>\n",
       "      <th></th>\n",
       "    </tr>\n",
       "  </thead>\n",
       "  <tbody>\n",
       "    <tr>\n",
       "      <th>No</th>\n",
       "      <td>4112</td>\n",
       "      <td>4112</td>\n",
       "      <td>0</td>\n",
       "      <td>4112</td>\n",
       "      <td>4112</td>\n",
       "      <td>4076</td>\n",
       "      <td>4109</td>\n",
       "      <td>4112</td>\n",
       "      <td>4112</td>\n",
       "      <td>4112</td>\n",
       "    </tr>\n",
       "    <tr>\n",
       "      <th>Yes</th>\n",
       "      <td>1117</td>\n",
       "      <td>1117</td>\n",
       "      <td>0</td>\n",
       "      <td>1117</td>\n",
       "      <td>1117</td>\n",
       "      <td>1107</td>\n",
       "      <td>1114</td>\n",
       "      <td>1117</td>\n",
       "      <td>1117</td>\n",
       "      <td>1117</td>\n",
       "    </tr>\n",
       "  </tbody>\n",
       "</table>\n",
       "</div>"
      ],
      "text/plain": [
       "              name  book_table  rate  votes  location  rest_type  cuisines  \\\n",
       "online_order                                                                 \n",
       "No            4112        4112     0   4112      4112       4076      4109   \n",
       "Yes           1117        1117     0   1117      1117       1107      1114   \n",
       "\n",
       "              approx_cost(for two people)  reviews_list  listed_in(type)  \n",
       "online_order                                                              \n",
       "No                                   4112          4112             4112  \n",
       "Yes                                  1117          1117             1117  "
      ]
     },
     "execution_count": 55,
     "metadata": {},
     "output_type": "execute_result"
    }
   ],
   "source": [
    "df[(df['reviews_list']=='[]')&(df['rate'].isna())].groupby('online_order').count()"
   ]
  },
  {
   "cell_type": "code",
   "execution_count": 59,
   "id": "74ae3b0a",
   "metadata": {},
   "outputs": [],
   "source": [
    "df = df[~ ((df['reviews_list']=='[]')&(df['rate'].isna()))]"
   ]
  },
  {
   "cell_type": "code",
   "execution_count": 60,
   "id": "b7a7fdf2",
   "metadata": {},
   "outputs": [
    {
     "data": {
      "text/plain": [
       "name                              0\n",
       "online_order                      0\n",
       "book_table                        0\n",
       "rate                           2452\n",
       "votes                             0\n",
       "location                          0\n",
       "rest_type                       158\n",
       "cuisines                         13\n",
       "approx_cost(for two people)       0\n",
       "reviews_list                      0\n",
       "listed_in(type)                   0\n",
       "dtype: int64"
      ]
     },
     "execution_count": 60,
     "metadata": {},
     "output_type": "execute_result"
    }
   ],
   "source": [
    "df.isna().sum()"
   ]
  },
  {
   "cell_type": "code",
   "execution_count": 63,
   "id": "df182963",
   "metadata": {},
   "outputs": [
    {
     "data": {
      "text/plain": [
       "array(['Casual Dining', 'Cafe, Casual Dining', 'Quick Bites',\n",
       "       'Casual Dining, Cafe', 'Cafe', 'Quick Bites, Cafe',\n",
       "       'Cafe, Quick Bites', 'Delivery', 'Mess', 'Dessert Parlor',\n",
       "       'Bakery, Dessert Parlor', 'Pub', 'Bakery', 'Takeaway, Delivery',\n",
       "       'Fine Dining', 'Beverage Shop', 'Sweet Shop', 'Bar',\n",
       "       'Beverage Shop, Quick Bites', 'Dessert Parlor, Sweet Shop',\n",
       "       'Bakery, Quick Bites', 'Sweet Shop, Quick Bites', 'Kiosk',\n",
       "       'Food Truck', 'Quick Bites, Dessert Parlor',\n",
       "       'Beverage Shop, Dessert Parlor', 'Takeaway', 'Pub, Casual Dining',\n",
       "       'Casual Dining, Bar', 'Dessert Parlor, Beverage Shop',\n",
       "       'Quick Bites, Bakery', 'Microbrewery, Casual Dining', 'Lounge',\n",
       "       'Bar, Casual Dining', 'Food Court', 'Cafe, Bakery', nan, 'Dhaba',\n",
       "       'Quick Bites, Sweet Shop', 'Microbrewery',\n",
       "       'Food Court, Quick Bites', 'Quick Bites, Beverage Shop',\n",
       "       'Pub, Bar', 'Casual Dining, Pub', 'Lounge, Bar',\n",
       "       'Dessert Parlor, Quick Bites', 'Food Court, Dessert Parlor',\n",
       "       'Casual Dining, Sweet Shop', 'Food Court, Casual Dining',\n",
       "       'Casual Dining, Microbrewery', 'Lounge, Casual Dining',\n",
       "       'Cafe, Food Court', 'Beverage Shop, Cafe', 'Cafe, Dessert Parlor',\n",
       "       'Dessert Parlor, Cafe', 'Dessert Parlor, Bakery',\n",
       "       'Microbrewery, Pub', 'Bakery, Food Court', 'Club',\n",
       "       'Quick Bites, Food Court', 'Bakery, Cafe', 'Pub, Cafe',\n",
       "       'Casual Dining, Irani Cafee', 'Fine Dining, Lounge',\n",
       "       'Bar, Quick Bites', 'Confectionery', 'Bakery, Kiosk',\n",
       "       'Pub, Microbrewery', 'Microbrewery, Lounge',\n",
       "       'Fine Dining, Microbrewery', 'Fine Dining, Bar',\n",
       "       'Dessert Parlor, Kiosk', 'Bhojanalya',\n",
       "       'Casual Dining, Quick Bites', 'Cafe, Bar', 'Casual Dining, Lounge',\n",
       "       'Bakery, Beverage Shop', 'Microbrewery, Bar', 'Cafe, Lounge',\n",
       "       'Bar, Pub', 'Lounge, Cafe', 'Club, Casual Dining',\n",
       "       'Quick Bites, Mess', 'Quick Bites, Meat Shop',\n",
       "       'Quick Bites, Kiosk', 'Lounge, Microbrewery',\n",
       "       'Food Court, Beverage Shop', 'Dessert Parlor, Food Court',\n",
       "       'Bar, Lounge'], dtype=object)"
      ]
     },
     "execution_count": 63,
     "metadata": {},
     "output_type": "execute_result"
    }
   ],
   "source": [
    "#lets look into rest_type \n",
    "df['rest_type'].unique()"
   ]
  },
  {
   "cell_type": "code",
   "execution_count": 72,
   "id": "1d2bba12",
   "metadata": {},
   "outputs": [],
   "source": [
    "import numpy as np"
   ]
  },
  {
   "cell_type": "code",
   "execution_count": 75,
   "id": "fa083727",
   "metadata": {},
   "outputs": [],
   "source": [
    "df['rest_type_list'] = df['rest_type'].apply(lambda x : np.nan if type(x)!=str else sorted(x.split(',')))"
   ]
  },
  {
   "cell_type": "code",
   "execution_count": 76,
   "id": "d37ad9b6",
   "metadata": {},
   "outputs": [
    {
     "data": {
      "text/html": [
       "<div>\n",
       "<style scoped>\n",
       "    .dataframe tbody tr th:only-of-type {\n",
       "        vertical-align: middle;\n",
       "    }\n",
       "\n",
       "    .dataframe tbody tr th {\n",
       "        vertical-align: top;\n",
       "    }\n",
       "\n",
       "    .dataframe thead th {\n",
       "        text-align: right;\n",
       "    }\n",
       "</style>\n",
       "<table border=\"1\" class=\"dataframe\">\n",
       "  <thead>\n",
       "    <tr style=\"text-align: right;\">\n",
       "      <th></th>\n",
       "      <th>rest_type</th>\n",
       "      <th>rest_type_list</th>\n",
       "    </tr>\n",
       "  </thead>\n",
       "  <tbody>\n",
       "    <tr>\n",
       "      <th>0</th>\n",
       "      <td>Casual Dining</td>\n",
       "      <td>[Casual Dining]</td>\n",
       "    </tr>\n",
       "    <tr>\n",
       "      <th>1</th>\n",
       "      <td>Casual Dining</td>\n",
       "      <td>[Casual Dining]</td>\n",
       "    </tr>\n",
       "    <tr>\n",
       "      <th>2</th>\n",
       "      <td>Cafe, Casual Dining</td>\n",
       "      <td>[ Casual Dining, Cafe]</td>\n",
       "    </tr>\n",
       "    <tr>\n",
       "      <th>3</th>\n",
       "      <td>Quick Bites</td>\n",
       "      <td>[Quick Bites]</td>\n",
       "    </tr>\n",
       "    <tr>\n",
       "      <th>4</th>\n",
       "      <td>Casual Dining</td>\n",
       "      <td>[Casual Dining]</td>\n",
       "    </tr>\n",
       "    <tr>\n",
       "      <th>...</th>\n",
       "      <td>...</td>\n",
       "      <td>...</td>\n",
       "    </tr>\n",
       "    <tr>\n",
       "      <th>51710</th>\n",
       "      <td>Bar</td>\n",
       "      <td>[Bar]</td>\n",
       "    </tr>\n",
       "    <tr>\n",
       "      <th>51711</th>\n",
       "      <td>Casual Dining, Bar</td>\n",
       "      <td>[ Bar, Casual Dining]</td>\n",
       "    </tr>\n",
       "    <tr>\n",
       "      <th>51712</th>\n",
       "      <td>Bar</td>\n",
       "      <td>[Bar]</td>\n",
       "    </tr>\n",
       "    <tr>\n",
       "      <th>51715</th>\n",
       "      <td>Bar</td>\n",
       "      <td>[Bar]</td>\n",
       "    </tr>\n",
       "    <tr>\n",
       "      <th>51716</th>\n",
       "      <td>Bar, Casual Dining</td>\n",
       "      <td>[ Casual Dining, Bar]</td>\n",
       "    </tr>\n",
       "  </tbody>\n",
       "</table>\n",
       "<p>46142 rows × 2 columns</p>\n",
       "</div>"
      ],
      "text/plain": [
       "                 rest_type          rest_type_list\n",
       "0            Casual Dining         [Casual Dining]\n",
       "1            Casual Dining         [Casual Dining]\n",
       "2      Cafe, Casual Dining  [ Casual Dining, Cafe]\n",
       "3              Quick Bites           [Quick Bites]\n",
       "4            Casual Dining         [Casual Dining]\n",
       "...                    ...                     ...\n",
       "51710                  Bar                   [Bar]\n",
       "51711   Casual Dining, Bar   [ Bar, Casual Dining]\n",
       "51712                  Bar                   [Bar]\n",
       "51715                  Bar                   [Bar]\n",
       "51716   Bar, Casual Dining   [ Casual Dining, Bar]\n",
       "\n",
       "[46142 rows x 2 columns]"
      ]
     },
     "execution_count": 76,
     "metadata": {},
     "output_type": "execute_result"
    }
   ],
   "source": [
    "df[['rest_type','rest_type_list']]"
   ]
  },
  {
   "cell_type": "code",
   "execution_count": 78,
   "id": "2f84e442",
   "metadata": {},
   "outputs": [],
   "source": [
    "df = df[~df['rest_type'].isna()]"
   ]
  },
  {
   "cell_type": "code",
   "execution_count": 79,
   "id": "6631c995",
   "metadata": {},
   "outputs": [
    {
     "data": {
      "text/plain": [
       "name                              0\n",
       "online_order                      0\n",
       "book_table                        0\n",
       "rate                           2443\n",
       "votes                             0\n",
       "location                          0\n",
       "rest_type                         0\n",
       "cuisines                         13\n",
       "approx_cost(for two people)       0\n",
       "reviews_list                      0\n",
       "listed_in(type)                   0\n",
       "rest_type_list                    0\n",
       "dtype: int64"
      ]
     },
     "execution_count": 79,
     "metadata": {},
     "output_type": "execute_result"
    }
   ],
   "source": [
    "df.isna().sum()"
   ]
  },
  {
   "cell_type": "code",
   "execution_count": 80,
   "id": "743e1536",
   "metadata": {},
   "outputs": [
    {
     "data": {
      "text/plain": [
       "(45984, 12)"
      ]
     },
     "execution_count": 80,
     "metadata": {},
     "output_type": "execute_result"
    }
   ],
   "source": [
    "df.shape"
   ]
  },
  {
   "cell_type": "code",
   "execution_count": 2,
   "id": "63211723",
   "metadata": {},
   "outputs": [],
   "source": [
    "df = pd.read_csv('csv/zomato_intermediate_cleaned_25th_sep.csv')"
   ]
  },
  {
   "cell_type": "code",
   "execution_count": 5,
   "id": "727e8748",
   "metadata": {},
   "outputs": [],
   "source": [
    "df.drop(['Unnamed: 0'],axis=1,inplace=True)"
   ]
  },
  {
   "cell_type": "code",
   "execution_count": 6,
   "id": "e5b9c9d3",
   "metadata": {},
   "outputs": [
    {
     "data": {
      "text/plain": [
       "Index(['name', 'online_order', 'book_table', 'rate', 'votes', 'location',\n",
       "       'rest_type', 'cuisines', 'approx_cost(for two people)', 'reviews_list',\n",
       "       'listed_in(type)', 'rest_type_list'],\n",
       "      dtype='object')"
      ]
     },
     "execution_count": 6,
     "metadata": {},
     "output_type": "execute_result"
    }
   ],
   "source": [
    "df.columns"
   ]
  },
  {
   "cell_type": "code",
   "execution_count": 7,
   "id": "3295e508",
   "metadata": {},
   "outputs": [
    {
     "data": {
      "text/plain": [
       "(45984, 12)"
      ]
     },
     "execution_count": 7,
     "metadata": {},
     "output_type": "execute_result"
    }
   ],
   "source": [
    "df.shape"
   ]
  },
  {
   "cell_type": "code",
   "execution_count": 9,
   "id": "576fb656",
   "metadata": {},
   "outputs": [],
   "source": [
    "df.drop_duplicates(inplace=True)"
   ]
  },
  {
   "cell_type": "code",
   "execution_count": 10,
   "id": "dcd86cd8",
   "metadata": {},
   "outputs": [
    {
     "data": {
      "text/plain": [
       "(35966, 12)"
      ]
     },
     "execution_count": 10,
     "metadata": {},
     "output_type": "execute_result"
    }
   ],
   "source": [
    "df.shape"
   ]
  },
  {
   "cell_type": "code",
   "execution_count": 11,
   "id": "42ffc389",
   "metadata": {},
   "outputs": [
    {
     "data": {
      "text/html": [
       "<div>\n",
       "<style scoped>\n",
       "    .dataframe tbody tr th:only-of-type {\n",
       "        vertical-align: middle;\n",
       "    }\n",
       "\n",
       "    .dataframe tbody tr th {\n",
       "        vertical-align: top;\n",
       "    }\n",
       "\n",
       "    .dataframe thead th {\n",
       "        text-align: right;\n",
       "    }\n",
       "</style>\n",
       "<table border=\"1\" class=\"dataframe\">\n",
       "  <thead>\n",
       "    <tr style=\"text-align: right;\">\n",
       "      <th></th>\n",
       "      <th>name</th>\n",
       "      <th>online_order</th>\n",
       "      <th>book_table</th>\n",
       "      <th>rate</th>\n",
       "      <th>votes</th>\n",
       "      <th>location</th>\n",
       "      <th>rest_type</th>\n",
       "      <th>cuisines</th>\n",
       "      <th>approx_cost(for two people)</th>\n",
       "      <th>reviews_list</th>\n",
       "      <th>listed_in(type)</th>\n",
       "      <th>rest_type_list</th>\n",
       "    </tr>\n",
       "  </thead>\n",
       "  <tbody>\n",
       "    <tr>\n",
       "      <th>0</th>\n",
       "      <td>Jalsa</td>\n",
       "      <td>Yes</td>\n",
       "      <td>Yes</td>\n",
       "      <td>4.1/5</td>\n",
       "      <td>775</td>\n",
       "      <td>Banashankari</td>\n",
       "      <td>Casual Dining</td>\n",
       "      <td>North Indian, Mughlai, Chinese</td>\n",
       "      <td>800</td>\n",
       "      <td>[('Rated 4.0', 'RATED\\n  A beautiful place to ...</td>\n",
       "      <td>Buffet</td>\n",
       "      <td>['Casual Dining']</td>\n",
       "    </tr>\n",
       "    <tr>\n",
       "      <th>1</th>\n",
       "      <td>Spice Elephant</td>\n",
       "      <td>Yes</td>\n",
       "      <td>No</td>\n",
       "      <td>4.1/5</td>\n",
       "      <td>787</td>\n",
       "      <td>Banashankari</td>\n",
       "      <td>Casual Dining</td>\n",
       "      <td>Chinese, North Indian, Thai</td>\n",
       "      <td>800</td>\n",
       "      <td>[('Rated 4.0', 'RATED\\n  Had been here for din...</td>\n",
       "      <td>Buffet</td>\n",
       "      <td>['Casual Dining']</td>\n",
       "    </tr>\n",
       "    <tr>\n",
       "      <th>2</th>\n",
       "      <td>San Churro Cafe</td>\n",
       "      <td>Yes</td>\n",
       "      <td>No</td>\n",
       "      <td>3.8/5</td>\n",
       "      <td>918</td>\n",
       "      <td>Banashankari</td>\n",
       "      <td>Cafe, Casual Dining</td>\n",
       "      <td>Cafe, Mexican, Italian</td>\n",
       "      <td>800</td>\n",
       "      <td>[('Rated 3.0', \"RATED\\n  Ambience is not that ...</td>\n",
       "      <td>Buffet</td>\n",
       "      <td>[' Casual Dining', 'Cafe']</td>\n",
       "    </tr>\n",
       "    <tr>\n",
       "      <th>3</th>\n",
       "      <td>Addhuri Udupi Bhojana</td>\n",
       "      <td>No</td>\n",
       "      <td>No</td>\n",
       "      <td>3.7/5</td>\n",
       "      <td>88</td>\n",
       "      <td>Banashankari</td>\n",
       "      <td>Quick Bites</td>\n",
       "      <td>South Indian, North Indian</td>\n",
       "      <td>300</td>\n",
       "      <td>[('Rated 4.0', \"RATED\\n  Great food and proper...</td>\n",
       "      <td>Buffet</td>\n",
       "      <td>['Quick Bites']</td>\n",
       "    </tr>\n",
       "    <tr>\n",
       "      <th>4</th>\n",
       "      <td>Grand Village</td>\n",
       "      <td>No</td>\n",
       "      <td>No</td>\n",
       "      <td>3.8/5</td>\n",
       "      <td>166</td>\n",
       "      <td>Basavanagudi</td>\n",
       "      <td>Casual Dining</td>\n",
       "      <td>North Indian, Rajasthani</td>\n",
       "      <td>600</td>\n",
       "      <td>[('Rated 4.0', 'RATED\\n  Very good restaurant ...</td>\n",
       "      <td>Buffet</td>\n",
       "      <td>['Casual Dining']</td>\n",
       "    </tr>\n",
       "  </tbody>\n",
       "</table>\n",
       "</div>"
      ],
      "text/plain": [
       "                    name online_order book_table   rate  votes      location  \\\n",
       "0                  Jalsa          Yes        Yes  4.1/5    775  Banashankari   \n",
       "1         Spice Elephant          Yes         No  4.1/5    787  Banashankari   \n",
       "2        San Churro Cafe          Yes         No  3.8/5    918  Banashankari   \n",
       "3  Addhuri Udupi Bhojana           No         No  3.7/5     88  Banashankari   \n",
       "4          Grand Village           No         No  3.8/5    166  Basavanagudi   \n",
       "\n",
       "             rest_type                        cuisines  \\\n",
       "0        Casual Dining  North Indian, Mughlai, Chinese   \n",
       "1        Casual Dining     Chinese, North Indian, Thai   \n",
       "2  Cafe, Casual Dining          Cafe, Mexican, Italian   \n",
       "3          Quick Bites      South Indian, North Indian   \n",
       "4        Casual Dining        North Indian, Rajasthani   \n",
       "\n",
       "  approx_cost(for two people)  \\\n",
       "0                         800   \n",
       "1                         800   \n",
       "2                         800   \n",
       "3                         300   \n",
       "4                         600   \n",
       "\n",
       "                                        reviews_list listed_in(type)  \\\n",
       "0  [('Rated 4.0', 'RATED\\n  A beautiful place to ...          Buffet   \n",
       "1  [('Rated 4.0', 'RATED\\n  Had been here for din...          Buffet   \n",
       "2  [('Rated 3.0', \"RATED\\n  Ambience is not that ...          Buffet   \n",
       "3  [('Rated 4.0', \"RATED\\n  Great food and proper...          Buffet   \n",
       "4  [('Rated 4.0', 'RATED\\n  Very good restaurant ...          Buffet   \n",
       "\n",
       "               rest_type_list  \n",
       "0           ['Casual Dining']  \n",
       "1           ['Casual Dining']  \n",
       "2  [' Casual Dining', 'Cafe']  \n",
       "3             ['Quick Bites']  \n",
       "4           ['Casual Dining']  "
      ]
     },
     "execution_count": 11,
     "metadata": {},
     "output_type": "execute_result"
    }
   ],
   "source": [
    "df.head()"
   ]
  },
  {
   "cell_type": "markdown",
   "id": "b5e5b2f8",
   "metadata": {},
   "source": [
    "- Ranking of his restaurant in the most preferred restaurants ?\n",
    "- What do people prefer most online or offline orders\n",
    "- What is the revenue at the week end?\n",
    "- When are we getting more bookings weekdays or weekends\n",
    "- Ranking of his restaurant in the most preferred restaurants ?\n",
    "- Book table option allowing\n",
    "- Which order will be higher priced, online or offline\n",
    "- Which cuisines get higher price"
   ]
  },
  {
   "cell_type": "markdown",
   "id": "a0434add",
   "metadata": {},
   "source": [
    "## Ranking of his/her restaurant in the most preferred restaurants in that location?"
   ]
  },
  {
   "cell_type": "code",
   "execution_count": 21,
   "id": "9d6f1412",
   "metadata": {},
   "outputs": [],
   "source": [
    "df.rename(columns={'approx_cost(for two people)':'cost'},inplace=True)"
   ]
  },
  {
   "cell_type": "code",
   "execution_count": 22,
   "id": "4e21c566",
   "metadata": {},
   "outputs": [
    {
     "data": {
      "text/html": [
       "<div>\n",
       "<style scoped>\n",
       "    .dataframe tbody tr th:only-of-type {\n",
       "        vertical-align: middle;\n",
       "    }\n",
       "\n",
       "    .dataframe tbody tr th {\n",
       "        vertical-align: top;\n",
       "    }\n",
       "\n",
       "    .dataframe thead th {\n",
       "        text-align: right;\n",
       "    }\n",
       "</style>\n",
       "<table border=\"1\" class=\"dataframe\">\n",
       "  <thead>\n",
       "    <tr style=\"text-align: right;\">\n",
       "      <th></th>\n",
       "      <th>restaurant_name</th>\n",
       "      <th>online_order</th>\n",
       "      <th>book_table</th>\n",
       "      <th>rate</th>\n",
       "      <th>votes</th>\n",
       "      <th>location</th>\n",
       "      <th>rest_type</th>\n",
       "      <th>cuisines</th>\n",
       "      <th>cost</th>\n",
       "      <th>reviews_list</th>\n",
       "      <th>listed_in(type)</th>\n",
       "      <th>rest_type_list</th>\n",
       "    </tr>\n",
       "  </thead>\n",
       "  <tbody>\n",
       "    <tr>\n",
       "      <th>0</th>\n",
       "      <td>Jalsa</td>\n",
       "      <td>Yes</td>\n",
       "      <td>Yes</td>\n",
       "      <td>4.1/5</td>\n",
       "      <td>775</td>\n",
       "      <td>Banashankari</td>\n",
       "      <td>Casual Dining</td>\n",
       "      <td>North Indian, Mughlai, Chinese</td>\n",
       "      <td>800</td>\n",
       "      <td>[('Rated 4.0', 'RATED\\n  A beautiful place to ...</td>\n",
       "      <td>Buffet</td>\n",
       "      <td>['Casual Dining']</td>\n",
       "    </tr>\n",
       "    <tr>\n",
       "      <th>1</th>\n",
       "      <td>Spice Elephant</td>\n",
       "      <td>Yes</td>\n",
       "      <td>No</td>\n",
       "      <td>4.1/5</td>\n",
       "      <td>787</td>\n",
       "      <td>Banashankari</td>\n",
       "      <td>Casual Dining</td>\n",
       "      <td>Chinese, North Indian, Thai</td>\n",
       "      <td>800</td>\n",
       "      <td>[('Rated 4.0', 'RATED\\n  Had been here for din...</td>\n",
       "      <td>Buffet</td>\n",
       "      <td>['Casual Dining']</td>\n",
       "    </tr>\n",
       "    <tr>\n",
       "      <th>2</th>\n",
       "      <td>San Churro Cafe</td>\n",
       "      <td>Yes</td>\n",
       "      <td>No</td>\n",
       "      <td>3.8/5</td>\n",
       "      <td>918</td>\n",
       "      <td>Banashankari</td>\n",
       "      <td>Cafe, Casual Dining</td>\n",
       "      <td>Cafe, Mexican, Italian</td>\n",
       "      <td>800</td>\n",
       "      <td>[('Rated 3.0', \"RATED\\n  Ambience is not that ...</td>\n",
       "      <td>Buffet</td>\n",
       "      <td>[' Casual Dining', 'Cafe']</td>\n",
       "    </tr>\n",
       "    <tr>\n",
       "      <th>3</th>\n",
       "      <td>Addhuri Udupi Bhojana</td>\n",
       "      <td>No</td>\n",
       "      <td>No</td>\n",
       "      <td>3.7/5</td>\n",
       "      <td>88</td>\n",
       "      <td>Banashankari</td>\n",
       "      <td>Quick Bites</td>\n",
       "      <td>South Indian, North Indian</td>\n",
       "      <td>300</td>\n",
       "      <td>[('Rated 4.0', \"RATED\\n  Great food and proper...</td>\n",
       "      <td>Buffet</td>\n",
       "      <td>['Quick Bites']</td>\n",
       "    </tr>\n",
       "    <tr>\n",
       "      <th>4</th>\n",
       "      <td>Grand Village</td>\n",
       "      <td>No</td>\n",
       "      <td>No</td>\n",
       "      <td>3.8/5</td>\n",
       "      <td>166</td>\n",
       "      <td>Basavanagudi</td>\n",
       "      <td>Casual Dining</td>\n",
       "      <td>North Indian, Rajasthani</td>\n",
       "      <td>600</td>\n",
       "      <td>[('Rated 4.0', 'RATED\\n  Very good restaurant ...</td>\n",
       "      <td>Buffet</td>\n",
       "      <td>['Casual Dining']</td>\n",
       "    </tr>\n",
       "  </tbody>\n",
       "</table>\n",
       "</div>"
      ],
      "text/plain": [
       "         restaurant_name online_order book_table   rate  votes      location  \\\n",
       "0                  Jalsa          Yes        Yes  4.1/5    775  Banashankari   \n",
       "1         Spice Elephant          Yes         No  4.1/5    787  Banashankari   \n",
       "2        San Churro Cafe          Yes         No  3.8/5    918  Banashankari   \n",
       "3  Addhuri Udupi Bhojana           No         No  3.7/5     88  Banashankari   \n",
       "4          Grand Village           No         No  3.8/5    166  Basavanagudi   \n",
       "\n",
       "             rest_type                        cuisines cost  \\\n",
       "0        Casual Dining  North Indian, Mughlai, Chinese  800   \n",
       "1        Casual Dining     Chinese, North Indian, Thai  800   \n",
       "2  Cafe, Casual Dining          Cafe, Mexican, Italian  800   \n",
       "3          Quick Bites      South Indian, North Indian  300   \n",
       "4        Casual Dining        North Indian, Rajasthani  600   \n",
       "\n",
       "                                        reviews_list listed_in(type)  \\\n",
       "0  [('Rated 4.0', 'RATED\\n  A beautiful place to ...          Buffet   \n",
       "1  [('Rated 4.0', 'RATED\\n  Had been here for din...          Buffet   \n",
       "2  [('Rated 3.0', \"RATED\\n  Ambience is not that ...          Buffet   \n",
       "3  [('Rated 4.0', \"RATED\\n  Great food and proper...          Buffet   \n",
       "4  [('Rated 4.0', 'RATED\\n  Very good restaurant ...          Buffet   \n",
       "\n",
       "               rest_type_list  \n",
       "0           ['Casual Dining']  \n",
       "1           ['Casual Dining']  \n",
       "2  [' Casual Dining', 'Cafe']  \n",
       "3             ['Quick Bites']  \n",
       "4           ['Casual Dining']  "
      ]
     },
     "execution_count": 22,
     "metadata": {},
     "output_type": "execute_result"
    }
   ],
   "source": [
    "df.head()"
   ]
  },
  {
   "cell_type": "code",
   "execution_count": 24,
   "id": "ff17ef7c",
   "metadata": {},
   "outputs": [
    {
     "data": {
      "text/html": [
       "<div>\n",
       "<style scoped>\n",
       "    .dataframe tbody tr th:only-of-type {\n",
       "        vertical-align: middle;\n",
       "    }\n",
       "\n",
       "    .dataframe tbody tr th {\n",
       "        vertical-align: top;\n",
       "    }\n",
       "\n",
       "    .dataframe thead th {\n",
       "        text-align: right;\n",
       "    }\n",
       "</style>\n",
       "<table border=\"1\" class=\"dataframe\">\n",
       "  <thead>\n",
       "    <tr style=\"text-align: right;\">\n",
       "      <th></th>\n",
       "      <th>restaurant_name</th>\n",
       "      <th>location</th>\n",
       "      <th>rate</th>\n",
       "      <th>votes</th>\n",
       "      <th>cost</th>\n",
       "    </tr>\n",
       "  </thead>\n",
       "  <tbody>\n",
       "    <tr>\n",
       "      <th>0</th>\n",
       "      <td>Jalsa</td>\n",
       "      <td>Banashankari</td>\n",
       "      <td>4.1/5</td>\n",
       "      <td>775</td>\n",
       "      <td>800</td>\n",
       "    </tr>\n",
       "    <tr>\n",
       "      <th>1</th>\n",
       "      <td>Spice Elephant</td>\n",
       "      <td>Banashankari</td>\n",
       "      <td>4.1/5</td>\n",
       "      <td>787</td>\n",
       "      <td>800</td>\n",
       "    </tr>\n",
       "    <tr>\n",
       "      <th>2</th>\n",
       "      <td>San Churro Cafe</td>\n",
       "      <td>Banashankari</td>\n",
       "      <td>3.8/5</td>\n",
       "      <td>918</td>\n",
       "      <td>800</td>\n",
       "    </tr>\n",
       "    <tr>\n",
       "      <th>3</th>\n",
       "      <td>Addhuri Udupi Bhojana</td>\n",
       "      <td>Banashankari</td>\n",
       "      <td>3.7/5</td>\n",
       "      <td>88</td>\n",
       "      <td>300</td>\n",
       "    </tr>\n",
       "    <tr>\n",
       "      <th>4</th>\n",
       "      <td>Grand Village</td>\n",
       "      <td>Basavanagudi</td>\n",
       "      <td>3.8/5</td>\n",
       "      <td>166</td>\n",
       "      <td>600</td>\n",
       "    </tr>\n",
       "    <tr>\n",
       "      <th>...</th>\n",
       "      <td>...</td>\n",
       "      <td>...</td>\n",
       "      <td>...</td>\n",
       "      <td>...</td>\n",
       "      <td>...</td>\n",
       "    </tr>\n",
       "    <tr>\n",
       "      <th>45979</th>\n",
       "      <td>Topsy Turvey</td>\n",
       "      <td>Whitefield</td>\n",
       "      <td>NaN</td>\n",
       "      <td>0</td>\n",
       "      <td>900</td>\n",
       "    </tr>\n",
       "    <tr>\n",
       "      <th>45980</th>\n",
       "      <td>Bhagini</td>\n",
       "      <td>Whitefield</td>\n",
       "      <td>2.5 /5</td>\n",
       "      <td>81</td>\n",
       "      <td>800</td>\n",
       "    </tr>\n",
       "    <tr>\n",
       "      <th>45981</th>\n",
       "      <td>Best Brews - Four Points by Sheraton Bengaluru...</td>\n",
       "      <td>Whitefield</td>\n",
       "      <td>3.6 /5</td>\n",
       "      <td>27</td>\n",
       "      <td>1,500</td>\n",
       "    </tr>\n",
       "    <tr>\n",
       "      <th>45982</th>\n",
       "      <td>Chime - Sheraton Grand Bengaluru Whitefield Ho...</td>\n",
       "      <td>ITPL Main Road, Whitefield</td>\n",
       "      <td>4.3 /5</td>\n",
       "      <td>236</td>\n",
       "      <td>2,500</td>\n",
       "    </tr>\n",
       "    <tr>\n",
       "      <th>45983</th>\n",
       "      <td>The Nest - The Den Bengaluru</td>\n",
       "      <td>ITPL Main Road, Whitefield</td>\n",
       "      <td>3.4 /5</td>\n",
       "      <td>13</td>\n",
       "      <td>1,500</td>\n",
       "    </tr>\n",
       "  </tbody>\n",
       "</table>\n",
       "<p>35966 rows × 5 columns</p>\n",
       "</div>"
      ],
      "text/plain": [
       "                                         restaurant_name  \\\n",
       "0                                                  Jalsa   \n",
       "1                                         Spice Elephant   \n",
       "2                                        San Churro Cafe   \n",
       "3                                  Addhuri Udupi Bhojana   \n",
       "4                                          Grand Village   \n",
       "...                                                  ...   \n",
       "45979                                       Topsy Turvey   \n",
       "45980                                            Bhagini   \n",
       "45981  Best Brews - Four Points by Sheraton Bengaluru...   \n",
       "45982  Chime - Sheraton Grand Bengaluru Whitefield Ho...   \n",
       "45983                       The Nest - The Den Bengaluru   \n",
       "\n",
       "                         location    rate  votes   cost  \n",
       "0                    Banashankari   4.1/5    775    800  \n",
       "1                    Banashankari   4.1/5    787    800  \n",
       "2                    Banashankari   3.8/5    918    800  \n",
       "3                    Banashankari   3.7/5     88    300  \n",
       "4                    Basavanagudi   3.8/5    166    600  \n",
       "...                           ...     ...    ...    ...  \n",
       "45979                  Whitefield     NaN      0    900  \n",
       "45980                  Whitefield  2.5 /5     81    800  \n",
       "45981                  Whitefield  3.6 /5     27  1,500  \n",
       "45982  ITPL Main Road, Whitefield  4.3 /5    236  2,500  \n",
       "45983  ITPL Main Road, Whitefield  3.4 /5     13  1,500  \n",
       "\n",
       "[35966 rows x 5 columns]"
      ]
     },
     "execution_count": 24,
     "metadata": {},
     "output_type": "execute_result"
    }
   ],
   "source": [
    "df[['restaurant_name','location','rate','votes','cost']]"
   ]
  },
  {
   "cell_type": "code",
   "execution_count": 41,
   "id": "49d490be",
   "metadata": {},
   "outputs": [],
   "source": [
    "df['rate_updated'] = df['rate'].apply(lambda x : np.nan if (type(x)!=str or x=='NEW' or x=='-') else float(x.split('/')[0]))"
   ]
  },
  {
   "cell_type": "code",
   "execution_count": 43,
   "id": "92b452b8",
   "metadata": {},
   "outputs": [
    {
     "data": {
      "text/plain": [
       "array([4.1, 3.8, 3.7, 3.6, 4.6, 4. , 4.2, 3.9, 3.1, 3. , 3.2, 3.3, 2.8,\n",
       "       4.4, 4.3, nan, 2.9, 3.5, 2.6, 3.4, 4.5, 2.5, 2.7, 4.7, 2.4, 2.2,\n",
       "       2.3, 4.8, 4.9, 2.1, 2. , 1.8])"
      ]
     },
     "execution_count": 43,
     "metadata": {},
     "output_type": "execute_result"
    }
   ],
   "source": [
    "df['rate_updated'].unique()"
   ]
  },
  {
   "cell_type": "code",
   "execution_count": 44,
   "id": "d39cd04c",
   "metadata": {},
   "outputs": [
    {
     "data": {
      "text/plain": [
       "2688"
      ]
     },
     "execution_count": 44,
     "metadata": {},
     "output_type": "execute_result"
    }
   ],
   "source": [
    "df['rate_updated'].isna().sum()"
   ]
  },
  {
   "cell_type": "code",
   "execution_count": 50,
   "id": "8c7725e2",
   "metadata": {},
   "outputs": [],
   "source": [
    "df['cost'] = df['cost'].str.replace(\",\",\"\").astype(int)"
   ]
  },
  {
   "cell_type": "code",
   "execution_count": 51,
   "id": "706963b2",
   "metadata": {},
   "outputs": [
    {
     "data": {
      "text/plain": [
       "array([ 800,  300,  600,  700,  550,  500,  450,  650,  400,  900,  200,\n",
       "        750,  150,  850,  100, 1200,  350,  250,  950, 1000, 1500, 1300,\n",
       "        199,   80, 1100,  160, 1600,  230,  130,   50, 1700, 1400, 1350,\n",
       "       2200, 2000, 1800, 1900,  180,  330, 2500, 2100, 3000, 2800, 3400,\n",
       "         40, 1250, 3500, 4000, 2400, 2600, 1450,   70, 3200,   60,  560,\n",
       "        240,  360, 6000, 1050, 2300, 4100,  120, 5000, 3700, 1650, 2700,\n",
       "       4500])"
      ]
     },
     "execution_count": 51,
     "metadata": {},
     "output_type": "execute_result"
    }
   ],
   "source": [
    "df['cost'].unique()"
   ]
  },
  {
   "cell_type": "code",
   "execution_count": 80,
   "id": "effa3a4b",
   "metadata": {},
   "outputs": [],
   "source": [
    "df.to_csv('csv/zomato_intermediate_v2.csv')"
   ]
  },
  {
   "cell_type": "code",
   "execution_count": null,
   "id": "58f0d0cc",
   "metadata": {},
   "outputs": [],
   "source": [
    "def n_largest"
   ]
  },
  {
   "cell_type": "code",
   "execution_count": 81,
   "id": "38816c26",
   "metadata": {},
   "outputs": [
    {
     "data": {
      "text/html": [
       "<div>\n",
       "<style scoped>\n",
       "    .dataframe tbody tr th:only-of-type {\n",
       "        vertical-align: middle;\n",
       "    }\n",
       "\n",
       "    .dataframe tbody tr th {\n",
       "        vertical-align: top;\n",
       "    }\n",
       "\n",
       "    .dataframe thead th {\n",
       "        text-align: right;\n",
       "    }\n",
       "</style>\n",
       "<table border=\"1\" class=\"dataframe\">\n",
       "  <thead>\n",
       "    <tr style=\"text-align: right;\">\n",
       "      <th></th>\n",
       "      <th></th>\n",
       "      <th>restaurant_name</th>\n",
       "      <th>online_order</th>\n",
       "      <th>book_table</th>\n",
       "      <th>rate</th>\n",
       "      <th>votes</th>\n",
       "      <th>location</th>\n",
       "      <th>rest_type</th>\n",
       "      <th>cuisines</th>\n",
       "      <th>cost</th>\n",
       "      <th>reviews_list</th>\n",
       "      <th>listed_in(type)</th>\n",
       "      <th>rest_type_list</th>\n",
       "      <th>rate_updated</th>\n",
       "    </tr>\n",
       "    <tr>\n",
       "      <th>location</th>\n",
       "      <th></th>\n",
       "      <th></th>\n",
       "      <th></th>\n",
       "      <th></th>\n",
       "      <th></th>\n",
       "      <th></th>\n",
       "      <th></th>\n",
       "      <th></th>\n",
       "      <th></th>\n",
       "      <th></th>\n",
       "      <th></th>\n",
       "      <th></th>\n",
       "      <th></th>\n",
       "      <th></th>\n",
       "    </tr>\n",
       "  </thead>\n",
       "  <tbody>\n",
       "    <tr>\n",
       "      <th rowspan=\"5\" valign=\"top\">BTM</th>\n",
       "      <th>7441</th>\n",
       "      <td>AB's - Absolute Barbecues</td>\n",
       "      <td>No</td>\n",
       "      <td>Yes</td>\n",
       "      <td>4.9/5</td>\n",
       "      <td>6375</td>\n",
       "      <td>BTM</td>\n",
       "      <td>Casual Dining</td>\n",
       "      <td>European, Mediterranean, North Indian, BBQ</td>\n",
       "      <td>1600</td>\n",
       "      <td>[('Rated 5.0', 'RATED\\n  We liked the place a ...</td>\n",
       "      <td>Buffet</td>\n",
       "      <td>['Casual Dining']</td>\n",
       "      <td>4.9</td>\n",
       "    </tr>\n",
       "    <tr>\n",
       "      <th>9336</th>\n",
       "      <td>AB's - Absolute Barbecues</td>\n",
       "      <td>No</td>\n",
       "      <td>Yes</td>\n",
       "      <td>4.9/5</td>\n",
       "      <td>6375</td>\n",
       "      <td>BTM</td>\n",
       "      <td>Casual Dining</td>\n",
       "      <td>European, Mediterranean, North Indian, BBQ</td>\n",
       "      <td>1600</td>\n",
       "      <td>[('Rated 5.0', 'RATED\\n  We liked the place a ...</td>\n",
       "      <td>Dine-out</td>\n",
       "      <td>['Casual Dining']</td>\n",
       "      <td>4.9</td>\n",
       "    </tr>\n",
       "    <tr>\n",
       "      <th>17361</th>\n",
       "      <td>AB's - Absolute Barbecues</td>\n",
       "      <td>No</td>\n",
       "      <td>Yes</td>\n",
       "      <td>4.9/5</td>\n",
       "      <td>6404</td>\n",
       "      <td>BTM</td>\n",
       "      <td>Casual Dining</td>\n",
       "      <td>European, Mediterranean, North Indian, BBQ</td>\n",
       "      <td>1600</td>\n",
       "      <td>[('Rated 5.0', \"RATED\\n  Best place for buffet...</td>\n",
       "      <td>Buffet</td>\n",
       "      <td>['Casual Dining']</td>\n",
       "      <td>4.9</td>\n",
       "    </tr>\n",
       "    <tr>\n",
       "      <th>19072</th>\n",
       "      <td>AB's - Absolute Barbecues</td>\n",
       "      <td>No</td>\n",
       "      <td>Yes</td>\n",
       "      <td>4.9 /5</td>\n",
       "      <td>6452</td>\n",
       "      <td>BTM</td>\n",
       "      <td>Casual Dining</td>\n",
       "      <td>European, Mediterranean, North Indian, BBQ</td>\n",
       "      <td>1600</td>\n",
       "      <td>[('Rated 5.0', 'RATED\\n  Undoubtedly the best ...</td>\n",
       "      <td>Dine-out</td>\n",
       "      <td>['Casual Dining']</td>\n",
       "      <td>4.9</td>\n",
       "    </tr>\n",
       "    <tr>\n",
       "      <th>19484</th>\n",
       "      <td>AB's - Absolute Barbecues</td>\n",
       "      <td>No</td>\n",
       "      <td>Yes</td>\n",
       "      <td>4.9/5</td>\n",
       "      <td>6404</td>\n",
       "      <td>BTM</td>\n",
       "      <td>Casual Dining</td>\n",
       "      <td>European, Mediterranean, North Indian, BBQ</td>\n",
       "      <td>1600</td>\n",
       "      <td>[('Rated 5.0', \"RATED\\n  Best place for buffet...</td>\n",
       "      <td>Buffet</td>\n",
       "      <td>['Casual Dining']</td>\n",
       "      <td>4.9</td>\n",
       "    </tr>\n",
       "    <tr>\n",
       "      <th>...</th>\n",
       "      <th>...</th>\n",
       "      <td>...</td>\n",
       "      <td>...</td>\n",
       "      <td>...</td>\n",
       "      <td>...</td>\n",
       "      <td>...</td>\n",
       "      <td>...</td>\n",
       "      <td>...</td>\n",
       "      <td>...</td>\n",
       "      <td>...</td>\n",
       "      <td>...</td>\n",
       "      <td>...</td>\n",
       "      <td>...</td>\n",
       "      <td>...</td>\n",
       "    </tr>\n",
       "    <tr>\n",
       "      <th rowspan=\"5\" valign=\"top\">Yeshwantpur</th>\n",
       "      <th>35558</th>\n",
       "      <td>Pavilion Restaurant</td>\n",
       "      <td>Yes</td>\n",
       "      <td>No</td>\n",
       "      <td>4.2 /5</td>\n",
       "      <td>100</td>\n",
       "      <td>Yeshwantpur</td>\n",
       "      <td>Casual Dining</td>\n",
       "      <td>North Indian, Chinese, Continental</td>\n",
       "      <td>1000</td>\n",
       "      <td>[('Rated 4.0', \"RATED\\n  This place is worth g...</td>\n",
       "      <td>Delivery</td>\n",
       "      <td>['Casual Dining']</td>\n",
       "      <td>4.2</td>\n",
       "    </tr>\n",
       "    <tr>\n",
       "      <th>35561</th>\n",
       "      <td>Chandrappa Hotel</td>\n",
       "      <td>Yes</td>\n",
       "      <td>No</td>\n",
       "      <td>4.2 /5</td>\n",
       "      <td>253</td>\n",
       "      <td>Yeshwantpur</td>\n",
       "      <td>Quick Bites</td>\n",
       "      <td>South Indian, North Indian, Chinese</td>\n",
       "      <td>450</td>\n",
       "      <td>[('Rated 4.0', \"RATED\\n  Jus amazing!!!!Ã\\x83...</td>\n",
       "      <td>Delivery</td>\n",
       "      <td>['Quick Bites']</td>\n",
       "      <td>4.2</td>\n",
       "    </tr>\n",
       "    <tr>\n",
       "      <th>35200</th>\n",
       "      <td>New Agarwal Bhavan</td>\n",
       "      <td>Yes</td>\n",
       "      <td>No</td>\n",
       "      <td>4.1 /5</td>\n",
       "      <td>253</td>\n",
       "      <td>Yeshwantpur</td>\n",
       "      <td>Quick Bites, Sweet Shop</td>\n",
       "      <td>North Indian, Chinese, Street Food, Mithai</td>\n",
       "      <td>400</td>\n",
       "      <td>[('Rated 4.5', 'RATED\\n  The staff is really p...</td>\n",
       "      <td>Delivery</td>\n",
       "      <td>[' Sweet Shop', 'Quick Bites']</td>\n",
       "      <td>4.1</td>\n",
       "    </tr>\n",
       "    <tr>\n",
       "      <th>39268</th>\n",
       "      <td>New Agarwal Bhavan</td>\n",
       "      <td>Yes</td>\n",
       "      <td>No</td>\n",
       "      <td>4.1 /5</td>\n",
       "      <td>254</td>\n",
       "      <td>Yeshwantpur</td>\n",
       "      <td>Quick Bites, Sweet Shop</td>\n",
       "      <td>North Indian, Chinese, Street Food, Mithai</td>\n",
       "      <td>400</td>\n",
       "      <td>[('Rated 4.5', 'RATED\\n  The staff is really p...</td>\n",
       "      <td>Delivery</td>\n",
       "      <td>[' Sweet Shop', 'Quick Bites']</td>\n",
       "      <td>4.1</td>\n",
       "    </tr>\n",
       "    <tr>\n",
       "      <th>35225</th>\n",
       "      <td>Fishing Boat</td>\n",
       "      <td>Yes</td>\n",
       "      <td>No</td>\n",
       "      <td>4.0 /5</td>\n",
       "      <td>89</td>\n",
       "      <td>Yeshwantpur</td>\n",
       "      <td>Quick Bites</td>\n",
       "      <td>Kerala, South Indian, Chinese</td>\n",
       "      <td>300</td>\n",
       "      <td>[('Rated 4.0', 'RATED\\n  A very good place to ...</td>\n",
       "      <td>Delivery</td>\n",
       "      <td>['Quick Bites']</td>\n",
       "      <td>4.0</td>\n",
       "    </tr>\n",
       "  </tbody>\n",
       "</table>\n",
       "<p>448 rows × 13 columns</p>\n",
       "</div>"
      ],
      "text/plain": [
       "                             restaurant_name online_order book_table    rate  \\\n",
       "location                                                                       \n",
       "BTM         7441   AB's - Absolute Barbecues           No        Yes   4.9/5   \n",
       "            9336   AB's - Absolute Barbecues           No        Yes   4.9/5   \n",
       "            17361  AB's - Absolute Barbecues           No        Yes   4.9/5   \n",
       "            19072  AB's - Absolute Barbecues           No        Yes  4.9 /5   \n",
       "            19484  AB's - Absolute Barbecues           No        Yes   4.9/5   \n",
       "...                                      ...          ...        ...     ...   \n",
       "Yeshwantpur 35558        Pavilion Restaurant          Yes         No  4.2 /5   \n",
       "            35561           Chandrappa Hotel          Yes         No  4.2 /5   \n",
       "            35200         New Agarwal Bhavan          Yes         No  4.1 /5   \n",
       "            39268         New Agarwal Bhavan          Yes         No  4.1 /5   \n",
       "            35225               Fishing Boat          Yes         No  4.0 /5   \n",
       "\n",
       "                   votes     location                rest_type  \\\n",
       "location                                                         \n",
       "BTM         7441    6375          BTM            Casual Dining   \n",
       "            9336    6375          BTM            Casual Dining   \n",
       "            17361   6404          BTM            Casual Dining   \n",
       "            19072   6452          BTM            Casual Dining   \n",
       "            19484   6404          BTM            Casual Dining   \n",
       "...                  ...          ...                      ...   \n",
       "Yeshwantpur 35558    100  Yeshwantpur            Casual Dining   \n",
       "            35561    253  Yeshwantpur              Quick Bites   \n",
       "            35200    253  Yeshwantpur  Quick Bites, Sweet Shop   \n",
       "            39268    254  Yeshwantpur  Quick Bites, Sweet Shop   \n",
       "            35225     89  Yeshwantpur              Quick Bites   \n",
       "\n",
       "                                                     cuisines  cost  \\\n",
       "location                                                              \n",
       "BTM         7441   European, Mediterranean, North Indian, BBQ  1600   \n",
       "            9336   European, Mediterranean, North Indian, BBQ  1600   \n",
       "            17361  European, Mediterranean, North Indian, BBQ  1600   \n",
       "            19072  European, Mediterranean, North Indian, BBQ  1600   \n",
       "            19484  European, Mediterranean, North Indian, BBQ  1600   \n",
       "...                                                       ...   ...   \n",
       "Yeshwantpur 35558          North Indian, Chinese, Continental  1000   \n",
       "            35561         South Indian, North Indian, Chinese   450   \n",
       "            35200  North Indian, Chinese, Street Food, Mithai   400   \n",
       "            39268  North Indian, Chinese, Street Food, Mithai   400   \n",
       "            35225               Kerala, South Indian, Chinese   300   \n",
       "\n",
       "                                                        reviews_list  \\\n",
       "location                                                               \n",
       "BTM         7441   [('Rated 5.0', 'RATED\\n  We liked the place a ...   \n",
       "            9336   [('Rated 5.0', 'RATED\\n  We liked the place a ...   \n",
       "            17361  [('Rated 5.0', \"RATED\\n  Best place for buffet...   \n",
       "            19072  [('Rated 5.0', 'RATED\\n  Undoubtedly the best ...   \n",
       "            19484  [('Rated 5.0', \"RATED\\n  Best place for buffet...   \n",
       "...                                                              ...   \n",
       "Yeshwantpur 35558  [('Rated 4.0', \"RATED\\n  This place is worth g...   \n",
       "            35561  [('Rated 4.0', \"RATED\\n  Jus amazing!!!!Ã\\x83...   \n",
       "            35200  [('Rated 4.5', 'RATED\\n  The staff is really p...   \n",
       "            39268  [('Rated 4.5', 'RATED\\n  The staff is really p...   \n",
       "            35225  [('Rated 4.0', 'RATED\\n  A very good place to ...   \n",
       "\n",
       "                  listed_in(type)                  rest_type_list  \\\n",
       "location                                                            \n",
       "BTM         7441           Buffet               ['Casual Dining']   \n",
       "            9336         Dine-out               ['Casual Dining']   \n",
       "            17361          Buffet               ['Casual Dining']   \n",
       "            19072        Dine-out               ['Casual Dining']   \n",
       "            19484          Buffet               ['Casual Dining']   \n",
       "...                           ...                             ...   \n",
       "Yeshwantpur 35558        Delivery               ['Casual Dining']   \n",
       "            35561        Delivery                 ['Quick Bites']   \n",
       "            35200        Delivery  [' Sweet Shop', 'Quick Bites']   \n",
       "            39268        Delivery  [' Sweet Shop', 'Quick Bites']   \n",
       "            35225        Delivery                 ['Quick Bites']   \n",
       "\n",
       "                   rate_updated  \n",
       "location                         \n",
       "BTM         7441            4.9  \n",
       "            9336            4.9  \n",
       "            17361           4.9  \n",
       "            19072           4.9  \n",
       "            19484           4.9  \n",
       "...                         ...  \n",
       "Yeshwantpur 35558           4.2  \n",
       "            35561           4.2  \n",
       "            35200           4.1  \n",
       "            39268           4.1  \n",
       "            35225           4.0  \n",
       "\n",
       "[448 rows x 13 columns]"
      ]
     },
     "execution_count": 81,
     "metadata": {},
     "output_type": "execute_result"
    }
   ],
   "source": [
    "df.groupby('location').apply(lambda x:x.nlargest(5,['rate_updated']))"
   ]
  },
  {
   "cell_type": "code",
   "execution_count": 61,
   "id": "751e9c4c",
   "metadata": {},
   "outputs": [],
   "source": [
    "df_grp_location = df.groupby('location').apply(lambda x:x.nlargest(5,['rate_updated'])['cost'].mean()).reset_index()"
   ]
  },
  {
   "cell_type": "code",
   "execution_count": 65,
   "id": "4079e734",
   "metadata": {},
   "outputs": [],
   "source": [
    "df_grp_location.columns = ['location','top_5_mean_cost']"
   ]
  },
  {
   "cell_type": "code",
   "execution_count": 69,
   "id": "9fb28787",
   "metadata": {},
   "outputs": [
    {
     "data": {
      "text/html": [
       "<div>\n",
       "<style scoped>\n",
       "    .dataframe tbody tr th:only-of-type {\n",
       "        vertical-align: middle;\n",
       "    }\n",
       "\n",
       "    .dataframe tbody tr th {\n",
       "        vertical-align: top;\n",
       "    }\n",
       "\n",
       "    .dataframe thead th {\n",
       "        text-align: right;\n",
       "    }\n",
       "</style>\n",
       "<table border=\"1\" class=\"dataframe\">\n",
       "  <thead>\n",
       "    <tr style=\"text-align: right;\">\n",
       "      <th></th>\n",
       "      <th>location</th>\n",
       "      <th>top_5_mean_cost</th>\n",
       "    </tr>\n",
       "  </thead>\n",
       "  <tbody>\n",
       "    <tr>\n",
       "      <th>74</th>\n",
       "      <td>Sankey Road</td>\n",
       "      <td>3330.0</td>\n",
       "    </tr>\n",
       "    <tr>\n",
       "      <th>51</th>\n",
       "      <td>MG Road</td>\n",
       "      <td>2920.0</td>\n",
       "    </tr>\n",
       "    <tr>\n",
       "      <th>26</th>\n",
       "      <td>ITPL Main Road, Whitefield</td>\n",
       "      <td>1920.0</td>\n",
       "    </tr>\n",
       "    <tr>\n",
       "      <th>54</th>\n",
       "      <td>Malleshwaram</td>\n",
       "      <td>1880.0</td>\n",
       "    </tr>\n",
       "    <tr>\n",
       "      <th>61</th>\n",
       "      <td>Old Airport Road</td>\n",
       "      <td>1800.0</td>\n",
       "    </tr>\n",
       "  </tbody>\n",
       "</table>\n",
       "</div>"
      ],
      "text/plain": [
       "                      location  top_5_mean_cost\n",
       "74                 Sankey Road           3330.0\n",
       "51                     MG Road           2920.0\n",
       "26  ITPL Main Road, Whitefield           1920.0\n",
       "54                Malleshwaram           1880.0\n",
       "61            Old Airport Road           1800.0"
      ]
     },
     "execution_count": 69,
     "metadata": {},
     "output_type": "execute_result"
    }
   ],
   "source": [
    "df_grp_location.sort_values(by='top_5_mean_cost',ascending=False)[:5]"
   ]
  },
  {
   "cell_type": "code",
   "execution_count": 79,
   "id": "0266ca47",
   "metadata": {},
   "outputs": [
    {
     "data": {
      "text/plain": [
       "<AxesSubplot:ylabel='location'>"
      ]
     },
     "execution_count": 79,
     "metadata": {},
     "output_type": "execute_result"
    },
    {
     "data": {
      "image/png": "[encoded data removed]",
      "text/plain": [
       "<Figure size 432x288 with 1 Axes>"
      ]
     },
     "metadata": {
      "needs_background": "light"
     },
     "output_type": "display_data"
    }
   ],
   "source": [
    "df_grp_location.sort_values(by='top_5_mean_cost',ascending=False)[:10].plot.barh(x='location',y='top_5_mean_cost')"
   ]
  },
  {
   "cell_type": "code",
   "execution_count": 88,
   "id": "ffa8f697",
   "metadata": {},
   "outputs": [],
   "source": [
    "df_grp_location = df.groupby('location').apply(lambda x:x['cost'].mean()).reset_index()"
   ]
  },
  {
   "cell_type": "code",
   "execution_count": 89,
   "id": "3cc653d5",
   "metadata": {},
   "outputs": [],
   "source": [
    "df_grp_location.columns = ['location','mean_cost']"
   ]
  },
  {
   "cell_type": "code",
   "execution_count": 91,
   "id": "ce5f0154",
   "metadata": {},
   "outputs": [
    {
     "data": {
      "text/plain": [
       "<AxesSubplot:ylabel='location'>"
      ]
     },
     "execution_count": 91,
     "metadata": {},
     "output_type": "execute_result"
    },
    {
     "data": {
      "image/png": "[encoded data removed]",
      "text/plain": [
       "<Figure size 432x288 with 1 Axes>"
      ]
     },
     "metadata": {
      "needs_background": "light"
     },
     "output_type": "display_data"
    }
   ],
   "source": [
    "df_grp_location.sort_values(by='mean_cost',ascending=False)[:20].plot.barh(x='location',y='mean_cost')"
   ]
  },
  {
   "cell_type": "code",
   "execution_count": 97,
   "id": "371bbd38",
   "metadata": {},
   "outputs": [
    {
     "data": {
      "text/plain": [
       "Text(0.5, 1.0, 'rate updated for different online_order')"
      ]
     },
     "execution_count": 97,
     "metadata": {},
     "output_type": "execute_result"
    },
    {
     "data": {
      "image/png": "[encoded data removed]",
      "text/plain": [
       "<Figure size 576x360 with 1 Axes>"
      ]
     },
     "metadata": {
      "needs_background": "light"
     },
     "output_type": "display_data"
    }
   ],
   "source": [
    "plt.figure(figsize=(8,5))\n",
    "sns.boxplot(x='online_order',y='rate_updated',data=df, palette='rainbow')\n",
    "plt.title(\"rate updated for different online_order\")"
   ]
  },
  {
   "cell_type": "code",
   "execution_count": 98,
   "id": "9645fb24",
   "metadata": {},
   "outputs": [
    {
     "data": {
      "text/plain": [
       "Text(0.5, 1.0, 'cost for different online_order')"
      ]
     },
     "execution_count": 98,
     "metadata": {},
     "output_type": "execute_result"
    },
    {
     "data": {
      "image/png": "[encoded data removed]",
      "text/plain": [
       "<Figure size 576x360 with 1 Axes>"
      ]
     },
     "metadata": {
      "needs_background": "light"
     },
     "output_type": "display_data"
    }
   ],
   "source": [
    "plt.figure(figsize=(8,5))\n",
    "sns.boxplot(x='online_order',y='cost',data=df, palette='rainbow')\n",
    "plt.title(\"cost for different online_order\")"
   ]
  },
  {
   "cell_type": "code",
   "execution_count": 99,
   "id": "2e94e138",
   "metadata": {},
   "outputs": [
    {
     "data": {
      "text/plain": [
       "Text(0.5, 1.0, 'cost for different booking option')"
      ]
     },
     "execution_count": 99,
     "metadata": {},
     "output_type": "execute_result"
    },
    {
     "data": {
      "image/png": "[encoded data removed]",
      "text/plain": [
       "<Figure size 576x360 with 1 Axes>"
      ]
     },
     "metadata": {
      "needs_background": "light"
     },
     "output_type": "display_data"
    }
   ],
   "source": [
    "plt.figure(figsize=(8,5))\n",
    "sns.boxplot(x='book_table',y='cost',data=df, palette='rainbow')\n",
    "plt.title(\"cost for different booking option\")"
   ]
  },
  {
   "cell_type": "code",
   "execution_count": 101,
   "id": "545b0544",
   "metadata": {},
   "outputs": [
    {
     "data": {
      "text/plain": [
       "Text(0.5, 1.0, 'rate for different booking option')"
      ]
     },
     "execution_count": 101,
     "metadata": {},
     "output_type": "execute_result"
    },
    {
     "data": {
      "image/png": "[encoded data removed]",
      "text/plain": [
       "<Figure size 576x360 with 1 Axes>"
      ]
     },
     "metadata": {
      "needs_background": "light"
     },
     "output_type": "display_data"
    }
   ],
   "source": [
    "plt.figure(figsize=(8,5))\n",
    "sns.boxplot(x='book_table',y='rate_updated',data=df, palette='rainbow')\n",
    "plt.title(\"rate for different booking option\")"
   ]
  },
  {
   "cell_type": "code",
   "execution_count": null,
   "id": "6d9e8178",
   "metadata": {},
   "outputs": [],
   "source": []
  }
 ],
 "metadata": {
  "kernelspec": {
   "display_name": "Python 3 (ipykernel)",
   "language": "python",
   "name": "python3"
  },
  "language_info": {
   "codemirror_mode": {
    "name": "ipython",
    "version": 3
   },
   "file_extension": ".py",
   "mimetype": "text/x-python",
   "name": "python",
   "nbconvert_exporter": "python",
   "pygments_lexer": "ipython3",
   "version": "3.10.6"
  }
 },
 "nbformat": 4,
 "nbformat_minor": 5
}
