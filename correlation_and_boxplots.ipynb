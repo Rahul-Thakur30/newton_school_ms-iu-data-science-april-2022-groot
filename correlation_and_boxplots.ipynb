{
 "cells": [
  {
   "cell_type": "markdown",
   "id": "19272aba",
   "metadata": {},
   "source": [
    "## What is correlation?"
   ]
  },
  {
   "cell_type": "markdown",
   "id": "8dad81a8",
   "metadata": {},
   "source": [
    "Correlation is a statistical measure that expresses the extent to which two variables are linearly related (meaning they change together at a constant rate). It's a common tool for describing simple relationships without making a statement about cause and effect."
   ]
  },
  {
   "cell_type": "code",
   "execution_count": null,
   "id": "39651771",
   "metadata": {},
   "outputs": [],
   "source": []
  },
  {
   "cell_type": "code",
   "execution_count": null,
   "id": "d7fac676",
   "metadata": {},
   "outputs": [],
   "source": []
  },
  {
   "cell_type": "code",
   "execution_count": null,
   "id": "1c2527d1",
   "metadata": {},
   "outputs": [],
   "source": []
  },
  {
   "cell_type": "markdown",
   "id": "931413b8",
   "metadata": {},
   "source": [
    "<b>Pearson Correlation Coefficient</b>"
   ]
  },
  {
   "cell_type": "markdown",
   "id": "49b3a6dd",
   "metadata": {},
   "source": [
    "<img src='https://miro.medium.com/max/640/1*YGSS2iU9jPxLcyaTTdyr4A.jpeg'>"
   ]
  },
  {
   "cell_type": "code",
   "execution_count": null,
   "id": "9883e61d",
   "metadata": {},
   "outputs": [],
   "source": []
  },
  {
   "cell_type": "code",
   "execution_count": null,
   "id": "3b94e320",
   "metadata": {},
   "outputs": [],
   "source": []
  },
  {
   "cell_type": "markdown",
   "id": "75564977",
   "metadata": {},
   "source": [
    "<img src='https://www.statisticshowto.com/wp-content/uploads/2012/10/pearson-2-small.png'>"
   ]
  },
  {
   "cell_type": "code",
   "execution_count": null,
   "id": "e0db4d3e",
   "metadata": {},
   "outputs": [],
   "source": []
  },
  {
   "cell_type": "markdown",
   "id": "9a2d2ea8",
   "metadata": {},
   "source": [
    "## correlation does not imply causation"
   ]
  },
  {
   "cell_type": "markdown",
   "id": "d1cbb515",
   "metadata": {},
   "source": [
    "<img src='https://www.statology.org/wp-content/uploads/2021/08/corrCause1-768x557.png' width=\"400\" height=\"400\">"
   ]
  },
  {
   "cell_type": "code",
   "execution_count": null,
   "id": "071a21cb",
   "metadata": {},
   "outputs": [],
   "source": []
  },
  {
   "cell_type": "code",
   "execution_count": 4,
   "id": "463b39ee",
   "metadata": {},
   "outputs": [],
   "source": [
    "import pandas as pd\n",
    "import matplotlib.pyplot as plt\n",
    "import seaborn as sns\n",
    "import numpy as np"
   ]
  },
  {
   "cell_type": "code",
   "execution_count": 5,
   "id": "4d27dc78",
   "metadata": {
    "collapsed": true
   },
   "outputs": [
    {
     "name": "stderr",
     "output_type": "stream",
     "text": [
      "C:\\Users\\rahul\\AppData\\Local\\Temp\\ipykernel_26352\\2912702214.py:1: DtypeWarning: Columns (5,7) have mixed types. Specify dtype option on import or set low_memory=False.\n",
      "  df = pd.read_csv('csv/r_dataisbeautiful_posts.csv')\n"
     ]
    }
   ],
   "source": [
    "df = pd.read_csv('csv/r_dataisbeautiful_posts.csv')"
   ]
  },
  {
   "cell_type": "code",
   "execution_count": null,
   "id": "fcae979e",
   "metadata": {},
   "outputs": [],
   "source": []
  },
  {
   "cell_type": "markdown",
   "id": "f504508b",
   "metadata": {},
   "source": [
    "# Box plot\n"
   ]
  },
  {
   "cell_type": "markdown",
   "id": "7600b4ea",
   "metadata": {},
   "source": [
    "<img src='https://www150.statcan.gc.ca/n1/edu/power-pouvoir/fig/fig04-5-2-1-eng.png' height='500' width='500'>"
   ]
  },
  {
   "cell_type": "code",
   "execution_count": null,
   "id": "dd0b702c",
   "metadata": {},
   "outputs": [],
   "source": []
  },
  {
   "cell_type": "markdown",
   "id": "5048dc25",
   "metadata": {},
   "source": [
    "# A box plot gives a five-number summary of a set of data which is-\n",
    "\n",
    "- Minimum – It is the minimum value in the dataset excluding the outliers\n",
    "- First Quartile (Q1) – 25% of the data lies below the First (lower) Quartile.\n",
    "- Median (Q2) – It is the mid-point of the dataset. Half of the values lie below it and half above.\n",
    "- Third Quartile (Q3) – 75% of the data lies below the Third (Upper) Quartile.\n",
    "- Maximum – It is the maximum value in the dataset excluding the outliers."
   ]
  },
  {
   "cell_type": "code",
   "execution_count": null,
   "id": "a70910f7",
   "metadata": {},
   "outputs": [],
   "source": []
  },
  {
   "cell_type": "markdown",
   "id": "0b76f12a",
   "metadata": {},
   "source": [
    "The area inside the box (50% of the data) is known as the Inter Quartile Range.<br> The IQR is calculated as –\n",
    "IQR = Q3-Q1\n"
   ]
  },
  {
   "cell_type": "markdown",
   "id": "a5454945",
   "metadata": {},
   "source": [
    "\n",
    "Outliers are the data points below and above the lower and upper limit. The lower and upper limit is calculated as – \n",
    "- Lower Limit = Q1 - 1.5*IQR\n",
    "- Upper Limit = Q3 + 1.5*IQR"
   ]
  },
  {
   "cell_type": "code",
   "execution_count": null,
   "id": "5aad75f7",
   "metadata": {},
   "outputs": [],
   "source": []
  },
  {
   "cell_type": "markdown",
   "id": "0a119b20",
   "metadata": {},
   "source": [
    "<img src='https://www.simplypsychology.org/box-plots-distribution.jpg' height=\"500\" widht=\"500\">"
   ]
  },
  {
   "cell_type": "code",
   "execution_count": null,
   "id": "a276660b",
   "metadata": {},
   "outputs": [],
   "source": []
  }
 ],
 "metadata": {
  "kernelspec": {
   "display_name": "Python 3 (ipykernel)",
   "language": "python",
   "name": "python3"
  },
  "language_info": {
   "codemirror_mode": {
    "name": "ipython",
    "version": 3
   },
   "file_extension": ".py",
   "mimetype": "text/x-python",
   "name": "python",
   "nbconvert_exporter": "python",
   "pygments_lexer": "ipython3",
   "version": "3.10.6"
  }
 },
 "nbformat": 4,
 "nbformat_minor": 5
}
