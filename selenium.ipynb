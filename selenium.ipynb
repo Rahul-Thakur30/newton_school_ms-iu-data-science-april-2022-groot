{
 "cells": [
  {
   "cell_type": "code",
   "execution_count": 1,
   "id": "80778c9f",
   "metadata": {},
   "outputs": [],
   "source": [
    "from selenium import webdriver\n",
    "import time\n",
    "import requests\n",
    "from bs4 import BeautifulSoup\n",
    "import numpy as np\n",
    "import pandas as pd\n",
    "import matplotlib.pyplot as plt\n",
    "from selenium.webdriver.common.by import By\n",
    "from selenium.webdriver.firefox.firefox_binary import FirefoxBinary\n"
   ]
  },
  {
   "cell_type": "code",
   "execution_count": null,
   "id": "40d52ca6",
   "metadata": {},
   "outputs": [],
   "source": [
    "response = requests.get('http://quotes.toscrape.com/')"
   ]
  },
  {
   "cell_type": "code",
   "execution_count": 9,
   "id": "0ec82805",
   "metadata": {},
   "outputs": [
    {
     "name": "stderr",
     "output_type": "stream",
     "text": [
      "C:\\Users\\rahul\\AppData\\Local\\Temp\\ipykernel_4236\\310604149.py:2: DeprecationWarning: executable_path has been deprecated, please pass in a Service object\n",
      "  driver = webdriver.Firefox(executable_path=r'C:/Users/rahul/Downloads/geckodriver-v0.31.0-win64/geckodriver.exe')\n"
     ]
    }
   ],
   "source": [
    "from selenium import webdriver\n",
    "driver = webdriver.Firefox(executable_path=r'C:/Users/rahul/Downloads/geckodriver-v0.31.0-win64/geckodriver.exe')\n",
    "driver.get(\"http://quotes.toscrape.com/\")\n",
    "time.sleep(1)\n",
    "source_html = driver.page_source"
   ]
  },
  {
   "cell_type": "code",
   "execution_count": 11,
   "id": "ec7ec261",
   "metadata": {},
   "outputs": [],
   "source": [
    "from selenium.webdriver.common.by import By\n"
   ]
  },
  {
   "cell_type": "code",
   "execution_count": 12,
   "id": "3e94755a",
   "metadata": {},
   "outputs": [],
   "source": [
    "list_item = driver.find_element(By.CLASS_NAME,\"next\")\n",
    "\n",
    "\n"
   ]
  },
  {
   "cell_type": "code",
   "execution_count": 13,
   "id": "7c1f5f14",
   "metadata": {},
   "outputs": [
    {
     "data": {
      "text/plain": [
       "<selenium.webdriver.remote.webelement.WebElement (session=\"45025db2-a680-4781-907f-0404003d55f7\", element=\"32d379ff-40a5-46f4-9208-65b56477b6ad\")>"
      ]
     },
     "execution_count": 13,
     "metadata": {},
     "output_type": "execute_result"
    }
   ],
   "source": [
    "list_item"
   ]
  },
  {
   "cell_type": "code",
   "execution_count": 14,
   "id": "4454460d",
   "metadata": {},
   "outputs": [],
   "source": [
    "anchor = list_item.find_element(By.TAG_NAME,\"a\")"
   ]
  },
  {
   "cell_type": "code",
   "execution_count": 15,
   "id": "c62feaca",
   "metadata": {},
   "outputs": [
    {
     "data": {
      "text/plain": [
       "<selenium.webdriver.remote.webelement.WebElement (session=\"45025db2-a680-4781-907f-0404003d55f7\", element=\"97a7ef41-a312-4c51-bb80-e1fd33a6d8a6\")>"
      ]
     },
     "execution_count": 15,
     "metadata": {},
     "output_type": "execute_result"
    }
   ],
   "source": [
    "anchor"
   ]
  },
  {
   "cell_type": "code",
   "execution_count": 20,
   "id": "a26e336f",
   "metadata": {},
   "outputs": [],
   "source": [
    "li_previous = driver.find_element(By.CLASS_NAME,\"previous\")"
   ]
  },
  {
   "cell_type": "code",
   "execution_count": 22,
   "id": "0f9db19e",
   "metadata": {},
   "outputs": [],
   "source": [
    "previous_anchor_tag = li_previous.find_element(By.TAG_NAME,\"a\")"
   ]
  },
  {
   "cell_type": "code",
   "execution_count": 24,
   "id": "7b470b42",
   "metadata": {},
   "outputs": [],
   "source": [
    "previous_anchor_tag.click()"
   ]
  },
  {
   "cell_type": "code",
   "execution_count": 17,
   "id": "3ef7f0f4",
   "metadata": {},
   "outputs": [
    {
     "data": {
      "text/plain": [
       "<selenium.webdriver.remote.webelement.WebElement (session=\"45025db2-a680-4781-907f-0404003d55f7\", element=\"97a7ef41-a312-4c51-bb80-e1fd33a6d8a6\")>"
      ]
     },
     "execution_count": 17,
     "metadata": {},
     "output_type": "execute_result"
    }
   ],
   "source": []
  },
  {
   "cell_type": "code",
   "execution_count": 20,
   "id": "43c484c5",
   "metadata": {},
   "outputs": [],
   "source": [
    "link = driver.find_element(By.CLASS_NAME,'next')\n",
    "anchor= link.find_element(By.TAG_NAME,'a')\n"
   ]
  },
  {
   "cell_type": "code",
   "execution_count": 21,
   "id": "76afeaf2",
   "metadata": {},
   "outputs": [
    {
     "data": {
      "text/plain": [
       "<selenium.webdriver.remote.webelement.WebElement (session=\"22174f3e-40c9-443d-9d42-4b6e3c8c2122\", element=\"eeb5c92c-8e46-4d3e-9f55-95bbcca15c99\")>"
      ]
     },
     "execution_count": 21,
     "metadata": {},
     "output_type": "execute_result"
    }
   ],
   "source": [
    "link"
   ]
  },
  {
   "cell_type": "code",
   "execution_count": 22,
   "id": "1f54e75c",
   "metadata": {},
   "outputs": [
    {
     "data": {
      "text/plain": [
       "<selenium.webdriver.remote.webelement.WebElement (session=\"22174f3e-40c9-443d-9d42-4b6e3c8c2122\", element=\"3a47b95b-3493-4c2c-a71d-7537f049b31b\")>"
      ]
     },
     "execution_count": 22,
     "metadata": {},
     "output_type": "execute_result"
    }
   ],
   "source": [
    "anchor "
   ]
  },
  {
   "cell_type": "code",
   "execution_count": 23,
   "id": "47308a16",
   "metadata": {},
   "outputs": [],
   "source": [
    "anchor.click()\n"
   ]
  },
  {
   "cell_type": "code",
   "execution_count": null,
   "id": "c346fb46",
   "metadata": {},
   "outputs": [],
   "source": []
  },
  {
   "cell_type": "code",
   "execution_count": 24,
   "id": "7816b362",
   "metadata": {},
   "outputs": [
    {
     "name": "stdout",
     "output_type": "stream",
     "text": [
      "Requirement already satisfied: selenium in c:\\users\\rahul\\appdata\\local\\programs\\python\\python310\\lib\\site-packages (4.5.0)\n",
      "Requirement already satisfied: certifi>=2021.10.8 in c:\\users\\rahul\\appdata\\local\\programs\\python\\python310\\lib\\site-packages (from selenium) (2022.9.14)\n",
      "Requirement already satisfied: urllib3[socks]~=1.26 in c:\\users\\rahul\\appdata\\local\\programs\\python\\python310\\lib\\site-packages (from selenium) (1.26.12)\n",
      "Requirement already satisfied: trio-websocket~=0.9 in c:\\users\\rahul\\appdata\\local\\programs\\python\\python310\\lib\\site-packages (from selenium) (0.9.2)\n",
      "Requirement already satisfied: trio~=0.17 in c:\\users\\rahul\\appdata\\local\\programs\\python\\python310\\lib\\site-packages (from selenium) (0.22.0)\n",
      "Requirement already satisfied: async-generator>=1.9 in c:\\users\\rahul\\appdata\\local\\programs\\python\\python310\\lib\\site-packages (from trio~=0.17->selenium) (1.10)\n",
      "Requirement already satisfied: sniffio in c:\\users\\rahul\\appdata\\local\\programs\\python\\python310\\lib\\site-packages (from trio~=0.17->selenium) (1.3.0)\n",
      "Requirement already satisfied: attrs>=19.2.0 in c:\\users\\rahul\\appdata\\local\\programs\\python\\python310\\lib\\site-packages (from trio~=0.17->selenium) (22.1.0)\n",
      "Requirement already satisfied: idna in c:\\users\\rahul\\appdata\\local\\programs\\python\\python310\\lib\\site-packages (from trio~=0.17->selenium) (3.4)\n",
      "Requirement already satisfied: sortedcontainers in c:\\users\\rahul\\appdata\\local\\programs\\python\\python310\\lib\\site-packages (from trio~=0.17->selenium) (2.4.0)\n",
      "Requirement already satisfied: exceptiongroup>=1.0.0rc9 in c:\\users\\rahul\\appdata\\local\\programs\\python\\python310\\lib\\site-packages (from trio~=0.17->selenium) (1.0.0rc9)\n",
      "Requirement already satisfied: cffi>=1.14 in c:\\users\\rahul\\appdata\\local\\programs\\python\\python310\\lib\\site-packages (from trio~=0.17->selenium) (1.15.1)\n",
      "Requirement already satisfied: outcome in c:\\users\\rahul\\appdata\\local\\programs\\python\\python310\\lib\\site-packages (from trio~=0.17->selenium) (1.2.0)\n",
      "Requirement already satisfied: wsproto>=0.14 in c:\\users\\rahul\\appdata\\local\\programs\\python\\python310\\lib\\site-packages (from trio-websocket~=0.9->selenium) (1.2.0)\n",
      "Requirement already satisfied: PySocks!=1.5.7,<2.0,>=1.5.6 in c:\\users\\rahul\\appdata\\local\\programs\\python\\python310\\lib\\site-packages (from urllib3[socks]~=1.26->selenium) (1.7.1)\n",
      "Requirement already satisfied: pycparser in c:\\users\\rahul\\appdata\\local\\programs\\python\\python310\\lib\\site-packages (from cffi>=1.14->trio~=0.17->selenium) (2.21)\n",
      "Requirement already satisfied: h11<1,>=0.9.0 in c:\\users\\rahul\\appdata\\local\\programs\\python\\python310\\lib\\site-packages (from wsproto>=0.14->trio-websocket~=0.9->selenium) (0.14.0)\n"
     ]
    }
   ],
   "source": []
  },
  {
   "cell_type": "code",
   "execution_count": null,
   "id": "d005081e",
   "metadata": {},
   "outputs": [],
   "source": [
    "C:\\Users\\rahul\\Downloads\\geckodriver-v0.31.0-win64"
   ]
  },
  {
   "cell_type": "code",
   "execution_count": null,
   "id": "7e7044b9",
   "metadata": {},
   "outputs": [],
   "source": [
    "setx PATH \"C:\\Users\\rahul\\Downloads\\geckodriver-v0.31.0-win64;%PATH%\"\n"
   ]
  },
  {
   "cell_type": "code",
   "execution_count": 25,
   "id": "abd0e66f",
   "metadata": {},
   "outputs": [],
   "source": [
    "from selenium import webdriver\n",
    "from selenium.webdriver.common.by import By\n"
   ]
  },
  {
   "cell_type": "code",
   "execution_count": 27,
   "id": "99a9e32e",
   "metadata": {},
   "outputs": [],
   "source": [
    "mozilla = webdriver.Firefox()"
   ]
  },
  {
   "cell_type": "markdown",
   "id": "6a515732",
   "metadata": {},
   "source": [
    "<input id=\"search\" autocapitalize=\"none\" autocomplete=\"off\" autocorrect=\"off\" name=\"search_query\" tabindex=\"0\" type=\"text\" spellcheck=\"false\" placeholder=\"Search\" aria-label=\"Search\" role=\"combobox\" aria-haspopup=\"false\" aria-autocomplete=\"list\" dir=\"ltr\" class=\"ytd-searchbox\" style=\"outline: none;\">"
   ]
  },
  {
   "cell_type": "code",
   "execution_count": 34,
   "id": "5c4588f6",
   "metadata": {},
   "outputs": [
    {
     "name": "stderr",
     "output_type": "stream",
     "text": [
      "C:\\Users\\rahul\\AppData\\Local\\Temp\\ipykernel_4236\\2457316719.py:2: DeprecationWarning: executable_path has been deprecated, please pass in a Service object\n",
      "  driver = webdriver.Firefox(executable_path=r'C:/Users/rahul/Downloads/geckodriver-v0.31.0-win64/geckodriver.exe')\n"
     ]
    }
   ],
   "source": [
    "from selenium import webdriver\n",
    "driver = webdriver.Firefox(executable_path=r'C:/Users/rahul/Downloads/geckodriver-v0.31.0-win64/geckodriver.exe')\n",
    "driver.get(\"https://youtube.com/\")\n",
    "time.sleep(1)\n",
    "search_tag = driver.find_element(By.XPATH,'//*[@id=\"search\"]')\n"
   ]
  },
  {
   "cell_type": "code",
   "execution_count": 39,
   "id": "363949c6",
   "metadata": {},
   "outputs": [],
   "source": [
    "search_tag = driver.find_elements(By.XPATH,'/html/body/ytd-app/div[1]/div/ytd-masthead/div[3]/div[2]/ytd-searchbox/form/div[1]/div[1]/input')"
   ]
  },
  {
   "cell_type": "code",
   "execution_count": 40,
   "id": "15709867",
   "metadata": {},
   "outputs": [
    {
     "data": {
      "text/plain": [
       "[<selenium.webdriver.remote.webelement.WebElement (session=\"b212d2ac-1603-4080-adb4-4f6d3e83c667\", element=\"df069855-229c-494d-9208-23d89493fb33\")>]"
      ]
     },
     "execution_count": 40,
     "metadata": {},
     "output_type": "execute_result"
    }
   ],
   "source": [
    "search_tag"
   ]
  },
  {
   "cell_type": "code",
   "execution_count": 42,
   "id": "05329457",
   "metadata": {},
   "outputs": [],
   "source": [
    "search_tag[0].send_keys(\"Python\")"
   ]
  },
  {
   "cell_type": "code",
   "execution_count": 43,
   "id": "f5c1db29",
   "metadata": {},
   "outputs": [],
   "source": [
    "search_button = driver.find_elements(By.XPATH,'//*[@id=\"search-icon-legacy\"]')"
   ]
  },
  {
   "cell_type": "code",
   "execution_count": 45,
   "id": "e1a079e7",
   "metadata": {},
   "outputs": [],
   "source": [
    "search_button[0].click()"
   ]
  },
  {
   "cell_type": "code",
   "execution_count": null,
   "id": "72eb502b",
   "metadata": {},
   "outputs": [],
   "source": []
  },
  {
   "cell_type": "code",
   "execution_count": null,
   "id": "98e4af6c",
   "metadata": {},
   "outputs": [],
   "source": [
    "\"C:\\Users\\rahul\\Downloads\\geckodriver-v0.31.0-win64;%PATH%\""
   ]
  }
 ],
 "metadata": {
  "kernelspec": {
   "display_name": "Python 3 (ipykernel)",
   "language": "python",
   "name": "python3"
  },
  "language_info": {
   "codemirror_mode": {
    "name": "ipython",
    "version": 3
   },
   "file_extension": ".py",
   "mimetype": "text/x-python",
   "name": "python",
   "nbconvert_exporter": "python",
   "pygments_lexer": "ipython3",
   "version": "3.10.7"
  }
 },
 "nbformat": 4,
 "nbformat_minor": 5
}
