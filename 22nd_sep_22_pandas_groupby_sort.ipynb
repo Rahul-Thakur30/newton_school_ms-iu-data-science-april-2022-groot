{
 "cells": [
  {
   "cell_type": "code",
   "execution_count": 1,
   "id": "20483366",
   "metadata": {},
   "outputs": [],
   "source": [
    "import pandas as pd\n",
    "import numpy as np\n",
    "from tqdm import tqdm"
   ]
  },
  {
   "cell_type": "code",
   "execution_count": 2,
   "id": "67939ad0",
   "metadata": {},
   "outputs": [],
   "source": [
    "workers =pd.DataFrame({'worker_id': {0: 1, 1: 2, 2: 3, 3: 4, 4: 5, 5: 6, 6: 7, 7: 8}, 'first_name': {0: 'Monika', 1: 'Niharika', 2: 'Vishal', 3: 'Amitah', 4: 'Vivek', 5: 'Vipul', 6: 'Satish', 7: 'Geetika'}, 'last_name': {0: 'Arora', 1: 'Verma', 2: 'Singhal', 3: 'Singh', 4: 'Bhati', 5: 'Diwan', 6: 'Kumar', 7: 'Chauhan'}, 'salary': {0: 100000, 1: 80000, 2: 300000, 3: 500000, 4: 500000, 5: 200000, 6: 75000, 7: 90000}, 'joining_date': {0: '2014-02-20 09:00:00', 1: '2014-06-11 09:00:00', 2: '2014-02-20 09:00:00', 3: '2014-02-20 09:00:00', 4: '2014-06-11 09:00:00', 5: '2014-06-11 09:00:00', 6: '2014-01-20 09:00:00', 7: '2014-04-11 09:00:00'}, 'department': {0: 'HR', 1: 'Admin', 2: 'HR', 3: 'Admin', 4: 'Admin', 5: 'Account', 6: 'Account', 7: 'Admin'}}\n",
    ") "
   ]
  },
  {
   "cell_type": "code",
   "execution_count": 3,
   "id": "de9a6d91",
   "metadata": {},
   "outputs": [
    {
     "data": {
      "text/html": [
       "<div>\n",
       "<style scoped>\n",
       "    .dataframe tbody tr th:only-of-type {\n",
       "        vertical-align: middle;\n",
       "    }\n",
       "\n",
       "    .dataframe tbody tr th {\n",
       "        vertical-align: top;\n",
       "    }\n",
       "\n",
       "    .dataframe thead th {\n",
       "        text-align: right;\n",
       "    }\n",
       "</style>\n",
       "<table border=\"1\" class=\"dataframe\">\n",
       "  <thead>\n",
       "    <tr style=\"text-align: right;\">\n",
       "      <th></th>\n",
       "      <th>worker_id</th>\n",
       "      <th>first_name</th>\n",
       "      <th>last_name</th>\n",
       "      <th>salary</th>\n",
       "      <th>joining_date</th>\n",
       "      <th>department</th>\n",
       "    </tr>\n",
       "  </thead>\n",
       "  <tbody>\n",
       "    <tr>\n",
       "      <th>0</th>\n",
       "      <td>1</td>\n",
       "      <td>Monika</td>\n",
       "      <td>Arora</td>\n",
       "      <td>100000</td>\n",
       "      <td>2014-02-20 09:00:00</td>\n",
       "      <td>HR</td>\n",
       "    </tr>\n",
       "    <tr>\n",
       "      <th>1</th>\n",
       "      <td>2</td>\n",
       "      <td>Niharika</td>\n",
       "      <td>Verma</td>\n",
       "      <td>80000</td>\n",
       "      <td>2014-06-11 09:00:00</td>\n",
       "      <td>Admin</td>\n",
       "    </tr>\n",
       "    <tr>\n",
       "      <th>2</th>\n",
       "      <td>3</td>\n",
       "      <td>Vishal</td>\n",
       "      <td>Singhal</td>\n",
       "      <td>300000</td>\n",
       "      <td>2014-02-20 09:00:00</td>\n",
       "      <td>HR</td>\n",
       "    </tr>\n",
       "    <tr>\n",
       "      <th>3</th>\n",
       "      <td>4</td>\n",
       "      <td>Amitah</td>\n",
       "      <td>Singh</td>\n",
       "      <td>500000</td>\n",
       "      <td>2014-02-20 09:00:00</td>\n",
       "      <td>Admin</td>\n",
       "    </tr>\n",
       "    <tr>\n",
       "      <th>4</th>\n",
       "      <td>5</td>\n",
       "      <td>Vivek</td>\n",
       "      <td>Bhati</td>\n",
       "      <td>500000</td>\n",
       "      <td>2014-06-11 09:00:00</td>\n",
       "      <td>Admin</td>\n",
       "    </tr>\n",
       "  </tbody>\n",
       "</table>\n",
       "</div>"
      ],
      "text/plain": [
       "   worker_id first_name last_name  salary         joining_date department\n",
       "0          1     Monika     Arora  100000  2014-02-20 09:00:00         HR\n",
       "1          2   Niharika     Verma   80000  2014-06-11 09:00:00      Admin\n",
       "2          3     Vishal   Singhal  300000  2014-02-20 09:00:00         HR\n",
       "3          4     Amitah     Singh  500000  2014-02-20 09:00:00      Admin\n",
       "4          5      Vivek     Bhati  500000  2014-06-11 09:00:00      Admin"
      ]
     },
     "execution_count": 3,
     "metadata": {},
     "output_type": "execute_result"
    }
   ],
   "source": [
    "workers.head(5)"
   ]
  },
  {
   "cell_type": "code",
   "execution_count": 4,
   "id": "1304fd24",
   "metadata": {},
   "outputs": [
    {
     "data": {
      "text/plain": [
       "(8, 6)"
      ]
     },
     "execution_count": 4,
     "metadata": {},
     "output_type": "execute_result"
    }
   ],
   "source": [
    "workers.shape"
   ]
  },
  {
   "cell_type": "code",
   "execution_count": 5,
   "id": "23ea4f72",
   "metadata": {},
   "outputs": [
    {
     "data": {
      "text/plain": [
       "8"
      ]
     },
     "execution_count": 5,
     "metadata": {},
     "output_type": "execute_result"
    }
   ],
   "source": [
    "workers.worker_id.nunique()"
   ]
  },
  {
   "cell_type": "code",
   "execution_count": 6,
   "id": "1bf39499",
   "metadata": {},
   "outputs": [
    {
     "data": {
      "text/plain": [
       "department\n",
       "Account    2\n",
       "Admin      4\n",
       "HR         2\n",
       "Name: worker_id, dtype: int64"
      ]
     },
     "execution_count": 6,
     "metadata": {},
     "output_type": "execute_result"
    }
   ],
   "source": [
    "workers.groupby('department')['worker_id'].count()"
   ]
  },
  {
   "cell_type": "code",
   "execution_count": 8,
   "id": "dc589c45",
   "metadata": {},
   "outputs": [
    {
     "name": "stdout",
     "output_type": "stream",
     "text": [
      "Account|2\r\n",
      "Admin|4\r\n",
      "HR|2\r\n",
      "\n"
     ]
    }
   ],
   "source": [
    "print(workers.groupby('department')['worker_id'].count().to_csv(header=None,sep='|'))"
   ]
  },
  {
   "cell_type": "code",
   "execution_count": 9,
   "id": "0d39aded",
   "metadata": {},
   "outputs": [],
   "source": [
    "df_facebook = pd.DataFrame({'day': {0: 0, 1: 0, 2: 0, 3: 0, 4: 1, 5: 1, 6: 1, 7: 2, 8: 2, 9: 2}, 'user1': {0: 0, 1: 1, 2: 2, 3: 2, 4: 2, 5: 2, 6: 2, 7: 4, 8: 4, 9: 4}, 'user2': {0: 1, 1: 0, 2: 1, 3: 3, 4: 0, 5: 1, 6: 3, 7: 1, 8: 2, 9: 0}}\n",
    ")"
   ]
  },
  {
   "cell_type": "code",
   "execution_count": 14,
   "id": "b856f53a",
   "metadata": {},
   "outputs": [],
   "source": [
    "df_facebook_0_1 = df_facebook[df_facebook['day'].isin([0,2])]"
   ]
  },
  {
   "cell_type": "code",
   "execution_count": 16,
   "id": "05854bde",
   "metadata": {},
   "outputs": [
    {
     "name": "stderr",
     "output_type": "stream",
     "text": [
      "C:\\Users\\rahul\\AppData\\Local\\Temp\\ipykernel_7224\\684461338.py:1: SettingWithCopyWarning: \n",
      "A value is trying to be set on a copy of a slice from a DataFrame.\n",
      "Try using .loc[row_indexer,col_indexer] = value instead\n",
      "\n",
      "See the caveats in the documentation: https://pandas.pydata.org/pandas-docs/stable/user_guide/indexing.html#returning-a-view-versus-a-copy\n",
      "  df_facebook_0_1['total_interactions'] = df_facebook_0_1['user1']+df_facebook_0_1['user2']\n"
     ]
    }
   ],
   "source": [
    "df_facebook_0_1['total_interactions'] = df_facebook_0_1['user1']+df_facebook_0_1['user2']"
   ]
  },
  {
   "cell_type": "code",
   "execution_count": 18,
   "id": "1dc13761",
   "metadata": {},
   "outputs": [
    {
     "data": {
      "text/plain": [
       "day\n",
       "0    10\n",
       "2    15\n",
       "Name: total_interactions, dtype: int64"
      ]
     },
     "execution_count": 18,
     "metadata": {},
     "output_type": "execute_result"
    }
   ],
   "source": [
    "df_facebook_0_1.groupby('day')['total_interactions'].sum()"
   ]
  },
  {
   "cell_type": "code",
   "execution_count": 22,
   "id": "5fa50e9f",
   "metadata": {},
   "outputs": [
    {
     "data": {
      "text/plain": [
       "'0|4\\r\\n2|3\\r\\n'"
      ]
     },
     "execution_count": 22,
     "metadata": {},
     "output_type": "execute_result"
    }
   ],
   "source": [
    "df_facebook[df_facebook['day'].isin([0,2])].groupby('day')['user1'].count().to_csv(header=None,sep='|')"
   ]
  },
  {
   "cell_type": "code",
   "execution_count": 25,
   "id": "6f1d09c4",
   "metadata": {},
   "outputs": [
    {
     "data": {
      "text/html": [
       "<div>\n",
       "<style scoped>\n",
       "    .dataframe tbody tr th:only-of-type {\n",
       "        vertical-align: middle;\n",
       "    }\n",
       "\n",
       "    .dataframe tbody tr th {\n",
       "        vertical-align: top;\n",
       "    }\n",
       "\n",
       "    .dataframe thead th {\n",
       "        text-align: right;\n",
       "    }\n",
       "</style>\n",
       "<table border=\"1\" class=\"dataframe\">\n",
       "  <thead>\n",
       "    <tr style=\"text-align: right;\">\n",
       "      <th></th>\n",
       "      <th>day</th>\n",
       "      <th>user1</th>\n",
       "      <th>user2</th>\n",
       "    </tr>\n",
       "  </thead>\n",
       "  <tbody>\n",
       "    <tr>\n",
       "      <th>0</th>\n",
       "      <td>0</td>\n",
       "      <td>0</td>\n",
       "      <td>1</td>\n",
       "    </tr>\n",
       "    <tr>\n",
       "      <th>1</th>\n",
       "      <td>0</td>\n",
       "      <td>1</td>\n",
       "      <td>0</td>\n",
       "    </tr>\n",
       "    <tr>\n",
       "      <th>2</th>\n",
       "      <td>0</td>\n",
       "      <td>2</td>\n",
       "      <td>1</td>\n",
       "    </tr>\n",
       "    <tr>\n",
       "      <th>3</th>\n",
       "      <td>0</td>\n",
       "      <td>2</td>\n",
       "      <td>3</td>\n",
       "    </tr>\n",
       "    <tr>\n",
       "      <th>4</th>\n",
       "      <td>1</td>\n",
       "      <td>2</td>\n",
       "      <td>0</td>\n",
       "    </tr>\n",
       "    <tr>\n",
       "      <th>5</th>\n",
       "      <td>1</td>\n",
       "      <td>2</td>\n",
       "      <td>1</td>\n",
       "    </tr>\n",
       "    <tr>\n",
       "      <th>6</th>\n",
       "      <td>1</td>\n",
       "      <td>2</td>\n",
       "      <td>3</td>\n",
       "    </tr>\n",
       "  </tbody>\n",
       "</table>\n",
       "</div>"
      ],
      "text/plain": [
       "   day  user1  user2\n",
       "0    0      0      1\n",
       "1    0      1      0\n",
       "2    0      2      1\n",
       "3    0      2      3\n",
       "4    1      2      0\n",
       "5    1      2      1\n",
       "6    1      2      3"
      ]
     },
     "execution_count": 25,
     "metadata": {},
     "output_type": "execute_result"
    }
   ],
   "source": [
    "df_facebook[(df_facebook['day']==0) | (df_facebook['day']==1)]"
   ]
  },
  {
   "cell_type": "code",
   "execution_count": 26,
   "id": "b5c9a733",
   "metadata": {},
   "outputs": [
    {
     "data": {
      "text/html": [
       "<div>\n",
       "<style scoped>\n",
       "    .dataframe tbody tr th:only-of-type {\n",
       "        vertical-align: middle;\n",
       "    }\n",
       "\n",
       "    .dataframe tbody tr th {\n",
       "        vertical-align: top;\n",
       "    }\n",
       "\n",
       "    .dataframe thead th {\n",
       "        text-align: right;\n",
       "    }\n",
       "</style>\n",
       "<table border=\"1\" class=\"dataframe\">\n",
       "  <thead>\n",
       "    <tr style=\"text-align: right;\">\n",
       "      <th></th>\n",
       "      <th>day</th>\n",
       "      <th>user1</th>\n",
       "      <th>user2</th>\n",
       "    </tr>\n",
       "  </thead>\n",
       "  <tbody>\n",
       "    <tr>\n",
       "      <th>0</th>\n",
       "      <td>0</td>\n",
       "      <td>0</td>\n",
       "      <td>1</td>\n",
       "    </tr>\n",
       "    <tr>\n",
       "      <th>1</th>\n",
       "      <td>0</td>\n",
       "      <td>1</td>\n",
       "      <td>0</td>\n",
       "    </tr>\n",
       "    <tr>\n",
       "      <th>2</th>\n",
       "      <td>0</td>\n",
       "      <td>2</td>\n",
       "      <td>1</td>\n",
       "    </tr>\n",
       "    <tr>\n",
       "      <th>3</th>\n",
       "      <td>0</td>\n",
       "      <td>2</td>\n",
       "      <td>3</td>\n",
       "    </tr>\n",
       "    <tr>\n",
       "      <th>7</th>\n",
       "      <td>2</td>\n",
       "      <td>4</td>\n",
       "      <td>1</td>\n",
       "    </tr>\n",
       "    <tr>\n",
       "      <th>8</th>\n",
       "      <td>2</td>\n",
       "      <td>4</td>\n",
       "      <td>2</td>\n",
       "    </tr>\n",
       "    <tr>\n",
       "      <th>9</th>\n",
       "      <td>2</td>\n",
       "      <td>4</td>\n",
       "      <td>0</td>\n",
       "    </tr>\n",
       "  </tbody>\n",
       "</table>\n",
       "</div>"
      ],
      "text/plain": [
       "   day  user1  user2\n",
       "0    0      0      1\n",
       "1    0      1      0\n",
       "2    0      2      1\n",
       "3    0      2      3\n",
       "7    2      4      1\n",
       "8    2      4      2\n",
       "9    2      4      0"
      ]
     },
     "execution_count": 26,
     "metadata": {},
     "output_type": "execute_result"
    }
   ],
   "source": [
    "df_facebook[df_facebook['day'].isin([0,2])]"
   ]
  },
  {
   "cell_type": "code",
   "execution_count": 27,
   "id": "0d9a4ed3",
   "metadata": {},
   "outputs": [],
   "source": [
    "df_steps = pd.DataFrame({'feature_id': {0: 0, 1: 0, 2: 0, 3: 0, 4: 0, 5: 0, 6: 0, 7: 0, 8: 0, 9: 0, 10: 0, 11: 0, 12: 1, 13: 1, 14: 1}, 'user_id': {0: 0, 1: 0, 2: 0, 3: 0, 4: 1, 5: 1, 6: 1, 7: 1, 8: 1, 9: 2, 10: 2, 11: 2, 12: 3, 13: 2, 14: 1}, 'step_reached': {0: 1, 1: 2, 2: 3, 3: 4, 4: 1, 5: 2, 6: 3, 7: 4, 8: 5, 9: 1, 10: 2, 11: 3, 12: 6, 13: 7, 14: 3}, 'timestamp': {0: '2019-03-11 17:15:00', 1: '2019-03-11 17:22:00', 2: '2019-03-11 17:25:00', 3: '2019-03-11 17:27:00', 4: '2019-03-11 19:51:00', 5: '2019-03-11 19:52:00', 6: '2019-03-11 19:55:00', 7: '2019-03-11 19:57:00', 8: '2019-03-11 19:59:00', 9: '2019-03-11 10:01:00', 10: '2019-03-11 10:04:00', 11: '2019-03-11 10:09:00', 12: '2019-04-05 08:08:08', 13: '2019-04-05 11:12:13', 14: '2019-04-05 13:00:07'}}\n",
    ")"
   ]
  },
  {
   "cell_type": "code",
   "execution_count": 31,
   "id": "ae6d1fd6",
   "metadata": {},
   "outputs": [
    {
     "data": {
      "text/plain": [
       "'0|5\\r\\n1|7\\r\\n'"
      ]
     },
     "execution_count": 31,
     "metadata": {},
     "output_type": "execute_result"
    }
   ],
   "source": [
    "df_steps.groupby('feature_id')['step_reached'].max().to_csv(header=None,sep='|')"
   ]
  },
  {
   "cell_type": "code",
   "execution_count": 33,
   "id": "e4ff000f",
   "metadata": {},
   "outputs": [],
   "source": [
    "from numpy import nan"
   ]
  },
  {
   "cell_type": "code",
   "execution_count": 34,
   "id": "22b7b47a",
   "metadata": {},
   "outputs": [],
   "source": [
    "dc_1 = {'flight_date': {0: '2015-01-02 00:00:00', 1: '2015-01-02 00:00:00', 2: '2015-01-09 00:00:00', 3: '2015-01-05 00:00:00', 4: '2015-01-02 00:00:00', 5: '2015-01-06 00:00:00', 6: '2015-01-11 00:00:00', 7: '2015-01-06 00:00:00', 8: '2015-01-02 00:00:00', 9: '2015-01-08 00:00:00', 10: '2015-01-03 00:00:00', 11: '2015-01-02 00:00:00', 12: '2015-01-05 00:00:00', 13: '2015-01-13 00:00:00', 14: '2015-01-08 00:00:00', 15: '2015-01-07 00:00:00', 16: '2015-01-08 00:00:00', 17: '2015-01-11 00:00:00', 18: '2015-01-14 00:00:00', 19: '2015-01-03 00:00:00', 20: '2015-01-02 00:00:00', 21: '2015-01-08 00:00:00', 22: '2015-01-12 00:00:00', 23: '2015-01-11 00:00:00', 24: '2015-01-07 00:00:00', 25: '2015-01-14 00:00:00', 26: '2015-01-07 00:00:00', 27: '2015-01-11 00:00:00', 28: '2015-01-04 00:00:00', 29: '2015-01-05 00:00:00', 30: '2015-01-09 00:00:00', 31: '2015-01-09 00:00:00', 32: '2015-01-03 00:00:00', 33: '2015-01-13 00:00:00', 34: '2015-01-08 00:00:00', 35: '2015-01-14 00:00:00', 36: '2015-01-09 00:00:00', 37: '2015-01-05 00:00:00', 38: '2015-01-14 00:00:00', 39: '2015-01-06 00:00:00', 40: '2015-01-09 00:00:00', 41: '2015-01-05 00:00:00', 42: '2015-01-04 00:00:00', 43: '2015-01-13 00:00:00', 44: '2015-01-09 00:00:00', 45: '2015-01-12 00:00:00', 46: '2015-01-10 00:00:00', 47: '2015-01-05 00:00:00', 48: '2015-01-05 00:00:00', 49: '2015-01-04 00:00:00', 50: '2015-01-10 00:00:00', 51: '2015-01-04 00:00:00', 52: '2015-01-06 00:00:00', 53: '2015-01-06 00:00:00', 54: '2015-01-12 00:00:00', 55: '2015-01-10 00:00:00', 56: '2015-01-02 00:00:00', 57: '2015-01-09 00:00:00', 58: '2015-01-11 00:00:00', 59: '2015-01-12 00:00:00', 60: '2015-01-09 00:00:00', 61: '2015-01-07 00:00:00', 62: '2015-01-10 00:00:00', 63: '2015-01-10 00:00:00', 64: '2015-01-14 00:00:00', 65: '2015-01-03 00:00:00', 66: '2015-01-14 00:00:00', 67: '2015-01-07 00:00:00', 68: '2015-01-09 00:00:00', 69: '2015-01-06 00:00:00', 70: '2015-01-09 00:00:00', 71: '2015-01-03 00:00:00', 72: '2015-01-02 00:00:00', 73: '2015-01-04 00:00:00', 74: '2015-01-03 00:00:00', 75: '2015-01-04 00:00:00', 76: '2015-01-06 00:00:00', 77: '2015-01-07 00:00:00', 78: '2015-01-05 00:00:00', 79: '2015-01-07 00:00:00', 80: '2015-01-06 00:00:00', 81: '2015-01-10 00:00:00', 82: '2015-01-10 00:00:00', 83: '2015-01-02 00:00:00', 84: '2015-01-11 00:00:00', 85: '2015-01-07 00:00:00', 86: '2015-01-06 00:00:00', 87: '2015-01-07 00:00:00', 88: '2015-01-07 00:00:00', 89: '2015-01-09 00:00:00', 90: '2015-01-06 00:00:00', 91: '2015-01-04 00:00:00', 92: '2015-01-04 00:00:00', 93: '2015-01-11 00:00:00', 94: '2015-01-09 00:00:00', 95: '2015-01-08 00:00:00', 96: '2015-01-09 00:00:00', 97: '2015-01-05 00:00:00', 98: '2015-01-05 00:00:00', 99: '2015-01-11 00:00:00'}, 'unique_carrier': {0: 'VX', 1: 'EV', 2: 'US', 3: 'EV', 4: 'B6', 5: 'DL', 6: 'B6', 7: 'B6', 8: 'AA', 9: 'DL', 10: 'AA', 11: 'B6', 12: 'US', 13: 'B6', 14: 'HA', 15: 'WN', 16: 'EV', 17: 'WN', 18: 'OO', 19: 'WN', 20: 'WN', 21: 'OO', 22: 'WN', 23: 'B6', 24: 'WN', 25: 'AA', 26: 'US', 27: 'AS', 28: 'WN', 29: 'OO', 30: 'AA', 31: 'WN', 32: 'WN', 33: 'EV', 34: 'OO', 35: 'WN', 36: 'MQ', 37: 'US', 38: 'NK', 39: 'EV', 40: 'OO', 41: 'MQ', 42: 'EV', 43: 'WN', 44: 'DL', 45: 'WN', 46: 'OO', 47: 'OO', 48: 'MQ', 49: 'WN', 50: 'WN', 51: 'WN', 52: 'WN', 53: 'WN', 54: 'WN', 55: 'B6', 56: 'AA', 57: 'MQ', 58: 'DL', 59: 'B6', 60: 'WN', 61: 'US', 62: 'B6', 63: 'WN', 64: 'WN', 65: 'AS', 66: 'EV', 67: 'OO', 68: 'DL', 69: 'OO', 70: 'MQ', 71: 'WN', 72: 'MQ', 73: 'DL', 74: 'AA', 75: 'UA', 76: 'HA', 77: 'EV', 78: 'US', 79: 'DL', 80: 'WN', 81: 'AS', 82: 'US', 83: 'US', 84: 'MQ', 85: 'WN', 86: 'OO', 87: 'UA', 88: 'WN', 89: 'B6', 90: 'UA', 91: 'AA', 92: 'WN', 93: 'WN', 94: 'WN', 95: 'AA', 96: 'AA', 97: 'AA', 98: 'AA', 99: 'AA'}, 'flight_num': {0: 231, 1: 4736, 2: 2195, 3: 5586, 4: 1022, 5: 2270, 6: 161, 7: 1016, 8: 272, 9: 2226, 10: 1151, 11: 1459, 12: 1885, 13: 569, 14: 42, 15: 379, 16: 2571, 17: 406, 18: 4642, 19: 1820, 20: 1765, 21: 2714, 22: 246, 23: 266, 24: 2518, 25: 336, 26: 1769, 27: 573, 28: 285, 29: 5475, 30: 2334, 31: 357, 32: 276, 33: 5553, 34: 4707, 35: 105, 36: 3697, 37: 2185, 38: 788, 39: 2507, 40: 6418, 41: 3240, 42: 4684, 43: 782, 44: 1187, 45: 2966, 46: 4525, 47: 5505, 48: 3375, 49: 1454, 50: 2441, 51: 1774, 52: 167, 53: 3739, 54: 276, 55: 1348, 56: 315, 57: 3633, 58: 2156, 59: 626, 60: 4661, 61: 654, 62: 1604, 63: 3488, 64: 1716, 65: 465, 66: 5210, 67: 5202, 68: 1335, 69: 5179, 70: 3356, 71: 271, 72: 3448, 73: 1666, 74: 2473, 75: 1205, 76: 207, 77: 5321, 78: 2079, 79: 1865, 80: 1588, 81: 751, 82: 2054, 83: 607, 84: 3166, 85: 2685, 86: 4514, 87: 1757, 88: 437, 89: 886, 90: 1614, 91: 2399, 92: 915, 93: 124, 94: 484, 95: 1207, 96: 1650, 97: 1201, 98: 1201, 99: 272}, 'origin': {0: 'ORD', 1: 'CLE', 2: 'LGA', 3: 'ATL', 4: 'PBI', 5: 'MSP', 6: 'JFK', 7: 'FLL', 8: 'SFO', 9: 'FLL', 10: 'DEN', 11: 'BDL', 12: 'STL', 13: 'BOS', 14: 'OGG', 15: 'RSW', 16: 'DFW', 17: 'AUS', 18: 'CVG', 19: 'LAS', 20: 'HOU', 21: 'PSP', 22: 'MDW', 23: 'LGB', 24: 'LAS', 25: 'ABQ', 26: 'BWI', 27: 'SAN', 28: 'DCA', 29: 'MKE', 30: 'DFW', 31: 'LAS', 32: 'DAL', 33: 'CID', 34: 'PLN', 35: 'LAS', 36: 'GPT', 37: 'LGA', 38: 'LAS', 39: 'DFW', 40: 'SFO', 41: 'DFW', 42: 'SDF', 43: 'CAK', 44: 'MSP', 45: 'SAT', 46: 'LAN', 47: 'DEN', 48: 'DFW', 49: 'SFO', 50: 'STL', 51: 'BNA', 52: 'OAK', 53: 'STL', 54: 'SAT', 55: 'SJU', 56: 'LGA', 57: 'DFW', 58: 'SYR', 59: 'BWI', 60: 'BHM', 61: 'PHX', 62: 'SJU', 63: 'RSW', 64: 'LAS', 65: 'LAX', 66: 'BTR', 67: 'DEN', 68: 'ATL', 69: 'ASE', 70: 'ORD', 71: 'SNA', 72: 'CHA', 73: 'JAX', 74: 'ORD', 75: 'KOA', 76: 'KOA', 77: 'FSD', 78: 'PHL', 79: 'ATL', 80: 'STL', 81: 'STL', 82: 'LGA', 83: 'LAS', 84: 'DFW', 85: 'LAS', 86: 'TUS', 87: 'ORD', 88: 'LAS', 89: 'RDU', 90: 'LAX', 91: 'DFW', 92: 'BUR', 93: 'BNA', 94: 'OAK', 95: 'PHL', 96: 'RNO', 97: 'ORD', 98: 'AUS', 99: 'SFO'}, 'dest': {0: 'LAX', 1: 'EWR', 2: 'DCA', 3: 'FAY', 4: 'BOS', 5: 'PIT', 6: 'SMF', 7: 'JAX', 8: 'MIA', 9: 'ATL', 10: 'DFW', 11: 'FLL', 12: 'CLT', 13: 'FLL', 14: 'SFO', 15: 'ATL', 16: 'MEI', 17: 'DEN', 18: 'CLT', 19: 'SNA', 20: 'ATL', 21: 'PHX', 22: 'DEN', 23: 'SMF', 24: 'BHM', 25: 'DFW', 26: 'CLT', 27: 'PDX', 28: 'ATL', 29: 'DEN', 30: 'ORD', 31: 'SJC', 32: 'MSY', 33: 'DTW', 34: 'DTW', 35: 'SAN', 36: 'DFW', 37: 'DCA', 38: 'DTW', 39: 'SHV', 40: 'SLC', 41: 'PIA', 42: 'IAH', 43: 'DCA', 44: 'DCA', 45: 'ATL', 46: 'MSP', 47: 'FAT', 48: 'XNA', 49: 'LAX', 50: 'DCA', 51: 'HOU', 52: 'SAN', 53: 'EWR', 54: 'LAX', 55: 'DCA', 56: 'ORD', 57: 'GRK', 58: 'ATL', 59: 'BOS', 60: 'DAL', 61: 'SAN', 62: 'JFK', 63: 'BNA', 64: 'SAN', 65: 'SEA', 66: 'ATL', 67: 'BIL', 68: 'TPA', 69: 'LAX', 70: 'MEM', 71: 'PHX', 72: 'ORD', 73: 'ATL', 74: 'MIA', 75: 'LAX', 76: 'HNL', 77: 'MSP', 78: 'PBI', 79: 'MIA', 80: 'MDW', 81: 'SEA', 82: 'CLT', 83: 'PHL', 84: 'PIA', 85: 'SJC', 86: 'SLC', 87: 'SNA', 88: 'SAT', 89: 'JFK', 90: 'IAH', 91: 'PBI', 92: 'OAK', 93: 'DAL', 94: 'SLC', 95: 'DFW', 96: 'ORD', 97: 'AUS', 98: 'ORD', 99: 'MIA'}, 'arr_delay': {0: 33.0, 1: -29.0, 2: -7.0, 3: -9.0, 4: -23.0, 5: -12.0, 6: 2.0, 7: -15.0, 8: 14.0, 9: -2.0, 10: 174.0, 11: -4.0, 12: 1.0, 13: -5.0, 14: -14.0, 15: -4.0, 16: -6.0, 17: 41.0, 18: 2.0, 19: -8.0, 20: 7.0, 21: -2.0, 22: -9.0, 23: 17.0, 24: -2.0, 25: 27.0, 26: 3.0, 27: -16.0, 28: 11.0, 29: 10.0, 30: -5.0, 31: 5.0, 32: 45.0, 33: -17.0, 34: 0.0, 35: -26.0, 36: -4.0, 37: 50.0, 38: 6.0, 39: 23.0, 40: 7.0, 41: 30.0, 42: 12.0, 43: -13.0, 44: 72.0, 45: 88.0, 46: 6.0, 47: -3.0, 48: 182.0, 49: 8.0, 50: 17.0, 51: 61.0, 52: 12.0, 53: 58.0, 54: 21.0, 55: nan, 56: -19.0, 57: -2.0, 58: -10.0, 59: 31.0, 60: -8.0, 61: -9.0, 62: -11.0, 63: -5.0, 64: 19.0, 65: 5.0, 66: 0.0, 67: 37.0, 68: -12.0, 69: 71.0, 70: 50.0, 71: 13.0, 72: 18.0, 73: 7.0, 74: 35.0, 75: 7.0, 76: -9.0, 77: -19.0, 78: 22.0, 79: -3.0, 80: 8.0, 81: -18.0, 82: -13.0, 83: -27.0, 84: 21.0, 85: -16.0, 86: -11.0, 87: 1.0, 88: nan, 89: 30.0, 90: 1.0, 91: 51.0, 92: 18.0, 93: -14.0, 94: 1.0, 95: nan, 96: nan, 97: nan, 98: nan, 99: nan}, 'cancelled': {0: 0, 1: 0, 2: 0, 3: 0, 4: 0, 5: 0, 6: 0, 7: 0, 8: 0, 9: 0, 10: 0, 11: 0, 12: 0, 13: 0, 14: 0, 15: 0, 16: 0, 17: 0, 18: 0, 19: 0, 20: 0, 21: 0, 22: 0, 23: 0, 24: 0, 25: 0, 26: 0, 27: 0, 28: 0, 29: 0, 30: 0, 31: 0, 32: 0, 33: 0, 34: 0, 35: 0, 36: 0, 37: 0, 38: 0, 39: 0, 40: 0, 41: 0, 42: 0, 43: 0, 44: 0, 45: 0, 46: 0, 47: 0, 48: 0, 49: 0, 50: 0, 51: 0, 52: 0, 53: 0, 54: 0, 55: 1, 56: 0, 57: 0, 58: 0, 59: 0, 60: 0, 61: 0, 62: 0, 63: 0, 64: 0, 65: 0, 66: 0, 67: 0, 68: 0, 69: 0, 70: 0, 71: 0, 72: 0, 73: 0, 74: 0, 75: 0, 76: 0, 77: 0, 78: 0, 79: 0, 80: 0, 81: 0, 82: 0, 83: 0, 84: 0, 85: 0, 86: 0, 87: 0, 88: 1, 89: 0, 90: 0, 91: 0, 92: 0, 93: 0, 94: 0, 95: 1, 96: 1, 97: 1, 98: 1, 99: 1}, 'distance': {0: 1744, 1: 404, 2: 214, 3: 331, 4: 1197, 5: 726, 6: 2521, 7: 319, 8: 2585, 9: 581, 10: 641, 11: 1173, 12: 575, 13: 1237, 14: 2338, 15: 515, 16: 485, 17: 775, 18: 335, 19: 226, 20: 696, 21: 261, 22: 895, 23: 387, 24: 1618, 25: 569, 26: 361, 27: 933, 28: 547, 29: 896, 30: 802, 31: 386, 32: 436, 33: 430, 34: 243, 35: 258, 36: 500, 37: 214, 38: 1749, 39: 190, 40: 599, 41: 672, 42: 788, 43: 274, 44: 931, 45: 874, 46: 455, 47: 844, 48: 280, 49: 337, 50: 719, 51: 670, 52: 446, 53: 872, 54: 1211, 55: 1554, 56: 733, 57: 134, 58: 794, 59: 369, 60: 587, 61: 304, 62: 1598, 63: 722, 64: 258, 65: 954, 66: 448, 67: 455, 68: 406, 69: 737, 70: 491, 71: 338, 72: 501, 73: 270, 74: 1197, 75: 2504, 76: 163, 77: 196, 78: 951, 79: 594, 80: 251, 81: 1709, 82: 544, 83: 2176, 84: 672, 85: 386, 86: 601, 87: 1726, 88: 1069, 89: 427, 90: 1379, 91: 1102, 92: 325, 93: 623, 94: 588, 95: 1303, 96: 1671, 97: 978, 98: 978, 99: 2585}, 'carier_delay': {0: 33.0, 1: nan, 2: nan, 3: nan, 4: nan, 5: nan, 6: nan, 7: nan, 8: nan, 9: nan, 10: 43.0, 11: nan, 12: nan, 13: nan, 14: nan, 15: nan, 16: nan, 17: 0.0, 18: nan, 19: nan, 20: nan, 21: nan, 22: nan, 23: 17.0, 24: nan, 25: 0.0, 26: nan, 27: nan, 28: nan, 29: nan, 30: nan, 31: nan, 32: 0.0, 33: nan, 34: nan, 35: nan, 36: nan, 37: 0.0, 38: nan, 39: 0.0, 40: nan, 41: 22.0, 42: nan, 43: nan, 44: 72.0, 45: 0.0, 46: nan, 47: nan, 48: 31.0, 49: nan, 50: 0.0, 51: 43.0, 52: nan, 53: 0.0, 54: 0.0, 55: nan, 56: nan, 57: nan, 58: nan, 59: 1.0, 60: nan, 61: nan, 62: nan, 63: nan, 64: 2.0, 65: nan, 66: nan, 67: 0.0, 68: nan, 69: 0.0, 70: 23.0, 71: nan, 72: 0.0, 73: nan, 74: 0.0, 75: nan, 76: nan, 77: nan, 78: 0.0, 79: nan, 80: nan, 81: nan, 82: nan, 83: nan, 84: 16.0, 85: nan, 86: nan, 87: nan, 88: nan, 89: 0.0, 90: nan, 91: 37.0, 92: 1.0, 93: nan, 94: nan, 95: nan, 96: nan, 97: nan, 98: nan, 99: nan}, 'weather_delay': {0: 0.0, 1: nan, 2: nan, 3: nan, 4: nan, 5: nan, 6: nan, 7: nan, 8: nan, 9: nan, 10: 0.0, 11: nan, 12: nan, 13: nan, 14: nan, 15: nan, 16: nan, 17: 0.0, 18: nan, 19: nan, 20: nan, 21: nan, 22: nan, 23: 0.0, 24: nan, 25: 0.0, 26: nan, 27: nan, 28: nan, 29: nan, 30: nan, 31: nan, 32: 0.0, 33: nan, 34: nan, 35: nan, 36: nan, 37: 0.0, 38: nan, 39: 0.0, 40: nan, 41: 0.0, 42: nan, 43: nan, 44: 0.0, 45: 52.0, 46: nan, 47: nan, 48: 0.0, 49: nan, 50: 0.0, 51: 0.0, 52: nan, 53: 0.0, 54: 0.0, 55: nan, 56: nan, 57: nan, 58: nan, 59: 0.0, 60: nan, 61: nan, 62: nan, 63: nan, 64: 0.0, 65: nan, 66: nan, 67: 0.0, 68: nan, 69: 0.0, 70: 0.0, 71: nan, 72: 0.0, 73: nan, 74: 20.0, 75: nan, 76: nan, 77: nan, 78: 0.0, 79: nan, 80: nan, 81: nan, 82: nan, 83: nan, 84: 0.0, 85: nan, 86: nan, 87: nan, 88: nan, 89: 0.0, 90: nan, 91: 0.0, 92: 0.0, 93: nan, 94: nan, 95: nan, 96: nan, 97: nan, 98: nan, 99: nan}, 'late_aircraft_delay': {0: 0.0, 1: nan, 2: nan, 3: nan, 4: nan, 5: nan, 6: nan, 7: nan, 8: nan, 9: nan, 10: 4.0, 11: nan, 12: nan, 13: nan, 14: nan, 15: nan, 16: nan, 17: 20.0, 18: nan, 19: nan, 20: nan, 21: nan, 22: nan, 23: 0.0, 24: nan, 25: 0.0, 26: nan, 27: nan, 28: nan, 29: nan, 30: nan, 31: nan, 32: 41.0, 33: nan, 34: nan, 35: nan, 36: nan, 37: 50.0, 38: nan, 39: 16.0, 40: nan, 41: 1.0, 42: nan, 43: nan, 44: 0.0, 45: 21.0, 46: nan, 47: nan, 48: 146.0, 49: nan, 50: 17.0, 51: 18.0, 52: nan, 53: 58.0, 54: 21.0, 55: nan, 56: nan, 57: nan, 58: nan, 59: 28.0, 60: nan, 61: nan, 62: nan, 63: nan, 64: 17.0, 65: nan, 66: nan, 67: 0.0, 68: nan, 69: 71.0, 70: 26.0, 71: nan, 72: 18.0, 73: nan, 74: 0.0, 75: nan, 76: nan, 77: nan, 78: 0.0, 79: nan, 80: nan, 81: nan, 82: nan, 83: nan, 84: 0.0, 85: nan, 86: nan, 87: nan, 88: nan, 89: 0.0, 90: nan, 91: 13.0, 92: 17.0, 93: nan, 94: nan, 95: nan, 96: nan, 97: nan, 98: nan, 99: nan}, 'nas_delay': {0: 0.0, 1: nan, 2: nan, 3: nan, 4: nan, 5: nan, 6: nan, 7: nan, 8: nan, 9: nan, 10: 127.0, 11: nan, 12: nan, 13: nan, 14: nan, 15: nan, 16: nan, 17: 21.0, 18: nan, 19: nan, 20: nan, 21: nan, 22: nan, 23: 0.0, 24: nan, 25: 27.0, 26: nan, 27: nan, 28: nan, 29: nan, 30: nan, 31: nan, 32: 4.0, 33: nan, 34: nan, 35: nan, 36: nan, 37: 0.0, 38: nan, 39: 7.0, 40: nan, 41: 7.0, 42: nan, 43: nan, 44: 0.0, 45: 15.0, 46: nan, 47: nan, 48: 5.0, 49: nan, 50: 0.0, 51: 0.0, 52: nan, 53: 0.0, 54: 0.0, 55: nan, 56: nan, 57: nan, 58: nan, 59: 2.0, 60: nan, 61: nan, 62: nan, 63: nan, 64: 0.0, 65: nan, 66: nan, 67: 37.0, 68: nan, 69: 0.0, 70: 1.0, 71: nan, 72: 0.0, 73: nan, 74: 15.0, 75: nan, 76: nan, 77: nan, 78: 22.0, 79: nan, 80: nan, 81: nan, 82: nan, 83: nan, 84: 5.0, 85: nan, 86: nan, 87: nan, 88: nan, 89: 30.0, 90: nan, 91: 1.0, 92: 0.0, 93: nan, 94: nan, 95: nan, 96: nan, 97: nan, 98: nan, 99: nan}, 'security_delay': {0: 0.0, 1: nan, 2: nan, 3: nan, 4: nan, 5: nan, 6: nan, 7: nan, 8: nan, 9: nan, 10: 0.0, 11: nan, 12: nan, 13: nan, 14: nan, 15: nan, 16: nan, 17: 0.0, 18: nan, 19: nan, 20: nan, 21: nan, 22: nan, 23: 0.0, 24: nan, 25: 0.0, 26: nan, 27: nan, 28: nan, 29: nan, 30: nan, 31: nan, 32: 0.0, 33: nan, 34: nan, 35: nan, 36: nan, 37: 0.0, 38: nan, 39: 0.0, 40: nan, 41: 0.0, 42: nan, 43: nan, 44: 0.0, 45: 0.0, 46: nan, 47: nan, 48: 0.0, 49: nan, 50: 0.0, 51: 0.0, 52: nan, 53: 0.0, 54: 0.0, 55: nan, 56: nan, 57: nan, 58: nan, 59: 0.0, 60: nan, 61: nan, 62: nan, 63: nan, 64: 0.0, 65: nan, 66: nan, 67: 0.0, 68: nan, 69: 0.0, 70: 0.0, 71: nan, 72: 0.0, 73: nan, 74: 0.0, 75: nan, 76: nan, 77: nan, 78: 0.0, 79: nan, 80: nan, 81: nan, 82: nan, 83: nan, 84: 0.0, 85: nan, 86: nan, 87: nan, 88: nan, 89: 0.0, 90: nan, 91: 0.0, 92: 0.0, 93: nan, 94: nan, 95: nan, 96: nan, 97: nan, 98: nan, 99: nan}, 'actual_elapsed_time': {0: 278.0, 1: 83.0, 2: 82.0, 3: 72.0, 4: 162.0, 5: 111.0, 6: 374.0, 7: 71.0, 8: 333.0, 9: 120.0, 10: 247.0, 11: 190.0, 12: 92.0, 13: 211.0, 14: 278.0, 15: 101.0, 16: 84.0, 17: 156.0, 18: 96.0, 19: 54.0, 20: 111.0, 21: 68.0, 22: 155.0, 23: 82.0, 24: 206.0, 25: 132.0, 26: 99.0, 27: 151.0, 28: 122.0, 29: 174.0, 30: 138.0, 31: 76.0, 32: 79.0, 33: 87.0, 34: 84.0, 35: 51.0, 36: 101.0, 37: 75.0, 38: 247.0, 39: 61.0, 40: 109.0, 41: 115.0, 42: 165.0, 43: 64.0, 44: 129.0, 45: 145.0, 46: 118.0, 47: 130.0, 48: 68.0, 49: 70.0, 50: 97.0, 51: 129.0, 52: 84.0, 53: 127.0, 54: 199.0, 55: nan, 56: 152.0, 57: 47.0, 58: 149.0, 59: 80.0, 60: 105.0, 61: 65.0, 62: 221.0, 63: 124.0, 64: 55.0, 65: 156.0, 66: 89.0, 67: 137.0, 68: 78.0, 69: 113.0, 70: 102.0, 71: 72.0, 72: 102.0, 73: 68.0, 74: 201.0, 75: 320.0, 76: 40.0, 77: 54.0, 78: 195.0, 79: 119.0, 80: 80.0, 81: 261.0, 82: 129.0, 83: 249.0, 84: 115.0, 85: 67.0, 86: 111.0, 87: 254.0, 88: nan, 89: 96.0, 90: 189.0, 91: 156.0, 92: 69.0, 93: 110.0, 94: 102.0, 95: nan, 96: nan, 97: nan, 98: nan, 99: nan}}\n"
   ]
  },
  {
   "cell_type": "code",
   "execution_count": 35,
   "id": "e93c9c69",
   "metadata": {},
   "outputs": [],
   "source": [
    "df_company = pd.DataFrame({'company': {0: 'ICBC', 1: 'China Construction Bank', 2: 'Agricultural Bank of China', 3: 'JPMorgan Chase', 4: 'Berkshire Hathaway', 5: 'Exxon Mobil', 6: 'General Electric', 7: 'Wells Fargo', 8: 'Bank of China', 9: 'PetroChina', 10: 'Royal Dutch Shell', 11: 'Toyota Motor', 12: 'Bank of America', 13: 'HSBC Holdings', 14: 'Apple', 15: 'Citigroup', 16: 'BP', 17: 'Chevron', 18: 'Volkswagen Group', 19: 'Wal-Mart Stores', 20: 'Gazprom', 21: 'Samsung Electronics', 22: 'AT&T', 23: 'BNP Paribas', 24: 'Total', 25: 'Verizon Communications', 26: 'Allianz', 27: 'China Mobile', 28: 'Sinopec-China Petroleum', 29: 'Petrobras', 30: 'Daimler', 31: 'Microsoft', 32: 'AXA Group', 33: 'Rosneft', 34: 'IBM', 35: 'Nestle', 36: 'Mitsubishi UFJ Financial', 37: 'Vodafone', 38: 'Eni', 39: 'Procter & Gamble', 40: 'Johnson & Johnson', 41: 'American International Group', 42: 'Banco Santander', 43: 'BHP Billiton', 44: 'Pfizer', 45: 'ItaÃº Unibanco Holding', 46: 'Ford Motor', 47: 'BMW Group', 48: 'Commonwealth Bank', 49: 'EDF', 50: 'Statoil', 51: 'Google', 52: 'Siemens', 53: 'Novartis', 54: 'Royal Bank of Canada', 55: 'Sumitomo Mitsui Financial', 56: 'Comcast', 57: 'Sberbank', 58: 'Goldman Sachs Group', 59: 'Westpac Banking Group', 60: 'Nippon Telegraph & Tel', 61: 'Ping An Insurance Group', 62: 'Banco Bradesco', 63: 'Anheuser-Busch InBev', 64: 'Bank of Communications', 65: 'China Life Insurance', 66: 'General Motors', 67: 'TelefÃ³nica', 68: 'MetLife', 69: 'Honda Motor', 70: 'Enel', 71: 'BASF', 72: 'Softbank', 73: 'National Australia Bank', 74: 'ANZ', 75: 'TD Bank Group', 76: 'ConocoPhillips', 77: 'Intel', 78: 'UBS', 79: 'Hewlett-Packard', 80: 'Coca-Cola', 81: 'Cisco Systems', 82: 'LukOil', 83: 'Boeing', 84: 'Zurich Insurance Group', 85: 'UnitedHealth Group', 86: 'Hyundai Motor', 87: 'Sanofi', 88: 'Credit Agricole', 89: 'United Technologies', 90: 'Roche Holding', 91: 'Munich Re', 92: 'PepsiCo', 93: 'Oracle', 94: 'Bank of Nova Scotia', 95: 'CVS Caremark', 96: 'ING Group', 97: 'Saudi Basic Industries', 98: 'Merck & Co', 99: 'Walt Disney'}, 'sector': {0: 'Financials', 1: 'Financials', 2: 'Financials', 3: 'Financials', 4: 'Financials', 5: 'Energy', 6: 'Industrials', 7: 'Financials', 8: 'Financials', 9: 'Energy', 10: 'Energy', 11: 'Consumer Discretionary', 12: 'Financials', 13: 'Financials', 14: 'Information Technology', 15: 'Financials', 16: 'Energy', 17: 'Energy', 18: 'Consumer Discretionary', 19: 'Consumer Discretionary', 20: 'Energy', 21: 'Information Technology', 22: 'Telecommunication Services', 23: 'Financials', 24: 'Energy', 25: 'Telecommunication Services', 26: 'Financials', 27: 'Telecommunication Services', 28: 'Energy', 29: 'Energy', 30: 'Consumer Discretionary', 31: 'Information Technology', 32: 'Financials', 33: 'Energy', 34: 'Information Technology', 35: 'Consumer Staples', 36: 'Financials', 37: 'Telecommunication Services', 38: 'Energy', 39: 'Consumer Staples', 40: 'Health Care', 41: 'Financials', 42: 'Financials', 43: 'Materials', 44: 'Health Care', 45: 'Financials', 46: 'Consumer Discretionary', 47: 'Consumer Discretionary', 48: 'Financials', 49: 'Utilities', 50: 'Energy', 51: 'Information Technology', 52: 'Industrials', 53: 'Health Care', 54: 'Financials', 55: 'Financials', 56: 'Consumer Discretionary', 57: 'Financials', 58: 'Financials', 59: 'Financials', 60: 'Telecommunication Services', 61: 'Financials', 62: 'Financials', 63: 'Consumer Staples', 64: 'Financials', 65: 'Financials', 66: 'Consumer Discretionary', 67: 'Telecommunication Services', 68: 'Financials', 69: 'Consumer Discretionary', 70: 'Utilities', 71: 'Materials', 72: 'Telecommunication Services', 73: 'Financials', 74: 'Financials', 75: 'Financials', 76: 'Energy', 77: 'Information Technology', 78: 'Financials', 79: 'Information Technology', 80: 'Consumer Staples', 81: 'Information Technology', 82: 'Energy', 83: 'Industrials', 84: 'Financials', 85: 'Health Care', 86: 'Consumer Discretionary', 87: 'Health Care', 88: 'Financials', 89: 'Industrials', 90: 'Health Care', 91: 'Financials', 92: 'Consumer Staples', 93: 'Information Technology', 94: 'Financials', 95: 'Consumer Staples', 96: 'Financials', 97: 'Materials', 98: 'Health Care', 99: 'Consumer Discretionary'}, 'industry': {0: 'Major Banks', 1: 'Regional Banks', 2: 'Regional Banks', 3: 'Major Banks', 4: 'Investment Services', 5: 'Oil & Gas Operations', 6: 'Conglomerates', 7: 'Major Banks', 8: 'Major Banks', 9: 'Oil & Gas Operations', 10: 'Oil & Gas Operations', 11: 'Auto & Truck Manufacturers', 12: 'Major Banks', 13: 'Major Banks', 14: 'Computer Hardware', 15: 'Major Banks', 16: 'Oil & Gas Operations', 17: 'Oil & Gas Operations', 18: 'Auto & Truck Manufacturers', 19: 'Discount Stores', 20: 'Oil & Gas Operations', 21: 'Semiconductors', 22: 'Telecommunications services', 23: 'Major Banks', 24: 'Oil & Gas Operations', 25: 'Telecommunications services', 26: 'Diversified Insurance', 27: 'Telecommunications services', 28: 'Oil & Gas Operations', 29: 'Oil & Gas Operations', 30: 'Auto & Truck Manufacturers', 31: 'Software & Programming', 32: 'Diversified Insurance', 33: 'Oil & Gas Operations', 34: 'Computer Services', 35: 'Food Processing', 36: 'Major Banks', 37: 'Telecommunications services', 38: 'Oil & Gas Operations', 39: 'Household/Personal Care', 40: 'Medical Equipment & Supplies', 41: 'Diversified Insurance', 42: 'Major Banks', 43: 'Diversified Metals & Mining', 44: 'Pharmaceuticals', 45: 'Major Banks', 46: 'Auto & Truck Manufacturers', 47: 'Auto & Truck Manufacturers', 48: 'Major Banks', 49: 'Electric Utilities', 50: 'Oil & Gas Operations', 51: 'Computer Services', 52: 'Conglomerates', 53: 'Pharmaceuticals', 54: 'Major Banks', 55: 'Major Banks', 56: 'Broadcasting & Cable', 57: 'Regional Banks', 58: 'Investment Services', 59: 'Major Banks', 60: 'Telecommunications services', 61: 'Diversified Insurance', 62: 'Regional Banks', 63: 'Beverages', 64: 'Major Banks', 65: 'Life & Health Insurance', 66: 'Auto & Truck Manufacturers', 67: 'Telecommunications services', 68: 'Diversified Insurance', 69: 'Auto & Truck Manufacturers', 70: 'Electric Utilities', 71: 'Diversified Chemicals', 72: 'Telecommunications services', 73: 'Major Banks', 74: 'Major Banks', 75: 'Major Banks', 76: 'Oil & Gas Operations', 77: 'Semiconductors', 78: 'Investment Services', 79: 'Computer Hardware', 80: 'Beverages', 81: 'Communications Equipment', 82: 'Oil & Gas Operations', 83: 'Aerospace & Defense', 84: 'Diversified Insurance', 85: 'Managed Health Care', 86: 'Auto & Truck Manufacturers', 87: 'Pharmaceuticals', 88: 'Major Banks', 89: 'Conglomerates', 90: 'Pharmaceuticals', 91: 'Diversified Insurance', 92: 'Beverages', 93: 'Software & Programming', 94: 'Major Banks', 95: 'Drug Retail', 96: 'Life & Health Insurance', 97: 'Diversified Chemicals', 98: 'Pharmaceuticals', 99: 'Broadcasting & Cable'}, 'continent': {0: 'Asia', 1: 'Asia', 2: 'Asia', 3: 'North America', 4: 'North America', 5: 'North America', 6: 'North America', 7: 'North America', 8: 'Asia', 9: 'Asia', 10: 'Europe', 11: 'Asia', 12: 'North America', 13: 'Europe', 14: 'North America', 15: 'North America', 16: 'Europe', 17: 'North America', 18: 'Europe', 19: 'North America', 20: 'Asia', 21: 'Asia', 22: 'North America', 23: 'Europe', 24: 'Europe', 25: 'North America', 26: 'Europe', 27: 'Asia', 28: 'Asia', 29: 'South America', 30: 'Europe', 31: 'North America', 32: 'Europe', 33: 'Asia', 34: 'North America', 35: 'Europe', 36: 'Asia', 37: 'Europe', 38: 'Europe', 39: 'North America', 40: 'North America', 41: 'North America', 42: 'Europe', 43: 'Australia', 44: 'North America', 45: 'South America', 46: 'North America', 47: 'Europe', 48: 'Australia', 49: 'Europe', 50: 'Europe', 51: 'North America', 52: 'Europe', 53: 'Europe', 54: 'North America', 55: 'Asia', 56: 'North America', 57: 'Asia', 58: 'North America', 59: 'Australia', 60: 'Asia', 61: 'Asia', 62: 'South America', 63: 'Europe', 64: 'Asia', 65: 'Asia', 66: 'North America', 67: 'Europe', 68: 'North America', 69: 'Asia', 70: 'Europe', 71: 'Europe', 72: 'Asia', 73: 'Australia', 74: 'Australia', 75: 'North America', 76: 'North America', 77: 'North America', 78: 'Europe', 79: 'North America', 80: 'North America', 81: 'North America', 82: 'Asia', 83: 'North America', 84: 'Europe', 85: 'North America', 86: 'Asia', 87: 'Europe', 88: 'Europe', 89: 'North America', 90: 'Europe', 91: 'Europe', 92: 'North America', 93: 'North America', 94: 'North America', 95: 'North America', 96: 'Europe', 97: 'Asia', 98: 'North America', 99: 'North America'}, 'country': {0: 'China', 1: 'China', 2: 'China', 3: 'United States', 4: 'United States', 5: 'United States', 6: 'United States', 7: 'United States', 8: 'China', 9: 'China', 10: 'Netherlands', 11: 'Japan', 12: 'United States', 13: 'United Kingdom', 14: 'United States', 15: 'United States', 16: 'United Kingdom', 17: 'United States', 18: 'Germany', 19: 'United States', 20: 'Russia', 21: 'South Korea', 22: 'United States', 23: 'France', 24: 'France', 25: 'United States', 26: 'Germany', 27: 'Hong Kong', 28: 'China', 29: 'Brazil', 30: 'Germany', 31: 'United States', 32: 'France', 33: 'Russia', 34: 'United States', 35: 'Switzerland', 36: 'Japan', 37: 'United Kingdom', 38: 'Italy', 39: 'United States', 40: 'United States', 41: 'United States', 42: 'Spain', 43: 'Australia', 44: 'United States', 45: 'Brazil', 46: 'United States', 47: 'Germany', 48: 'Australia', 49: 'France', 50: 'Norway', 51: 'United States', 52: 'Germany', 53: 'Switzerland', 54: 'Canada', 55: 'Japan', 56: 'United States', 57: 'Russia', 58: 'United States', 59: 'Australia', 60: 'Japan', 61: 'China', 62: 'Brazil', 63: 'Belgium', 64: 'China', 65: 'China', 66: 'United States', 67: 'Spain', 68: 'United States', 69: 'Japan', 70: 'Italy', 71: 'Germany', 72: 'Japan', 73: 'Australia', 74: 'Australia', 75: 'Canada', 76: 'United States', 77: 'United States', 78: 'Switzerland', 79: 'United States', 80: 'United States', 81: 'United States', 82: 'Russia', 83: 'United States', 84: 'Switzerland', 85: 'United States', 86: 'South Korea', 87: 'France', 88: 'France', 89: 'United States', 90: 'Switzerland', 91: 'Germany', 92: 'United States', 93: 'United States', 94: 'Canada', 95: 'United States', 96: 'Netherlands', 97: 'Saudi Arabia', 98: 'United States', 99: 'United States'}, 'marketvalue': {0: 215.6, 1: 174.4, 2: 141.1, 3: 229.7, 4: 309.1, 5: 422.3, 6: 259.6, 7: 261.4, 8: 124.2, 9: 202.0, 10: 234.1, 11: 193.5, 12: 183.3, 13: 192.6, 14: 483.1, 15: 145.1, 16: 148.8, 17: 227.2, 18: 119.0, 19: 247.9, 20: 88.8, 21: 186.5, 22: 182.7, 23: 98.6, 24: 149.8, 25: 197.7, 26: 77.2, 27: 184.6, 28: 94.7, 29: 86.8, 30: 102.9, 31: 343.8, 32: 63.4, 33: 70.0, 34: 202.5, 35: 239.6, 36: 77.7, 37: 96.9, 38: 90.9, 39: 217.8, 40: 277.0, 41: 73.2, 42: 112.3, 43: 182.3, 44: 203.9, 45: 74.9, 46: 64.5, 47: 83.4, 48: 114.5, 49: 75.8, 50: 89.2, 51: 382.5, 52: 114.2, 53: 227.4, 54: 95.7, 55: 58.6, 56: 130.0, 57: 51.5, 58: 75.1, 59: 99.0, 60: 61.0, 61: 66.1, 62: 58.5, 63: 171.2, 64: 48.7, 65: 79.8, 66: 54.6, 67: 71.8, 68: 60.0, 69: 63.0, 70: 53.2, 71: 102.3, 72: 91.2, 73: 75.3, 74: 83.9, 75: 86.2, 76: 86.3, 77: 129.2, 78: 81.0, 79: 63.0, 80: 168.7, 81: 119.0, 82: 47.7, 83: 95.3, 84: 45.8, 85: 81.0, 86: 49.7, 87: 137.1, 88: 41.0, 89: 108.1, 90: 253.7, 91: 38.9, 92: 126.2, 93: 185.0, 94: 71.2, 95: 87.8, 96: 56.1, 97: 94.4, 98: 165.8, 99: 142.9}, 'sales': {0: 148.7, 1: 121.3, 2: 136.4, 3: 105.7, 4: 178.8, 5: 394.0, 6: 143.3, 7: 88.7, 8: 105.1, 9: 328.5, 10: 451.4, 11: 255.6, 12: 101.5, 13: 79.6, 14: 173.8, 15: 94.1, 16: 379.2, 17: 211.8, 18: 261.5, 19: 476.5, 20: 164.6, 21: 208.9, 22: 128.8, 23: 123.2, 24: 227.9, 25: 120.6, 26: 131.4, 27: 102.5, 28: 445.3, 29: 141.2, 30: 156.6, 31: 83.3, 32: 138.9, 33: 142.6, 34: 99.8, 35: 99.4, 36: 48.6, 37: 65.1, 38: 152.7, 39: 84.7, 40: 71.3, 41: 68.1, 42: 52.5, 43: 67.7, 44: 52.7, 45: 67.2, 46: 146.9, 47: 101.0, 48: 41.5, 49: 100.4, 50: 105.2, 51: 59.7, 52: 99.7, 53: 57.9, 54: 37.8, 55: 46.2, 56: 64.7, 57: 56.5, 58: 39.5, 59: 38.4, 60: 110.7, 61: 59.0, 62: 74.1, 63: 43.2, 64: 46.6, 65: 68.4, 66: 155.4, 67: 75.8, 68: 71.0, 69: 117.7, 70: 106.3, 71: 98.2, 72: 55.6, 73: 36.9, 74: 34.0, 75: 31.3, 76: 55.6, 77: 52.7, 78: 39.7, 79: 112.1, 80: 46.3, 81: 47.9, 82: 119.2, 83: 86.6, 84: 71.9, 85: 122.5, 86: 79.8, 87: 43.7, 88: 65.3, 89: 62.7, 90: 50.5, 91: 88.0, 92: 66.4, 93: 37.9, 94: 27.7, 95: 126.8, 96: 34.5, 97: 50.4, 98: 44.1, 99: 46.0}, 'profits': {0: 42.7, 1: 34.2, 2: 27.0, 3: 17.3, 4: 19.5, 5: 32.6, 6: 14.8, 7: 21.9, 8: 25.5, 9: 21.1, 10: 16.4, 11: 18.8, 12: 11.4, 13: 16.3, 14: 37.0, 15: 13.4, 16: 23.6, 17: 21.4, 18: 12.0, 19: 16.0, 20: 39.0, 21: 27.2, 22: 18.2, 23: 6.4, 24: 11.2, 25: 11.5, 26: 8.0, 27: 19.8, 28: 10.9, 29: 10.9, 30: 9.1, 31: 22.8, 32: 6.0, 33: 12.8, 34: 16.5, 35: 10.8, 36: 11.3, 37: 31.8, 38: 6.9, 39: 10.9, 40: 13.8, 41: 9.1, 42: 5.8, 43: 14.8, 44: 22.0, 45: 7.6, 46: 7.2, 47: 7.1, 48: 7.9, 49: 4.5, 50: 6.8, 51: 12.2, 52: 6.0, 53: 9.2, 54: 8.0, 55: 9.7, 56: 6.8, 57: 11.4, 58: 8.0, 59: 6.8, 60: 5.7, 61: 4.6, 62: 5.6, 63: 14.5, 64: 10.1, 65: 4.0, 66: 5.3, 67: 6.1, 68: 3.4, 69: 4.9, 70: 4.3, 71: 6.4, 72: 5.8, 73: 5.4, 74: 6.2, 75: 6.6, 76: 9.2, 77: 9.6, 78: 3.4, 79: 5.3, 80: 8.5, 81: 8.2, 82: 7.8, 83: 4.6, 84: 4.0, 85: 5.6, 86: 7.8, 87: 4.9, 88: 3.3, 89: 5.7, 90: 12.0, 91: 4.4, 92: 6.7, 93: 11.1, 94: 6.3, 95: 4.6, 96: 4.4, 97: 6.7, 98: 4.4, 99: 6.6}, 'assets': {0: 3124.9, 1: 2449.5, 2: 2405.4, 3: 2435.3, 4: 493.4, 5: 346.8, 6: 656.6, 7: 1543.0, 8: 2291.8, 9: 386.9, 10: 357.5, 11: 385.5, 12: 2113.8, 13: 2671.3, 14: 225.2, 15: 1883.4, 16: 305.7, 17: 253.8, 18: 446.9, 19: 204.8, 20: 397.2, 21: 202.8, 22: 277.8, 23: 2480.5, 24: 239.1, 25: 274.1, 26: 963.1, 27: 192.8, 28: 228.4, 29: 319.2, 30: 232.2, 31: 153.5, 32: 1018.9, 33: 229.4, 34: 126.2, 35: 135.4, 36: 2458.9, 37: 235.6, 38: 186.6, 39: 142.9, 40: 132.7, 41: 540.7, 42: 1537.3, 43: 151.0, 44: 172.1, 45: 435.4, 46: 202.0, 47: 190.7, 48: 699.9, 49: 353.9, 50: 146.0, 51: 110.9, 52: 140.1, 53: 126.3, 54: 811.4, 55: 1494.7, 56: 158.8, 57: 554.2, 58: 911.5, 59: 651.4, 60: 189.3, 61: 552.8, 62: 384.9, 63: 141.7, 64: 942.2, 65: 327.2, 66: 166.3, 67: 163.8, 68: 885.3, 69: 147.9, 70: 226.2, 71: 88.7, 72: 156.6, 73: 755.9, 74: 659.7, 75: 815.2, 76: 118.1, 77: 92.4, 78: 1135.5, 79: 105.0, 80: 91.3, 81: 98.4, 82: 109.4, 83: 92.7, 84: 397.1, 85: 81.9, 86: 126.4, 87: 132.4, 88: 2117.7, 89: 90.6, 90: 69.9, 91: 343.1, 92: 77.5, 93: 86.6, 94: 702.1, 95: 71.5, 96: 1488.7, 97: 90.4, 98: 105.6, 99: 83.2}, 'rank': {0: 1, 1: 2, 2: 3, 3: 4, 4: 5, 5: 6, 6: 7, 7: 8, 8: 9, 9: 10, 10: 11, 11: 12, 12: 13, 13: 14, 14: 15, 15: 16, 16: 17, 17: 18, 18: 19, 19: 20, 20: 21, 21: 22, 22: 23, 23: 24, 24: 25, 25: 26, 26: 27, 27: 28, 28: 29, 29: 30, 30: 31, 31: 32, 32: 33, 33: 34, 34: 35, 35: 36, 36: 37, 37: 38, 38: 39, 39: 40, 40: 41, 41: 42, 42: 43, 43: 44, 44: 45, 45: 46, 46: 47, 47: 48, 48: 49, 49: 50, 50: 51, 51: 52, 52: 53, 53: 54, 54: 55, 55: 56, 56: 57, 57: 58, 58: 59, 59: 60, 60: 61, 61: 62, 62: 63, 63: 64, 64: 65, 65: 66, 66: 67, 67: 68, 68: 69, 69: 70, 70: 71, 71: 72, 72: 73, 73: 74, 74: 75, 75: 76, 76: 76, 77: 78, 78: 79, 79: 80, 80: 81, 81: 82, 82: 83, 83: 84, 84: 84, 85: 84, 86: 87, 87: 87, 88: 89, 89: 90, 90: 90, 91: 92, 92: 93, 93: 94, 94: 95, 95: 96, 96: 97, 97: 98, 98: 99, 99: 100}, 'forbeswebpage': {0: 'http://www.forbes.com/companies/icbc/', 1: 'http://www.forbes.com/companies/china-construc...', 2: 'http://www.forbes.com/companies/agricultural-b...', 3: 'http://www.forbes.com/companies/jpmorgan-chase/', 4: 'http://www.forbes.com/companies/berkshire-hath...', 5: 'http://www.forbes.com/companies/exxon-mobil/', 6: 'http://www.forbes.com/companies/general-electric/', 7: 'http://www.forbes.com/companies/wells-fargo/', 8: 'http://www.forbes.com/companies/bank-of-china/', 9: 'http://www.forbes.com/companies/petrochina/', 10: 'http://www.forbes.com/companies/royal-dutch-sh...', 11: 'http://www.forbes.com/companies/toyota-motor/', 12: 'http://www.forbes.com/companies/bank-of-america/', 13: 'http://www.forbes.com/companies/hsbc-holdings/', 14: 'http://www.forbes.com/companies/apple/', 15: 'http://www.forbes.com/companies/citigroup/', 16: 'http://www.forbes.com/companies/bp/', 17: 'http://www.forbes.com/companies/chevron/', 18: 'http://www.forbes.com/companies/volkswagen-group/', 19: 'http://www.forbes.com/companies/wal-mart-stores/', 20: 'http://www.forbes.com/companies/gazprom/', 21: 'http://www.forbes.com/companies/samsung-electr...', 22: 'http://www.forbes.com/companies/att/', 23: 'http://www.forbes.com/companies/bnp-paribas/', 24: 'http://www.forbes.com/companies/total/', 25: 'http://www.forbes.com/companies/verizon-commun...', 26: 'http://www.forbes.com/companies/allianz/', 27: 'http://www.forbes.com/companies/china-mobile/', 28: 'http://www.forbes.com/companies/sinopec-china-...', 29: 'http://www.forbes.com/companies/petrobras/', 30: 'http://www.forbes.com/companies/daimler/', 31: 'http://www.forbes.com/companies/microsoft/', 32: 'http://www.forbes.com/companies/axa-group/', 33: 'http://www.forbes.com/companies/rosneft/', 34: 'http://www.forbes.com/companies/ibm/', 35: 'http://www.forbes.com/companies/nestle/', 36: 'http://www.forbes.com/companies/mitsubishi-ufj...', 37: 'http://www.forbes.com/companies/vodafone/', 38: 'http://www.forbes.com/companies/eni/', 39: 'http://www.forbes.com/companies/procter-gamble/', 40: 'http://www.forbes.com/companies/johnson-johnson/', 41: 'http://www.forbes.com/companies/american-inter...', 42: 'http://www.forbes.com/companies/banco-santander/', 43: 'http://www.forbes.com/companies/bhp-billiton/', 44: 'http://www.forbes.com/companies/pfizer/', 45: 'http://www.forbes.com/companies/itau-unibanco-...', 46: 'http://www.forbes.com/companies/ford-motor/', 47: 'http://www.forbes.com/companies/bmw-group/', 48: 'http://www.forbes.com/companies/commonwealth-b...', 49: 'http://www.forbes.com/companies/edf/', 50: 'http://www.forbes.com/companies/statoil/', 51: 'http://www.forbes.com/companies/google/', 52: 'http://www.forbes.com/companies/siemens/', 53: 'http://www.forbes.com/companies/novartis/', 54: 'http://www.forbes.com/companies/royal-bank-of-...', 55: 'http://www.forbes.com/companies/sumitomo-mitsu...', 56: 'http://www.forbes.com/companies/comcast/', 57: 'http://www.forbes.com/companies/sberbank/', 58: 'http://www.forbes.com/companies/goldman-sachs-...', 59: 'http://www.forbes.com/companies/westpac-banking/', 60: 'http://www.forbes.com/companies/nippon-tel-tel/', 61: 'http://www.forbes.com/companies/ping-an-insura...', 62: 'http://www.forbes.com/companies/banco-bradesco/', 63: 'http://www.forbes.com/companies/anheuser-busch...', 64: 'http://www.forbes.com/companies/bank-of-commun...', 65: 'http://www.forbes.com/companies/china-life-ins...', 66: 'http://www.forbes.com/companies/general-motors/', 67: 'http://www.forbes.com/companies/telefonica/', 68: 'http://www.forbes.com/companies/metlife/', 69: 'http://www.forbes.com/companies/honda-motor/', 70: 'http://www.forbes.com/companies/enel/', 71: 'http://www.forbes.com/companies/basf/', 72: 'http://www.forbes.com/companies/softbank/', 73: 'http://www.forbes.com/companies/national-austr...', 74: 'http://www.forbes.com/companies/anz/', 75: 'http://www.forbes.com/companies/td-bank-group/', 76: 'http://www.forbes.com/companies/conocophillips/', 77: 'http://www.forbes.com/companies/intel/', 78: 'http://www.forbes.com/companies/ubs/', 79: 'http://www.forbes.com/companies/hewlett-packard/', 80: 'http://www.forbes.com/companies/coca-cola/', 81: 'http://www.forbes.com/companies/cisco-systems/', 82: 'http://www.forbes.com/companies/lukoil/', 83: 'http://www.forbes.com/companies/boeing/', 84: 'http://www.forbes.com/companies/zurich-insuran...', 85: 'http://www.forbes.com/companies/unitedhealth-g...', 86: 'http://www.forbes.com/companies/hyundai-motor/', 87: 'http://www.forbes.com/companies/sanofi/', 88: 'http://www.forbes.com/companies/credit-agricole/', 89: 'http://www.forbes.com/companies/united-technol...', 90: 'http://www.forbes.com/companies/roche-holding/', 91: 'http://www.forbes.com/companies/munich-re/', 92: 'http://www.forbes.com/companies/pepsico/', 93: 'http://www.forbes.com/companies/oracle/', 94: 'http://www.forbes.com/companies/bank-of-nova-s...', 95: 'http://www.forbes.com/companies/cvs-caremark/', 96: 'http://www.forbes.com/companies/ing-group/', 97: 'http://www.forbes.com/companies/saudi-basic-in...', 98: 'http://www.forbes.com/companies/merck-co/', 99: 'http://www.forbes.com/companies/walt-disney/'}}\n",
    ")"
   ]
  },
  {
   "cell_type": "code",
   "execution_count": 38,
   "id": "5231a021",
   "metadata": {},
   "outputs": [
    {
     "data": {
      "text/plain": [
       "sector\n",
       "Consumer Discretionary        247.9\n",
       "Consumer Staples              239.6\n",
       "Energy                        422.3\n",
       "Financials                    309.1\n",
       "Health Care                   277.0\n",
       "Industrials                   259.6\n",
       "Information Technology        483.1\n",
       "Materials                     182.3\n",
       "Telecommunication Services    197.7\n",
       "Utilities                      75.8\n",
       "Name: marketvalue, dtype: float64"
      ]
     },
     "execution_count": 38,
     "metadata": {},
     "output_type": "execute_result"
    }
   ],
   "source": [
    "df_company.groupby('sector')['marketvalue'].max()"
   ]
  },
  {
   "cell_type": "code",
   "execution_count": 39,
   "id": "11b2455d",
   "metadata": {},
   "outputs": [
    {
     "data": {
      "text/plain": [
       "sector\n",
       "Consumer Discretionary        49.7\n",
       "Consumer Staples              87.8\n",
       "Energy                        47.7\n",
       "Financials                    38.9\n",
       "Health Care                   81.0\n",
       "Industrials                   95.3\n",
       "Information Technology        63.0\n",
       "Materials                     94.4\n",
       "Telecommunication Services    61.0\n",
       "Utilities                     53.2\n",
       "Name: marketvalue, dtype: float64"
      ]
     },
     "execution_count": 39,
     "metadata": {},
     "output_type": "execute_result"
    }
   ],
   "source": [
    "df_company.groupby('sector')['marketvalue'].min()"
   ]
  },
  {
   "cell_type": "code",
   "execution_count": 40,
   "id": "458396a0",
   "metadata": {},
   "outputs": [
    {
     "name": "stdout",
     "output_type": "stream",
     "text": [
      "<class 'pandas.core.frame.DataFrame'>\n",
      "Int64Index: 100 entries, 0 to 99\n",
      "Data columns (total 11 columns):\n",
      " #   Column         Non-Null Count  Dtype  \n",
      "---  ------         --------------  -----  \n",
      " 0   company        100 non-null    object \n",
      " 1   sector         100 non-null    object \n",
      " 2   industry       100 non-null    object \n",
      " 3   continent      100 non-null    object \n",
      " 4   country        100 non-null    object \n",
      " 5   marketvalue    100 non-null    float64\n",
      " 6   sales          100 non-null    float64\n",
      " 7   profits        100 non-null    float64\n",
      " 8   assets         100 non-null    float64\n",
      " 9   rank           100 non-null    int64  \n",
      " 10  forbeswebpage  100 non-null    object \n",
      "dtypes: float64(4), int64(1), object(6)\n",
      "memory usage: 9.4+ KB\n"
     ]
    }
   ],
   "source": [
    "df_company.info()"
   ]
  },
  {
   "cell_type": "code",
   "execution_count": 49,
   "id": "f5a1d610",
   "metadata": {},
   "outputs": [
    {
     "data": {
      "text/plain": [
       "company          0\n",
       "sector           0\n",
       "industry         0\n",
       "continent        0\n",
       "country          0\n",
       "marketvalue      0\n",
       "sales            0\n",
       "profits          0\n",
       "assets           0\n",
       "rank             0\n",
       "forbeswebpage    0\n",
       "dtype: int64"
      ]
     },
     "execution_count": 49,
     "metadata": {},
     "output_type": "execute_result"
    }
   ],
   "source": [
    "df_company.isna().sum()"
   ]
  },
  {
   "cell_type": "code",
   "execution_count": 46,
   "id": "7b1b1677",
   "metadata": {},
   "outputs": [
    {
     "data": {
      "text/plain": [
       "113.76363636363637"
      ]
     },
     "execution_count": 46,
     "metadata": {},
     "output_type": "execute_result"
    }
   ],
   "source": [
    "df_company[df_company['sector']=='Consumer Discretionary']['marketvalue'].mean()"
   ]
  },
  {
   "cell_type": "markdown",
   "id": "cd5a21c8",
   "metadata": {},
   "source": [
    "<b>number</b> of companies in the information technology sector in each country. output the result together with the corresponding country name. order the result based on the number of companies in descending order.\n"
   ]
  },
  {
   "cell_type": "code",
   "execution_count": 56,
   "id": "77adc509",
   "metadata": {},
   "outputs": [
    {
     "data": {
      "text/plain": [
       "country\n",
       "United States    8\n",
       "South Korea      1\n",
       "Name: company, dtype: int64"
      ]
     },
     "execution_count": 56,
     "metadata": {},
     "output_type": "execute_result"
    }
   ],
   "source": [
    "df_company[df_company['sector']=='Information Technology'].groupby('country')['company'].count().sort_values(ascending=False)"
   ]
  },
  {
   "cell_type": "code",
   "execution_count": 54,
   "id": "28449a02",
   "metadata": {},
   "outputs": [
    {
     "data": {
      "text/html": [
       "<div>\n",
       "<style scoped>\n",
       "    .dataframe tbody tr th:only-of-type {\n",
       "        vertical-align: middle;\n",
       "    }\n",
       "\n",
       "    .dataframe tbody tr th {\n",
       "        vertical-align: top;\n",
       "    }\n",
       "\n",
       "    .dataframe thead th {\n",
       "        text-align: right;\n",
       "    }\n",
       "</style>\n",
       "<table border=\"1\" class=\"dataframe\">\n",
       "  <thead>\n",
       "    <tr style=\"text-align: right;\">\n",
       "      <th></th>\n",
       "      <th>company</th>\n",
       "      <th>sector</th>\n",
       "      <th>industry</th>\n",
       "      <th>continent</th>\n",
       "      <th>country</th>\n",
       "      <th>marketvalue</th>\n",
       "      <th>sales</th>\n",
       "      <th>profits</th>\n",
       "      <th>assets</th>\n",
       "      <th>rank</th>\n",
       "      <th>forbeswebpage</th>\n",
       "    </tr>\n",
       "  </thead>\n",
       "  <tbody>\n",
       "    <tr>\n",
       "      <th>14</th>\n",
       "      <td>Apple</td>\n",
       "      <td>Information Technology</td>\n",
       "      <td>Computer Hardware</td>\n",
       "      <td>North America</td>\n",
       "      <td>United States</td>\n",
       "      <td>483.1</td>\n",
       "      <td>173.8</td>\n",
       "      <td>37.0</td>\n",
       "      <td>225.2</td>\n",
       "      <td>15</td>\n",
       "      <td>http://www.forbes.com/companies/apple/</td>\n",
       "    </tr>\n",
       "    <tr>\n",
       "      <th>21</th>\n",
       "      <td>Samsung Electronics</td>\n",
       "      <td>Information Technology</td>\n",
       "      <td>Semiconductors</td>\n",
       "      <td>Asia</td>\n",
       "      <td>South Korea</td>\n",
       "      <td>186.5</td>\n",
       "      <td>208.9</td>\n",
       "      <td>27.2</td>\n",
       "      <td>202.8</td>\n",
       "      <td>22</td>\n",
       "      <td>http://www.forbes.com/companies/samsung-electr...</td>\n",
       "    </tr>\n",
       "    <tr>\n",
       "      <th>31</th>\n",
       "      <td>Microsoft</td>\n",
       "      <td>Information Technology</td>\n",
       "      <td>Software &amp; Programming</td>\n",
       "      <td>North America</td>\n",
       "      <td>United States</td>\n",
       "      <td>343.8</td>\n",
       "      <td>83.3</td>\n",
       "      <td>22.8</td>\n",
       "      <td>153.5</td>\n",
       "      <td>32</td>\n",
       "      <td>http://www.forbes.com/companies/microsoft/</td>\n",
       "    </tr>\n",
       "    <tr>\n",
       "      <th>34</th>\n",
       "      <td>IBM</td>\n",
       "      <td>Information Technology</td>\n",
       "      <td>Computer Services</td>\n",
       "      <td>North America</td>\n",
       "      <td>United States</td>\n",
       "      <td>202.5</td>\n",
       "      <td>99.8</td>\n",
       "      <td>16.5</td>\n",
       "      <td>126.2</td>\n",
       "      <td>35</td>\n",
       "      <td>http://www.forbes.com/companies/ibm/</td>\n",
       "    </tr>\n",
       "    <tr>\n",
       "      <th>51</th>\n",
       "      <td>Google</td>\n",
       "      <td>Information Technology</td>\n",
       "      <td>Computer Services</td>\n",
       "      <td>North America</td>\n",
       "      <td>United States</td>\n",
       "      <td>382.5</td>\n",
       "      <td>59.7</td>\n",
       "      <td>12.2</td>\n",
       "      <td>110.9</td>\n",
       "      <td>52</td>\n",
       "      <td>http://www.forbes.com/companies/google/</td>\n",
       "    </tr>\n",
       "    <tr>\n",
       "      <th>77</th>\n",
       "      <td>Intel</td>\n",
       "      <td>Information Technology</td>\n",
       "      <td>Semiconductors</td>\n",
       "      <td>North America</td>\n",
       "      <td>United States</td>\n",
       "      <td>129.2</td>\n",
       "      <td>52.7</td>\n",
       "      <td>9.6</td>\n",
       "      <td>92.4</td>\n",
       "      <td>78</td>\n",
       "      <td>http://www.forbes.com/companies/intel/</td>\n",
       "    </tr>\n",
       "    <tr>\n",
       "      <th>79</th>\n",
       "      <td>Hewlett-Packard</td>\n",
       "      <td>Information Technology</td>\n",
       "      <td>Computer Hardware</td>\n",
       "      <td>North America</td>\n",
       "      <td>United States</td>\n",
       "      <td>63.0</td>\n",
       "      <td>112.1</td>\n",
       "      <td>5.3</td>\n",
       "      <td>105.0</td>\n",
       "      <td>80</td>\n",
       "      <td>http://www.forbes.com/companies/hewlett-packard/</td>\n",
       "    </tr>\n",
       "    <tr>\n",
       "      <th>81</th>\n",
       "      <td>Cisco Systems</td>\n",
       "      <td>Information Technology</td>\n",
       "      <td>Communications Equipment</td>\n",
       "      <td>North America</td>\n",
       "      <td>United States</td>\n",
       "      <td>119.0</td>\n",
       "      <td>47.9</td>\n",
       "      <td>8.2</td>\n",
       "      <td>98.4</td>\n",
       "      <td>82</td>\n",
       "      <td>http://www.forbes.com/companies/cisco-systems/</td>\n",
       "    </tr>\n",
       "    <tr>\n",
       "      <th>93</th>\n",
       "      <td>Oracle</td>\n",
       "      <td>Information Technology</td>\n",
       "      <td>Software &amp; Programming</td>\n",
       "      <td>North America</td>\n",
       "      <td>United States</td>\n",
       "      <td>185.0</td>\n",
       "      <td>37.9</td>\n",
       "      <td>11.1</td>\n",
       "      <td>86.6</td>\n",
       "      <td>94</td>\n",
       "      <td>http://www.forbes.com/companies/oracle/</td>\n",
       "    </tr>\n",
       "  </tbody>\n",
       "</table>\n",
       "</div>"
      ],
      "text/plain": [
       "                company                  sector                  industry  \\\n",
       "14                Apple  Information Technology         Computer Hardware   \n",
       "21  Samsung Electronics  Information Technology            Semiconductors   \n",
       "31            Microsoft  Information Technology    Software & Programming   \n",
       "34                  IBM  Information Technology         Computer Services   \n",
       "51               Google  Information Technology         Computer Services   \n",
       "77                Intel  Information Technology            Semiconductors   \n",
       "79      Hewlett-Packard  Information Technology         Computer Hardware   \n",
       "81        Cisco Systems  Information Technology  Communications Equipment   \n",
       "93               Oracle  Information Technology    Software & Programming   \n",
       "\n",
       "        continent        country  marketvalue  sales  profits  assets  rank  \\\n",
       "14  North America  United States        483.1  173.8     37.0   225.2    15   \n",
       "21           Asia    South Korea        186.5  208.9     27.2   202.8    22   \n",
       "31  North America  United States        343.8   83.3     22.8   153.5    32   \n",
       "34  North America  United States        202.5   99.8     16.5   126.2    35   \n",
       "51  North America  United States        382.5   59.7     12.2   110.9    52   \n",
       "77  North America  United States        129.2   52.7      9.6    92.4    78   \n",
       "79  North America  United States         63.0  112.1      5.3   105.0    80   \n",
       "81  North America  United States        119.0   47.9      8.2    98.4    82   \n",
       "93  North America  United States        185.0   37.9     11.1    86.6    94   \n",
       "\n",
       "                                        forbeswebpage  \n",
       "14             http://www.forbes.com/companies/apple/  \n",
       "21  http://www.forbes.com/companies/samsung-electr...  \n",
       "31         http://www.forbes.com/companies/microsoft/  \n",
       "34               http://www.forbes.com/companies/ibm/  \n",
       "51            http://www.forbes.com/companies/google/  \n",
       "77             http://www.forbes.com/companies/intel/  \n",
       "79   http://www.forbes.com/companies/hewlett-packard/  \n",
       "81     http://www.forbes.com/companies/cisco-systems/  \n",
       "93            http://www.forbes.com/companies/oracle/  "
      ]
     },
     "execution_count": 54,
     "metadata": {},
     "output_type": "execute_result"
    }
   ],
   "source": [
    "df_company[df_company['sector']=='Information Technology']"
   ]
  },
  {
   "cell_type": "code",
   "execution_count": 51,
   "id": "9f502339",
   "metadata": {},
   "outputs": [
    {
     "data": {
      "text/plain": [
       "array(['Financials', 'Energy', 'Industrials', 'Consumer Discretionary',\n",
       "       'Information Technology', 'Telecommunication Services',\n",
       "       'Consumer Staples', 'Health Care', 'Materials', 'Utilities'],\n",
       "      dtype=object)"
      ]
     },
     "execution_count": 51,
     "metadata": {},
     "output_type": "execute_result"
    }
   ],
   "source": [
    "df_company.sector.unique()"
   ]
  },
  {
   "cell_type": "markdown",
   "id": "4db1e1fa",
   "metadata": {},
   "source": [
    "list the most beautiful us flights by distance.\n",
    "Output the result along with the corresponding origin, destination, and distance. sort the flights from the longest to the shortest."
   ]
  },
  {
   "cell_type": "code",
   "execution_count": 59,
   "id": "30cd16a2",
   "metadata": {},
   "outputs": [],
   "source": [
    "df_flights = pd.DataFrame(dc_1)"
   ]
  },
  {
   "cell_type": "code",
   "execution_count": 61,
   "id": "4a1e6a38",
   "metadata": {},
   "outputs": [
    {
     "data": {
      "text/html": [
       "<div>\n",
       "<style scoped>\n",
       "    .dataframe tbody tr th:only-of-type {\n",
       "        vertical-align: middle;\n",
       "    }\n",
       "\n",
       "    .dataframe tbody tr th {\n",
       "        vertical-align: top;\n",
       "    }\n",
       "\n",
       "    .dataframe thead th {\n",
       "        text-align: right;\n",
       "    }\n",
       "</style>\n",
       "<table border=\"1\" class=\"dataframe\">\n",
       "  <thead>\n",
       "    <tr style=\"text-align: right;\">\n",
       "      <th></th>\n",
       "      <th>flight_date</th>\n",
       "      <th>unique_carrier</th>\n",
       "      <th>flight_num</th>\n",
       "      <th>origin</th>\n",
       "      <th>dest</th>\n",
       "      <th>arr_delay</th>\n",
       "      <th>cancelled</th>\n",
       "      <th>distance</th>\n",
       "      <th>carier_delay</th>\n",
       "      <th>weather_delay</th>\n",
       "      <th>late_aircraft_delay</th>\n",
       "      <th>nas_delay</th>\n",
       "      <th>security_delay</th>\n",
       "      <th>actual_elapsed_time</th>\n",
       "    </tr>\n",
       "  </thead>\n",
       "  <tbody>\n",
       "    <tr>\n",
       "      <th>0</th>\n",
       "      <td>2015-01-02 00:00:00</td>\n",
       "      <td>VX</td>\n",
       "      <td>231</td>\n",
       "      <td>ORD</td>\n",
       "      <td>LAX</td>\n",
       "      <td>33.0</td>\n",
       "      <td>0</td>\n",
       "      <td>1744</td>\n",
       "      <td>33.0</td>\n",
       "      <td>0.0</td>\n",
       "      <td>0.0</td>\n",
       "      <td>0.0</td>\n",
       "      <td>0.0</td>\n",
       "      <td>278.0</td>\n",
       "    </tr>\n",
       "    <tr>\n",
       "      <th>1</th>\n",
       "      <td>2015-01-02 00:00:00</td>\n",
       "      <td>EV</td>\n",
       "      <td>4736</td>\n",
       "      <td>CLE</td>\n",
       "      <td>EWR</td>\n",
       "      <td>-29.0</td>\n",
       "      <td>0</td>\n",
       "      <td>404</td>\n",
       "      <td>NaN</td>\n",
       "      <td>NaN</td>\n",
       "      <td>NaN</td>\n",
       "      <td>NaN</td>\n",
       "      <td>NaN</td>\n",
       "      <td>83.0</td>\n",
       "    </tr>\n",
       "    <tr>\n",
       "      <th>2</th>\n",
       "      <td>2015-01-09 00:00:00</td>\n",
       "      <td>US</td>\n",
       "      <td>2195</td>\n",
       "      <td>LGA</td>\n",
       "      <td>DCA</td>\n",
       "      <td>-7.0</td>\n",
       "      <td>0</td>\n",
       "      <td>214</td>\n",
       "      <td>NaN</td>\n",
       "      <td>NaN</td>\n",
       "      <td>NaN</td>\n",
       "      <td>NaN</td>\n",
       "      <td>NaN</td>\n",
       "      <td>82.0</td>\n",
       "    </tr>\n",
       "    <tr>\n",
       "      <th>3</th>\n",
       "      <td>2015-01-05 00:00:00</td>\n",
       "      <td>EV</td>\n",
       "      <td>5586</td>\n",
       "      <td>ATL</td>\n",
       "      <td>FAY</td>\n",
       "      <td>-9.0</td>\n",
       "      <td>0</td>\n",
       "      <td>331</td>\n",
       "      <td>NaN</td>\n",
       "      <td>NaN</td>\n",
       "      <td>NaN</td>\n",
       "      <td>NaN</td>\n",
       "      <td>NaN</td>\n",
       "      <td>72.0</td>\n",
       "    </tr>\n",
       "    <tr>\n",
       "      <th>4</th>\n",
       "      <td>2015-01-02 00:00:00</td>\n",
       "      <td>B6</td>\n",
       "      <td>1022</td>\n",
       "      <td>PBI</td>\n",
       "      <td>BOS</td>\n",
       "      <td>-23.0</td>\n",
       "      <td>0</td>\n",
       "      <td>1197</td>\n",
       "      <td>NaN</td>\n",
       "      <td>NaN</td>\n",
       "      <td>NaN</td>\n",
       "      <td>NaN</td>\n",
       "      <td>NaN</td>\n",
       "      <td>162.0</td>\n",
       "    </tr>\n",
       "  </tbody>\n",
       "</table>\n",
       "</div>"
      ],
      "text/plain": [
       "           flight_date unique_carrier  flight_num origin dest  arr_delay  \\\n",
       "0  2015-01-02 00:00:00             VX         231    ORD  LAX       33.0   \n",
       "1  2015-01-02 00:00:00             EV        4736    CLE  EWR      -29.0   \n",
       "2  2015-01-09 00:00:00             US        2195    LGA  DCA       -7.0   \n",
       "3  2015-01-05 00:00:00             EV        5586    ATL  FAY       -9.0   \n",
       "4  2015-01-02 00:00:00             B6        1022    PBI  BOS      -23.0   \n",
       "\n",
       "   cancelled  distance  carier_delay  weather_delay  late_aircraft_delay  \\\n",
       "0          0      1744          33.0            0.0                  0.0   \n",
       "1          0       404           NaN            NaN                  NaN   \n",
       "2          0       214           NaN            NaN                  NaN   \n",
       "3          0       331           NaN            NaN                  NaN   \n",
       "4          0      1197           NaN            NaN                  NaN   \n",
       "\n",
       "   nas_delay  security_delay  actual_elapsed_time  \n",
       "0        0.0             0.0                278.0  \n",
       "1        NaN             NaN                 83.0  \n",
       "2        NaN             NaN                 82.0  \n",
       "3        NaN             NaN                 72.0  \n",
       "4        NaN             NaN                162.0  "
      ]
     },
     "execution_count": 61,
     "metadata": {},
     "output_type": "execute_result"
    }
   ],
   "source": [
    "df_flights.head()"
   ]
  },
  {
   "cell_type": "code",
   "execution_count": 2,
   "id": "cd841890",
   "metadata": {},
   "outputs": [
    {
     "ename": "NameError",
     "evalue": "name 'df_flights' is not defined",
     "output_type": "error",
     "traceback": [
      "\u001b[1;31m---------------------------------------------------------------------------\u001b[0m",
      "\u001b[1;31mNameError\u001b[0m                                 Traceback (most recent call last)",
      "Input \u001b[1;32mIn [2]\u001b[0m, in \u001b[0;36m<cell line: 1>\u001b[1;34m()\u001b[0m\n\u001b[1;32m----> 1\u001b[0m \u001b[43mdf_flights\u001b[49m[[\u001b[38;5;124m'\u001b[39m\u001b[38;5;124morigin\u001b[39m\u001b[38;5;124m'\u001b[39m,\u001b[38;5;124m'\u001b[39m\u001b[38;5;124mdest\u001b[39m\u001b[38;5;124m'\u001b[39m,\u001b[38;5;124m'\u001b[39m\u001b[38;5;124mdistance\u001b[39m\u001b[38;5;124m'\u001b[39m]]\u001b[38;5;241m.\u001b[39msort_values(by\u001b[38;5;241m=\u001b[39m\u001b[38;5;124m'\u001b[39m\u001b[38;5;124mdistance\u001b[39m\u001b[38;5;124m'\u001b[39m,ascending\u001b[38;5;241m=\u001b[39m\u001b[38;5;28;01mFalse\u001b[39;00m)\u001b[38;5;241m.\u001b[39mhead()\n",
      "\u001b[1;31mNameError\u001b[0m: name 'df_flights' is not defined"
     ]
    }
   ],
   "source": [
    "df_flights[['origin','dest','distance']].sort_values(by='distance',ascending=False).head()"
   ]
  },
  {
   "cell_type": "code",
   "execution_count": 64,
   "id": "7b3aba46",
   "metadata": {},
   "outputs": [],
   "source": [
    "from numpy import nan"
   ]
  },
  {
   "cell_type": "code",
   "execution_count": 1,
   "id": "76052cd4",
   "metadata": {},
   "outputs": [
    {
     "ename": "NameError",
     "evalue": "name 'nan' is not defined",
     "output_type": "error",
     "traceback": [
      "\u001b[1;31m---------------------------------------------------------------------------\u001b[0m",
      "\u001b[1;31mNameError\u001b[0m                                 Traceback (most recent call last)",
      "Input \u001b[1;32mIn [1]\u001b[0m, in \u001b[0;36m<cell line: 1>\u001b[1;34m()\u001b[0m\n\u001b[1;32m----> 1\u001b[0m \u001b[43mnan\u001b[49m\n",
      "\u001b[1;31mNameError\u001b[0m: name 'nan' is not defined"
     ]
    }
   ],
   "source": [
    "nan"
   ]
  },
  {
   "cell_type": "code",
   "execution_count": null,
   "id": "6019067d",
   "metadata": {},
   "outputs": [],
   "source": []
  }
 ],
 "metadata": {
  "kernelspec": {
   "display_name": "Python 3 (ipykernel)",
   "language": "python",
   "name": "python3"
  },
  "language_info": {
   "codemirror_mode": {
    "name": "ipython",
    "version": 3
   },
   "file_extension": ".py",
   "mimetype": "text/x-python",
   "name": "python",
   "nbconvert_exporter": "python",
   "pygments_lexer": "ipython3",
   "version": "3.10.6"
  }
 },
 "nbformat": 4,
 "nbformat_minor": 5
}
